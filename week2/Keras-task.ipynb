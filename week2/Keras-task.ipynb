{
 "cells": [
  {
   "cell_type": "markdown",
   "metadata": {},
   "source": [
    "# Getting deeper with Keras\n",
    "* Tensorflow is a powerful and flexible tool, but coding large neural architectures with it is tedious.\n",
    "* There are plenty of deep learning toolkits that work on top of it like Slim, TFLearn, Sonnet, Keras.\n",
    "* Choice is matter of taste and particular task\n",
    "* We'll be using Keras"
   ]
  },
  {
   "cell_type": "code",
   "execution_count": 1,
   "metadata": {},
   "outputs": [],
   "source": [
    "import sys\n",
    "sys.path.append(\"..\")\n",
    "import grading"
   ]
  },
  {
   "cell_type": "code",
   "execution_count": 2,
   "metadata": {
    "collapsed": true
   },
   "outputs": [
    {
     "name": "stderr",
     "output_type": "stream",
     "text": [
      "ЋиЁЎЄ  ў бЁ­в ЄбЁбҐ Є®¬ ­¤л.\n",
      "ЋиЁЎЄ  ў бЁ­в ЄбЁбҐ Є®¬ ­¤л.\n",
      "\"ln\" ­Ґ пў«пҐвбп ў­гваҐ­­Ґ© Ё«Ё ў­Ґи­Ґ©\n",
      "Є®¬ ­¤®©, ЁбЇ®«­пҐ¬®© Їа®Ја ¬¬®© Ё«Ё Ї ЄҐв­л¬ д ©«®¬.\n",
      "\"ln\" ­Ґ пў«пҐвбп ў­гваҐ­­Ґ© Ё«Ё ў­Ґи­Ґ©\n",
      "Є®¬ ­¤®©, ЁбЇ®«­пҐ¬®© Їа®Ја ¬¬®© Ё«Ё Ї ЄҐв­л¬ д ©«®¬.\n"
     ]
    }
   ],
   "source": [
    "# use preloaded keras datasets and models\n",
    "! mkdir -p ~/.keras/datasets\n",
    "! mkdir -p ~/.keras/models\n",
    "! ln -s $(realpath ../readonly/keras/datasets/*) ~/.keras/datasets/\n",
    "! ln -s $(realpath ../readonly/keras/models/*) ~/.keras/models/"
   ]
  },
  {
   "cell_type": "code",
   "execution_count": 3,
   "metadata": {},
   "outputs": [
    {
     "name": "stderr",
     "output_type": "stream",
     "text": [
      "Using TensorFlow backend.\n"
     ]
    }
   ],
   "source": [
    "import numpy as np\n",
    "from preprocessed_mnist import load_dataset\n",
    "import keras\n",
    "X_train, y_train, X_val, y_val, X_test, y_test = load_dataset()\n",
    "y_train,y_val,y_test = map(keras.utils.np_utils.to_categorical,[y_train,y_val,y_test])"
   ]
  },
  {
   "cell_type": "code",
   "execution_count": 4,
   "metadata": {
    "scrolled": true
   },
   "outputs": [
    {
     "data": {
      "image/png": "[encoded data removed]",
      "text/plain": [
       "<matplotlib.figure.Figure at 0xfe57f11390>"
      ]
     },
     "metadata": {},
     "output_type": "display_data"
    }
   ],
   "source": [
    "import matplotlib.pyplot as plt\n",
    "%matplotlib inline\n",
    "plt.imshow(X_train[0]);"
   ]
  },
  {
   "cell_type": "markdown",
   "metadata": {},
   "source": [
    "## The pretty keras"
   ]
  },
  {
   "cell_type": "code",
   "execution_count": 5,
   "metadata": {},
   "outputs": [],
   "source": [
    "import tensorflow as tf\n",
    "s = tf.InteractiveSession()"
   ]
  },
  {
   "cell_type": "code",
   "execution_count": 64,
   "metadata": {},
   "outputs": [],
   "source": [
    "import keras\n",
    "from keras.models import Sequential\n",
    "import keras.layers as ll\n",
    "\n",
    "model = Sequential(name=\"mlp\")\n",
    "\n",
    "model.add(ll.InputLayer([28, 28]))\n",
    "\n",
    "model.add(ll.Flatten())\n",
    "\n",
    "# network body\n",
    "model.add(ll.Dense(200))\n",
    "model.add(ll.Activation('softplus'))\n",
    "\n",
    "model.add(ll.Dense(200))\n",
    "model.add(ll.Activation('softplus'))\n",
    "\n",
    "model.add(ll.Dense(200))\n",
    "model.add(ll.Activation('softplus'))\n",
    "\n",
    "model.add(ll.Dense(200))\n",
    "model.add(ll.Activation('softplus'))\n",
    "\n",
    "# output layer: 10 neurons for each class with softmax\n",
    "model.add(ll.Dense(10, activation='softmax'))\n",
    "\n",
    "# categorical_crossentropy is your good old crossentropy\n",
    "# but applied for one-hot-encoded vectors\n",
    "model.compile(\"adam\", \"categorical_crossentropy\", metrics=[\"accuracy\"])"
   ]
  },
  {
   "cell_type": "code",
   "execution_count": 65,
   "metadata": {},
   "outputs": [
    {
     "name": "stdout",
     "output_type": "stream",
     "text": [
      "_________________________________________________________________\n",
      "Layer (type)                 Output Shape              Param #   \n",
      "=================================================================\n",
      "input_8 (InputLayer)         (None, 28, 28)            0         \n",
      "_________________________________________________________________\n",
      "flatten_8 (Flatten)          (None, 784)               0         \n",
      "_________________________________________________________________\n",
      "dense_29 (Dense)             (None, 200)               157000    \n",
      "_________________________________________________________________\n",
      "activation_22 (Activation)   (None, 200)               0         \n",
      "_________________________________________________________________\n",
      "dense_30 (Dense)             (None, 200)               40200     \n",
      "_________________________________________________________________\n",
      "activation_23 (Activation)   (None, 200)               0         \n",
      "_________________________________________________________________\n",
      "dense_31 (Dense)             (None, 200)               40200     \n",
      "_________________________________________________________________\n",
      "activation_24 (Activation)   (None, 200)               0         \n",
      "_________________________________________________________________\n",
      "dense_32 (Dense)             (None, 200)               40200     \n",
      "_________________________________________________________________\n",
      "activation_25 (Activation)   (None, 200)               0         \n",
      "_________________________________________________________________\n",
      "dense_33 (Dense)             (None, 10)                2010      \n",
      "=================================================================\n",
      "Total params: 279,610\n",
      "Trainable params: 279,610\n",
      "Non-trainable params: 0\n",
      "_________________________________________________________________\n"
     ]
    }
   ],
   "source": [
    "model.summary()"
   ]
  },
  {
   "cell_type": "markdown",
   "metadata": {},
   "source": [
    "### Model interface\n",
    "\n",
    "Keras models follow __Scikit-learn__'s interface of fit/predict with some notable extensions. Let's take a tour."
   ]
  },
  {
   "cell_type": "code",
   "execution_count": 66,
   "metadata": {},
   "outputs": [
    {
     "name": "stdout",
     "output_type": "stream",
     "text": [
      "Train on 50000 samples, validate on 10000 samples\n",
      "Epoch 1/20\n",
      "50000/50000 [==============================] - 11s - loss: 0.3551 - acc: 0.8878 - val_loss: 0.1516 - val_acc: 0.9547\n",
      "Epoch 2/20\n",
      "50000/50000 [==============================] - 10s - loss: 0.1511 - acc: 0.9531 - val_loss: 0.1113 - val_acc: 0.9666\n",
      "Epoch 3/20\n",
      "50000/50000 [==============================] - 10s - loss: 0.1060 - acc: 0.9671 - val_loss: 0.1153 - val_acc: 0.9661\n",
      "Epoch 4/20\n",
      "50000/50000 [==============================] - 10s - loss: 0.0806 - acc: 0.9746 - val_loss: 0.0902 - val_acc: 0.9757\n",
      "Epoch 5/20\n",
      "50000/50000 [==============================] - 10s - loss: 0.0635 - acc: 0.9798 - val_loss: 0.0853 - val_acc: 0.9772\n",
      "Epoch 6/20\n",
      "50000/50000 [==============================] - 10s - loss: 0.0517 - acc: 0.9840 - val_loss: 0.0802 - val_acc: 0.9790\n",
      "Epoch 7/20\n",
      "50000/50000 [==============================] - 10s - loss: 0.0413 - acc: 0.9871 - val_loss: 0.0859 - val_acc: 0.9779\n",
      "Epoch 8/20\n",
      "50000/50000 [==============================] - 10s - loss: 0.0361 - acc: 0.9882 - val_loss: 0.1283 - val_acc: 0.9690\n",
      "Epoch 9/20\n",
      "50000/50000 [==============================] - 10s - loss: 0.0307 - acc: 0.9900 - val_loss: 0.0975 - val_acc: 0.9748\n",
      "Epoch 10/20\n",
      "50000/50000 [==============================] - 10s - loss: 0.0247 - acc: 0.9920 - val_loss: 0.0998 - val_acc: 0.9773\n",
      "Epoch 11/20\n",
      "50000/50000 [==============================] - 10s - loss: 0.0222 - acc: 0.9933 - val_loss: 0.1246 - val_acc: 0.9746\n",
      "Epoch 12/20\n",
      "50000/50000 [==============================] - 10s - loss: 0.0216 - acc: 0.9931 - val_loss: 0.1086 - val_acc: 0.9772\n",
      "Epoch 13/20\n",
      "50000/50000 [==============================] - 10s - loss: 0.0168 - acc: 0.9946 - val_loss: 0.1276 - val_acc: 0.9751\n",
      "Epoch 14/20\n",
      "50000/50000 [==============================] - 10s - loss: 0.0168 - acc: 0.9948 - val_loss: 0.1338 - val_acc: 0.9765\n",
      "Epoch 15/20\n",
      "50000/50000 [==============================] - 10s - loss: 0.0182 - acc: 0.9945 - val_loss: 0.1264 - val_acc: 0.9741\n",
      "Epoch 16/20\n",
      "50000/50000 [==============================] - 10s - loss: 0.0129 - acc: 0.9961 - val_loss: 0.1212 - val_acc: 0.9793\n",
      "Epoch 17/20\n",
      "50000/50000 [==============================] - 10s - loss: 0.0152 - acc: 0.9958 - val_loss: 0.1090 - val_acc: 0.9807\n",
      "Epoch 18/20\n",
      "50000/50000 [==============================] - 10s - loss: 0.0130 - acc: 0.9964 - val_loss: 0.1031 - val_acc: 0.9789\n",
      "Epoch 19/20\n",
      "50000/50000 [==============================] - 10s - loss: 0.0104 - acc: 0.9969 - val_loss: 0.1079 - val_acc: 0.9809\n",
      "Epoch 20/20\n",
      "50000/50000 [==============================] - 10s - loss: 0.0127 - acc: 0.9964 - val_loss: 0.1187 - val_acc: 0.9783\n"
     ]
    }
   ],
   "source": [
    "# fit(X,y) ships with a neat automatic logging.\n",
    "#          Highly customizable under the hood.\n",
    "model.fit(X_train, y_train,\n",
    "          validation_data=(X_val, y_val), epochs=20);"
   ]
  },
  {
   "cell_type": "code",
   "execution_count": 67,
   "metadata": {},
   "outputs": [
    {
     "name": "stdout",
     "output_type": "stream",
     "text": [
      "2/2 [==============================] - 0s\n"
     ]
    },
    {
     "data": {
      "text/plain": [
       "array([[  7.51270027e-28,   9.34169187e-19,   1.18407278e-16,\n",
       "          1.00000000e+00,   1.75120428e-28,   1.62306567e-17,\n",
       "          3.75235891e-36,   4.01118474e-17,   2.30905788e-19,\n",
       "          4.05179398e-20],\n",
       "       [  3.76457514e-08,   7.44629176e-08,   4.32197812e-05,\n",
       "          4.11691218e-07,   2.54493426e-10,   6.25113850e-10,\n",
       "          2.18006363e-10,   7.39967277e-07,   9.99955416e-01,\n",
       "          1.67834543e-07]], dtype=float32)"
      ]
     },
     "execution_count": 67,
     "metadata": {},
     "output_type": "execute_result"
    }
   ],
   "source": [
    "# estimate probabilities P(y|x)\n",
    "model.predict_proba(X_val[:2])"
   ]
  },
  {
   "cell_type": "code",
   "execution_count": 68,
   "metadata": {},
   "outputs": [],
   "source": [
    "# Save trained weights\n",
    "model.save(\"weights.h5\")"
   ]
  },
  {
   "cell_type": "code",
   "execution_count": 69,
   "metadata": {},
   "outputs": [
    {
     "name": "stdout",
     "output_type": "stream",
     "text": [
      " 9344/10000 [===========================>..] - ETA: 0s\n",
      "Loss, Accuracy =  [0.11317606745283156, 0.9768]\n"
     ]
    }
   ],
   "source": [
    "print(\"\\nLoss, Accuracy = \", model.evaluate(X_test, y_test))"
   ]
  },
  {
   "cell_type": "markdown",
   "metadata": {},
   "source": [
    "### Whoops!\n",
    "So far our model is staggeringly inefficient. There is something wring with it. Guess, what?"
   ]
  },
  {
   "cell_type": "code",
   "execution_count": 60,
   "metadata": {},
   "outputs": [
    {
     "name": "stdout",
     "output_type": "stream",
     "text": [
      " 9824/10000 [============================>.] - ETA: 0s\n",
      "Test accuracy: 97.95 %\n",
      "Great job!\n"
     ]
    }
   ],
   "source": [
    "# Test score...\n",
    "test_predictions = model.predict_proba(X_test).argmax(axis=-1)\n",
    "test_answers = y_test.argmax(axis=-1)\n",
    "\n",
    "test_accuracy = np.mean(test_predictions==test_answers)\n",
    "\n",
    "print(\"\\nTest accuracy: {} %\".format(test_accuracy*100))\n",
    "\n",
    "assert test_accuracy>=0.92,\"Logistic regression can do better!\"\n",
    "assert test_accuracy>=0.975,\"Your network can do better!\"\n",
    "print(\"Great job!\")"
   ]
  },
  {
   "cell_type": "code",
   "execution_count": 61,
   "metadata": {},
   "outputs": [],
   "source": [
    "answer_submitter = grading.Grader(\"0ybD9ZxxEeea8A6GzH-6CA\")\n",
    "answer_submitter.set_answer(\"N56DR\", test_accuracy)"
   ]
  },
  {
   "cell_type": "code",
   "execution_count": 62,
   "metadata": {},
   "outputs": [
    {
     "name": "stdout",
     "output_type": "stream",
     "text": [
      "Submitted to Coursera platform. See results on assignment page!\n"
     ]
    }
   ],
   "source": [
    "answer_submitter.submit('kleinekrokodil@yandex.ru', 'b65Xe9sLTqF6VSbn')"
   ]
  },
  {
   "cell_type": "markdown",
   "metadata": {},
   "source": [
    "## Keras + tensorboard\n",
    "\n",
    "Remember the interactive graphs from Tensorboard one notebook ago? \n",
    "\n",
    "Thing is, Keras can use tensorboard to show you a lot of useful information about the learning progress. Just take a look!"
   ]
  },
  {
   "cell_type": "code",
   "execution_count": null,
   "metadata": {
    "collapsed": true
   },
   "outputs": [],
   "source": [
    "! rm -r /tmp/tboard/**"
   ]
  },
  {
   "cell_type": "code",
   "execution_count": 70,
   "metadata": {},
   "outputs": [
    {
     "name": "stdout",
     "output_type": "stream",
     "text": [
      "Train on 50000 samples, validate on 10000 samples\n",
      "Epoch 1/10\n",
      "50000/50000 [==============================] - 12s - loss: 0.0105 - acc: 0.9969 - val_loss: 0.1319 - val_acc: 0.9795\n",
      "Epoch 2/10\n",
      "50000/50000 [==============================] - 11s - loss: 0.0119 - acc: 0.9969 - val_loss: 0.1209 - val_acc: 0.9789\n",
      "Epoch 3/10\n",
      "50000/50000 [==============================] - 11s - loss: 0.0074 - acc: 0.9978 - val_loss: 0.1391 - val_acc: 0.9798\n",
      "Epoch 4/10\n",
      "50000/50000 [==============================] - 11s - loss: 0.0110 - acc: 0.9970 - val_loss: 0.1142 - val_acc: 0.9815\n",
      "Epoch 5/10\n",
      "50000/50000 [==============================] - 11s - loss: 0.0110 - acc: 0.9973 - val_loss: 0.1481 - val_acc: 0.9785\n",
      "Epoch 6/10\n",
      "50000/50000 [==============================] - 11s - loss: 0.0109 - acc: 0.9974 - val_loss: 0.1244 - val_acc: 0.9799\n",
      "Epoch 7/10\n",
      "50000/50000 [==============================] - 11s - loss: 0.0087 - acc: 0.9975 - val_loss: 0.1346 - val_acc: 0.9810\n",
      "Epoch 8/10\n",
      "50000/50000 [==============================] - 11s - loss: 0.0075 - acc: 0.9977 - val_loss: 0.1634 - val_acc: 0.9768\n",
      "Epoch 9/10\n",
      "50000/50000 [==============================] - 11s - loss: 0.0087 - acc: 0.9981 - val_loss: 0.1301 - val_acc: 0.9814\n",
      "Epoch 10/10\n",
      "50000/50000 [==============================] - 10s - loss: 0.0135 - acc: 0.9973 - val_loss: 0.1264 - val_acc: 0.9796\n"
     ]
    },
    {
     "data": {
      "text/plain": [
       "<keras.callbacks.History at 0xfe6e6a7240>"
      ]
     },
     "execution_count": 70,
     "metadata": {},
     "output_type": "execute_result"
    }
   ],
   "source": [
    "from keras.callbacks import TensorBoard\n",
    "model.fit(X_train, y_train, validation_data=(X_val, y_val), \n",
    "          epochs=10,\n",
    "          callbacks=[TensorBoard(\"/tmp/tboard\")])"
   ]
  },
  {
   "cell_type": "markdown",
   "metadata": {},
   "source": [
    "# Tips & tricks\n",
    "\n",
    "Here are some tips on what you could do. Don't worry, to reach the passing threshold you don't need to try all the ideas listed here, feel free to stop once you reach the 0.975 accuracy mark.\n",
    "\n",
    " * __Network size__\n",
    "   * More neurons, \n",
    "   * More layers, ([docs](https://keras.io/))\n",
    "\n",
    "   * Nonlinearities in the hidden layers\n",
    "     * tanh, relu, leaky relu, etc\n",
    "   * Larger networks may take more epochs to train, so don't discard your net just because it could didn't beat the baseline in 5 epochs.\n",
    "\n",
    "\n",
    " * __Early Stopping__\n",
    "   * Training for 100 epochs regardless of anything is probably a bad idea.\n",
    "   * Some networks converge over 5 epochs, others - over 500.\n",
    "   * Way to go: stop when validation score is 10 iterations past maximum\n",
    "     \n",
    "\n",
    " * __Faster optimization__\n",
    "   * rmsprop, nesterov_momentum, adam, adagrad and so on.\n",
    "     * Converge faster and sometimes reach better optima\n",
    "     * It might make sense to tweak learning rate/momentum, other learning parameters, batch size and number of epochs\n",
    "\n",
    "\n",
    " * __Regularize__ to prevent overfitting\n",
    "   * Add some L2 weight norm to the loss function, theano will do the rest\n",
    "     * Can be done manually or via - https://keras.io/regularizers/\n",
    "   \n",
    "   \n",
    " * __Data augmemntation__ - getting 5x as large dataset for free is a great deal\n",
    "   * https://keras.io/preprocessing/image/\n",
    "   * Zoom-in+slice = move\n",
    "   * Rotate+zoom(to remove black stripes)\n",
    "   * any other perturbations\n",
    "   * Simple way to do that (if you have PIL/Image): \n",
    "     * ```from scipy.misc import imrotate,imresize```\n",
    "     * and a few slicing\n",
    "   * Stay realistic. There's usually no point in flipping dogs upside down as that is not the way you usually see them."
   ]
  }
 ],
 "metadata": {
  "kernelspec": {
   "display_name": "Python 3",
   "language": "python",
   "name": "python3"
  },
  "language_info": {
   "codemirror_mode": {
    "name": "ipython",
    "version": 3
   },
   "file_extension": ".py",
   "mimetype": "text/x-python",
   "name": "python",
   "nbconvert_exporter": "python",
   "pygments_lexer": "ipython3",
   "version": "3.6.2"
  },
  "toc": {
   "colors": {
    "hover_highlight": "#DAA520",
    "navigate_num": "#000000",
    "navigate_text": "#333333",
    "running_highlight": "#FF0000",
    "selected_highlight": "#FFD700",
    "sidebar_border": "#EEEEEE",
    "wrapper_background": "#FFFFFF"
   },
   "moveMenuLeft": true,
   "nav_menu": {
    "height": "120px",
    "width": "252px"
   },
   "navigate_menu": true,
   "number_sections": true,
   "sideBar": true,
   "threshold": 4,
   "toc_cell": false,
   "toc_section_display": "block",
   "toc_window_display": false,
   "widenNotebook": false
  }
 },
 "nbformat": 4,
 "nbformat_minor": 1
}
