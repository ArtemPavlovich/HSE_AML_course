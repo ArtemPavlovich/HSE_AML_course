{
 "cells": [
  {
   "cell_type": "markdown",
   "metadata": {
    "slideshow": {
     "slide_type": "slide"
    }
   },
   "source": [
    "# Going deeper with Tensorflow\n",
    "\n",
    "In this video, we're going to study the tools you'll use to build deep learning models. Namely, [Tensorflow](https://www.tensorflow.org/).\n",
    "\n",
    "If you're running this notebook outside the course environment, you'll need to install tensorflow:\n",
    "* `pip install tensorflow` should install cpu-only TF on Linux & Mac OS\n",
    "* If you want GPU support from offset, see [TF install page](https://www.tensorflow.org/install/)"
   ]
  },
  {
   "cell_type": "code",
   "execution_count": 75,
   "metadata": {},
   "outputs": [],
   "source": [
    "import sys\n",
    "sys.path.append(\"..\")\n",
    "import grading"
   ]
  },
  {
   "cell_type": "markdown",
   "metadata": {},
   "source": [
    "# Visualization"
   ]
  },
  {
   "cell_type": "markdown",
   "metadata": {},
   "source": [
    "Plase note that if you are running on the Coursera platform, you won't be able to access the tensorboard instance due to the network setup there. If you run the notebook locally, you should be able to access TensorBoard on http://127.0.0.1:7007/"
   ]
  },
  {
   "cell_type": "code",
   "execution_count": null,
   "metadata": {},
   "outputs": [],
   "source": [
    "#! killall tensorboard\n",
    "import os\n",
    "#os.system(\"tensorboard --logdir=/tmp/tboard --port=7007 &\");"
   ]
  },
  {
   "cell_type": "code",
   "execution_count": 2,
   "metadata": {},
   "outputs": [],
   "source": [
    "import tensorflow as tf\n",
    "s = tf.InteractiveSession()"
   ]
  },
  {
   "cell_type": "markdown",
   "metadata": {},
   "source": [
    "# Warming up\n",
    "For starters, let's implement a python function that computes the sum of squares of numbers from 0 to N-1."
   ]
  },
  {
   "cell_type": "code",
   "execution_count": 4,
   "metadata": {},
   "outputs": [],
   "source": [
    "import numpy as np\n",
    "def sum_sin(N):\n",
    "    return np.sum(np.arange(N)**2)"
   ]
  },
  {
   "cell_type": "code",
   "execution_count": 10,
   "metadata": {},
   "outputs": [
    {
     "name": "stdout",
     "output_type": "stream",
     "text": [
      "Wall time: 1.22 s\n"
     ]
    },
    {
     "data": {
      "text/plain": [
       "3.333333283333095e+23"
      ]
     },
     "execution_count": 10,
     "metadata": {},
     "output_type": "execute_result"
    }
   ],
   "source": [
    "%%time\n",
    "sum_sin(10.0**8)"
   ]
  },
  {
   "cell_type": "markdown",
   "metadata": {},
   "source": [
    "# Tensoflow teaser\n",
    "\n",
    "Doing the very same thing"
   ]
  },
  {
   "cell_type": "code",
   "execution_count": 11,
   "metadata": {},
   "outputs": [],
   "source": [
    "# An integer parameter\n",
    "N = tf.placeholder('int64', name=\"input_to_your_function\")\n",
    "\n",
    "# A recipe on how to produce the same result\n",
    "result = tf.reduce_sum(tf.range(N)**2)"
   ]
  },
  {
   "cell_type": "code",
   "execution_count": 12,
   "metadata": {},
   "outputs": [
    {
     "data": {
      "text/plain": [
       "<tf.Tensor 'Sum_1:0' shape=() dtype=int64>"
      ]
     },
     "execution_count": 12,
     "metadata": {},
     "output_type": "execute_result"
    }
   ],
   "source": [
    "result"
   ]
  },
  {
   "cell_type": "code",
   "execution_count": 13,
   "metadata": {},
   "outputs": [
    {
     "name": "stdout",
     "output_type": "stream",
     "text": [
      "Wall time: 613 ms\n"
     ]
    },
    {
     "data": {
      "text/plain": [
       "662921401752298880"
      ]
     },
     "execution_count": 13,
     "metadata": {},
     "output_type": "execute_result"
    }
   ],
   "source": [
    "%%time\n",
    "result.eval({N: 10**8})"
   ]
  },
  {
   "cell_type": "code",
   "execution_count": 4,
   "metadata": {},
   "outputs": [],
   "source": [
    "writer = tf.summary.FileWriter(\"/tmp/tboard\", graph=s.graph)"
   ]
  },
  {
   "cell_type": "markdown",
   "metadata": {},
   "source": [
    "# How does it work?\n",
    "1. Define placeholders where you'll send inputs\n",
    "2. Make symbolic graph: a recipe for mathematical transformation of those placeholders\n",
    "3. Compute outputs of your graph with particular values for each placeholder\n",
    "  * `output.eval({placeholder:value})`\n",
    "  * `s.run(output, {placeholder:value})`\n",
    "\n",
    "So far there are two main entities: \"placeholder\" and \"transformation\"\n",
    "* Both can be numbers, vectors, matrices, tensors, etc.\n",
    "* Both can be int32/64, floats, booleans (uint8) of various size.\n",
    "\n",
    "* You can define new transformations as an arbitrary operation on placeholders and other transformations\n",
    " * `tf.reduce_sum(tf.arange(N)**2)` are 3 sequential transformations of placeholder `N`\n",
    " * There's a tensorflow symbolic version for every numpy function\n",
    "   * `a+b, a/b, a**b, ...` behave just like in numpy\n",
    "   * `np.mean` -> `tf.reduce_mean`\n",
    "   * `np.arange` -> `tf.range`\n",
    "   * `np.cumsum` -> `tf.cumsum`\n",
    "   * If if you can't find the op you need, see the [docs](https://www.tensorflow.org/api_docs/python).\n",
    "   \n",
    "`tf.contrib` has many high-level features, may be worth a look."
   ]
  },
  {
   "cell_type": "code",
   "execution_count": 15,
   "metadata": {},
   "outputs": [],
   "source": [
    "with tf.name_scope(\"Placeholders_examples\"):\n",
    "    # Default placeholder that can be arbitrary float32\n",
    "    # scalar, vertor, matrix, etc.\n",
    "    arbitrary_input = tf.placeholder('float32')\n",
    "\n",
    "    # Input vector of arbitrary length\n",
    "    input_vector = tf.placeholder('float32', shape=(None,))\n",
    "\n",
    "    # Input vector that _must_ have 10 elements and integer type\n",
    "    fixed_vector = tf.placeholder('int32', shape=(10,))\n",
    "\n",
    "    # Matrix of arbitrary n_rows and 15 columns\n",
    "    # (e.g. a minibatch your data table)\n",
    "    input_matrix = tf.placeholder('float32', shape=(None, 15))\n",
    "    \n",
    "    # You can generally use None whenever you don't need a specific shape\n",
    "    input1 = tf.placeholder('float64', shape=(None, 100, None))\n",
    "    input2 = tf.placeholder('int32', shape=(None, None, 3, 224, 224))\n",
    "\n",
    "    # elementwise multiplication\n",
    "    double_the_vector = input_vector*2\n",
    "\n",
    "    # elementwise cosine\n",
    "    elementwise_cosine = tf.cos(input_vector)\n",
    "\n",
    "    # difference between squared vector and vector itself plus one\n",
    "    vector_squares = input_vector**2 - input_vector + 1"
   ]
  },
  {
   "cell_type": "code",
   "execution_count": 25,
   "metadata": {},
   "outputs": [],
   "source": [
    "my_vector =  tf.placeholder('float32', shape=(None,), name=\"VECTOR_1\")\n",
    "my_vector2 = tf.placeholder('float32', shape=(None,), name=\"VECTOR_2\")\n",
    "my_transformation = my_vector * my_vector2 / (tf.sin(my_vector) + 1)"
   ]
  },
  {
   "cell_type": "code",
   "execution_count": 26,
   "metadata": {},
   "outputs": [
    {
     "name": "stdout",
     "output_type": "stream",
     "text": [
      "Tensor(\"truediv_1:0\", shape=(?,), dtype=float32)\n"
     ]
    }
   ],
   "source": [
    "print(my_transformation)"
   ]
  },
  {
   "cell_type": "code",
   "execution_count": 27,
   "metadata": {},
   "outputs": [
    {
     "name": "stdout",
     "output_type": "stream",
     "text": [
      "[ 0.  1.  2.  3.  4.]\n"
     ]
    },
    {
     "data": {
      "text/plain": [
       "array([ 0.        ,  1.62913239,  2.09501147,  2.62899613,  0.        ], dtype=float32)"
      ]
     },
     "execution_count": 27,
     "metadata": {},
     "output_type": "execute_result"
    }
   ],
   "source": [
    "dummy = np.arange(5).astype('float32')\n",
    "print(dummy)\n",
    "my_transformation.eval({my_vector:dummy, my_vector2:dummy[::-1]})"
   ]
  },
  {
   "cell_type": "code",
   "execution_count": 28,
   "metadata": {},
   "outputs": [],
   "source": [
    "writer.add_graph(my_transformation.graph)\n",
    "writer.flush()"
   ]
  },
  {
   "cell_type": "markdown",
   "metadata": {},
   "source": [
    "TensorBoard allows writing scalars, images, audio, histogram. You can read more on tensorboard usage [here](https://www.tensorflow.org/get_started/graph_viz)."
   ]
  },
  {
   "cell_type": "markdown",
   "metadata": {},
   "source": [
    "# Summary\n",
    "* Tensorflow is based on computation graphs\n",
    "* The graphs consist of placeholders and transformations"
   ]
  },
  {
   "cell_type": "markdown",
   "metadata": {},
   "source": [
    "# Mean squared error\n",
    "\n",
    "Your assignment is to implement mean squared error in tensorflow."
   ]
  },
  {
   "cell_type": "code",
   "execution_count": 5,
   "metadata": {},
   "outputs": [],
   "source": [
    "with tf.name_scope(\"MSE\"):\n",
    "    y_true = tf.placeholder(\"float32\", shape=(None,), name=\"y_true\")\n",
    "    y_predicted = tf.placeholder(\"float32\", shape=(None,), name=\"y_predicted\")\n",
    "    # Your code goes here\n",
    "    # You want to use tf.reduce_mean\n",
    "    mse = tf.reduce_mean((y_predicted - y_true)**2)\n",
    "def compute_mse(vector1, vector2):\n",
    "    return mse.eval({y_true: vector1, y_predicted: vector2})"
   ]
  },
  {
   "cell_type": "code",
   "execution_count": 6,
   "metadata": {},
   "outputs": [],
   "source": [
    "writer.add_graph(mse.graph)\n",
    "writer.flush()"
   ]
  },
  {
   "cell_type": "markdown",
   "metadata": {},
   "source": [
    "Tests and result submission. Please use the credentials obtained from the Coursera assignment page."
   ]
  },
  {
   "cell_type": "code",
   "execution_count": 18,
   "metadata": {},
   "outputs": [],
   "source": [
    "import submit"
   ]
  },
  {
   "cell_type": "code",
   "execution_count": 19,
   "metadata": {},
   "outputs": [
    {
     "name": "stdout",
     "output_type": "stream",
     "text": [
      "Submitted to Coursera platform. See results on assignment page!\n"
     ]
    }
   ],
   "source": [
    "submit.submit_mse(compute_mse, 'kleinekrokodil@yandex.ru', 'FK1hnr8SHIE9IJyd')"
   ]
  },
  {
   "cell_type": "markdown",
   "metadata": {},
   "source": [
    "# Variables\n",
    "\n",
    "The inputs and transformations have no value outside function call. This isn't too comfortable if you want your model to have parameters (e.g. network weights) that are always present, but can change their value over time.\n",
    "\n",
    "Tensorflow solves this with `tf.Variable` objects.\n",
    "* You can assign variable a value at any time in your graph\n",
    "* Unlike placeholders, there's no need to explicitly pass values to variables when `s.run(...)`-ing\n",
    "* You can use variables the same way you use transformations \n",
    " "
   ]
  },
  {
   "cell_type": "code",
   "execution_count": 10,
   "metadata": {},
   "outputs": [],
   "source": [
    "# Creating a shared variable\n",
    "shared_vector_1 = tf.Variable(initial_value=np.ones(4),\n",
    "                              name=\"example_variable\")"
   ]
  },
  {
   "cell_type": "code",
   "execution_count": 11,
   "metadata": {},
   "outputs": [
    {
     "name": "stdout",
     "output_type": "stream",
     "text": [
      "Initial value [ 1.  1.  1.  1.]\n"
     ]
    }
   ],
   "source": [
    "# Initialize variable(s) with initial values\n",
    "s.run(tf.global_variables_initializer())\n",
    "\n",
    "# Evaluating shared variable (outside symbolicd graph)\n",
    "print(\"Initial value\", s.run(shared_vector_1))\n",
    "\n",
    "# Within symbolic graph you use them just\n",
    "# as any other inout or transformation, not \"get value\" needed"
   ]
  },
  {
   "cell_type": "code",
   "execution_count": 13,
   "metadata": {},
   "outputs": [
    {
     "name": "stdout",
     "output_type": "stream",
     "text": [
      "New value [ 0.  1.  2.  3.]\n"
     ]
    }
   ],
   "source": [
    "# Setting a new value\n",
    "s.run(shared_vector_1.assign(np.arange(4)))\n",
    "\n",
    "# Getting that new value\n",
    "print(\"New value\", s.run(shared_vector_1))"
   ]
  },
  {
   "cell_type": "markdown",
   "metadata": {},
   "source": [
    "# tf.gradients - why graphs matter\n",
    "* Tensorflow can compute derivatives and gradients automatically using the computation graph\n",
    "* True to its name it can manage matrix derivatives\n",
    "* Gradients are computed as a product of elementary derivatives via the chain rule:\n",
    "\n",
    "$$ {\\partial f(g(x)) \\over \\partial x} = {\\partial f(g(x)) \\over \\partial g(x)}\\cdot {\\partial g(x) \\over \\partial x} $$\n",
    "\n",
    "It can get you the derivative of any graph as long as it knows how to differentiate elementary operations"
   ]
  },
  {
   "cell_type": "code",
   "execution_count": 14,
   "metadata": {},
   "outputs": [],
   "source": [
    "my_scalar = tf.placeholder('float32')\n",
    "\n",
    "scalar_squared = my_scalar**2\n",
    "\n",
    "# A derivative of scalar_squared by my_scalar\n",
    "derivative = tf.gradients(scalar_squared, [my_scalar, ])"
   ]
  },
  {
   "cell_type": "code",
   "execution_count": 15,
   "metadata": {},
   "outputs": [
    {
     "data": {
      "text/plain": [
       "[<tf.Tensor 'gradients/pow_grad/Reshape:0' shape=<unknown> dtype=float32>]"
      ]
     },
     "execution_count": 15,
     "metadata": {},
     "output_type": "execute_result"
    }
   ],
   "source": [
    "derivative"
   ]
  },
  {
   "cell_type": "code",
   "execution_count": 16,
   "metadata": {},
   "outputs": [
    {
     "data": {
      "image/png": "[encoded data removed]",
      "text/plain": [
       "<matplotlib.figure.Figure at 0xe2b3d81d68>"
      ]
     },
     "metadata": {},
     "output_type": "display_data"
    }
   ],
   "source": [
    "import matplotlib.pyplot as plt\n",
    "%matplotlib inline\n",
    "\n",
    "x = np.linspace(-3, 3)\n",
    "x_squared, x_squared_der = s.run([scalar_squared, derivative[0]],\n",
    "                                 {my_scalar:x})\n",
    "\n",
    "plt.plot(x, x_squared,label=\"$x^2$\")\n",
    "plt.plot(x, x_squared_der, label=r\"$\\frac{dx^2}{dx}$\")\n",
    "plt.legend();"
   ]
  },
  {
   "cell_type": "markdown",
   "metadata": {},
   "source": [
    "# Why that rocks"
   ]
  },
  {
   "cell_type": "code",
   "execution_count": 17,
   "metadata": {},
   "outputs": [],
   "source": [
    "my_vector = tf.placeholder('float32', [None])\n",
    "# Compute the gradient of the next weird function over my_scalar and my_vector\n",
    "# Warning! Trying to understand the meaning of that function may result in permanent brain damage\n",
    "weird_psychotic_function = tf.reduce_mean(\n",
    "    (my_vector+my_scalar)**(1+tf.nn.moments(my_vector,[0])[1]) + \n",
    "    1./ tf.atan(my_scalar))/(my_scalar**2 + 1) + 0.01*tf.sin(\n",
    "    2*my_scalar**1.5)*(tf.reduce_sum(my_vector)* my_scalar**2\n",
    "                      )*tf.exp((my_scalar-4)**2)/(\n",
    "    1+tf.exp((my_scalar-4)**2))*(1.-(tf.exp(-(my_scalar-4)**2)\n",
    "                                    )/(1+tf.exp(-(my_scalar-4)**2)))**2\n",
    "\n",
    "der_by_scalar = tf.gradients(weird_psychotic_function, my_scalar)\n",
    "der_by_vector = tf.gradients(weird_psychotic_function, my_vector)"
   ]
  },
  {
   "cell_type": "code",
   "execution_count": 18,
   "metadata": {},
   "outputs": [
    {
     "data": {
      "image/png": "[encoded data removed]",
      "text/plain": [
       "<matplotlib.figure.Figure at 0xe2b85f3518>"
      ]
     },
     "metadata": {},
     "output_type": "display_data"
    }
   ],
   "source": [
    "# Plotting the derivative\n",
    "scalar_space = np.linspace(1, 7, 100)\n",
    "\n",
    "y = [s.run(weird_psychotic_function, {my_scalar:x, my_vector:[1, 2, 3]})\n",
    "     for x in scalar_space]\n",
    "\n",
    "plt.plot(scalar_space, y, label='function')\n",
    "\n",
    "y_der_by_scalar = [s.run(der_by_scalar,\n",
    "                         {my_scalar:x, my_vector:[1, 2, 3]})\n",
    "                   for x in scalar_space]\n",
    "\n",
    "plt.plot(scalar_space, y_der_by_scalar, label='derivative')\n",
    "plt.grid()\n",
    "plt.legend();"
   ]
  },
  {
   "cell_type": "raw",
   "metadata": {},
   "source": [
    "# Almost done - optimizers\n",
    "\n",
    "While you can perform gradient descent by hand with automatic grads from above, tensorflow also has some optimization methods implemented for you. Recall momentum & rmsprop?"
   ]
  },
  {
   "cell_type": "code",
   "execution_count": null,
   "metadata": {},
   "outputs": [],
   "source": [
    "y_guess = tf.Variable(np.zeros(2, dtype='float32'))\n",
    "y_true = tf.range(1, 3, dtype='float32')\n",
    "loss = tf.reduce_mean((y_guess - y_true + tf.random_normal([2]))**2) \n",
    "#loss = tf.reduce_mean((y_guess - y_true)**2) \n",
    "optimizer = tf.train.MomentumOptimizer(0.01, 0.5).minimize(\n",
    "    loss, var_list=y_guess)"
   ]
  },
  {
   "cell_type": "code",
   "execution_count": 20,
   "metadata": {},
   "outputs": [
    {
     "data": {
      "image/png": "[encoded data removed]",
      "text/plain": [
       "<matplotlib.figure.Figure at 0xe2bb54e7b8>"
      ]
     },
     "metadata": {},
     "output_type": "display_data"
    }
   ],
   "source": [
    "from matplotlib import animation, rc\n",
    "import matplotlib_utils\n",
    "from IPython.display import HTML, display_html\n",
    "\n",
    "fig, ax = plt.subplots()\n",
    "y_true_value = s.run(y_true)\n",
    "level_x = np.arange(0, 2, 0.02)\n",
    "level_y = np.arange(0, 3, 0.02)\n",
    "X, Y = np.meshgrid(level_x, level_y)\n",
    "Z = (X - y_true_value[0])**2 + (Y - y_true_value[1])**2\n",
    "ax.set_xlim(-0.02, 2)\n",
    "ax.set_ylim(-0.02, 3)\n",
    "s.run(tf.global_variables_initializer())\n",
    "ax.scatter(*s.run(y_true), c='red')\n",
    "contour = ax.contour(X, Y, Z, 10)\n",
    "ax.clabel(contour, inline=1, fontsize=10)\n",
    "line, = ax.plot([], [], lw=2)\n",
    "\n",
    "def init():\n",
    "    line.set_data([], [])\n",
    "    return (line,)\n",
    "\n",
    "guesses = [s.run(y_guess)]\n",
    "\n",
    "def animate(i):\n",
    "    s.run(optimizer)\n",
    "    guesses.append(s.run(y_guess))\n",
    "    line.set_data(*zip(*guesses))\n",
    "    return (line,)\n",
    "\n",
    "anim = animation.FuncAnimation(fig, animate, init_func=init,\n",
    "                               frames=400, interval=20, blit=True)"
   ]
  },
  {
   "cell_type": "code",
   "execution_count": 21,
   "metadata": {},
   "outputs": [
    {
     "data": {
      "text/html": [
       "<video width=\"432\" height=\"288\" controls autoplay loop>\n",
       "  <source type=\"video/mp4\" src=\"data:video/mp4;base64,AAAAHGZ0eXBNNFYgAAACAGlzb21pc28yYXZjMQAAAAhmcmVlAAC7TG1kYXQAAAKuBgX//6rcRem9\n",
       "5tlIt5Ys2CDZI+7veDI2NCAtIGNvcmUgMTQ4IHIyNzYyIDkwYTYxZWMgLSBILjI2NC9NUEVHLTQg\n",
       "QVZDIGNvZGVjIC0gQ29weWxlZnQgMjAwMy0yMDE3IC0gaHR0cDovL3d3dy52aWRlb2xhbi5vcmcv\n",
       "eDI2NC5odG1sIC0gb3B0aW9uczogY2FiYWM9MSByZWY9MyBkZWJsb2NrPTE6MDowIGFuYWx5c2U9\n",
       "MHgzOjB4MTEzIG1lPWhleCBzdWJtZT03IHBzeT0xIHBzeV9yZD0xLjAwOjAuMDAgbWl4ZWRfcmVm\n",
       "PTEgbWVfcmFuZ2U9MTYgY2hyb21hX21lPTEgdHJlbGxpcz0xIDh4OGRjdD0xIGNxbT0wIGRlYWR6\n",
       "b25lPTIxLDExIGZhc3RfcHNraXA9MSBjaHJvbWFfcXBfb2Zmc2V0PS0yIHRocmVhZHM9OSBsb29r\n",
       "YWhlYWRfdGhyZWFkcz0xIHNsaWNlZF90aHJlYWRzPTAgbnI9MCBkZWNpbWF0ZT0xIGludGVybGFj\n",
       "ZWQ9MCBibHVyYXlfY29tcGF0PTAgY29uc3RyYWluZWRfaW50cmE9MCBiZnJhbWVzPTMgYl9weXJh\n",
       "bWlkPTIgYl9hZGFwdD0xIGJfYmlhcz0wIGRpcmVjdD0xIHdlaWdodGI9MSBvcGVuX2dvcD0wIHdl\n",
       "aWdodHA9MiBrZXlpbnQ9MjUwIGtleWludF9taW49MjUgc2NlbmVjdXQ9NDAgaW50cmFfcmVmcmVz\n",
       "aD0wIHJjX2xvb2thaGVhZD00MCByYz1jcmYgbWJ0cmVlPTEgY3JmPTIzLjAgcWNvbXA9MC42MCBx\n",
       "cG1pbj0wIHFwbWF4PTY5IHFwc3RlcD00IGlwX3JhdGlvPTEuNDAgYXE9MToxLjAwAIAAADI+ZYiE\n",
       "AC///vau/MsrRwuVLh1Ze7NR8uhJcv2IMH1oAAADAADVayF8oYJVUBjg5Cl8UC950wnQObmxLpMS\n",
       "eTd2J+g7snoztQcyhALtINw5UaNMi3KGnXwVwAAVjA9rs+2mg979mn6JP5KOmfCCksxkEWnBqVix\n",
       "SlaszLtiEXeKS/pJKygZa6sQukZ40sJfm5WkC31b/ItGIrTq+odnPBDUTzbL2udk28DI16TgunDO\n",
       "vy53mTqEw1v/NjKeT1gqmF9Ay0jF7EHSC6M1jqJhaGA+2I7siU3tbhzm++kkDMGxQaBznZv+UkH/\n",
       "ME9JFDXWal1pE5md32s8XeFhyNhDYSs2HwYiY2CzfhagmUl6KHrxJ1nMSLtqJutWySarElDFX30j\n",
       "l+uOsFjdfC61UiKrzS+VSAn7xsOlaOTAz9O6v1QsS9kZqOqY0d+gs7d71p12gVr4xK6DAgoNY4ez\n",
       "Pxu2hUv9WF7LkXUrN/TNtqV6WmOSkzexdOBpi2aDtSP8Se060PRzDYxbGiKN+MPx9TprE/FZdz5z\n",
       "nzp6kVM9Efe7POZkMjVaTxLjmpsJLjDTVF0/y6nc8lqVdYRzwjHy0kwkfYPrCN5jOwOUUETl9EOt\n",
       "OuidGBbZ+wqZmuzTUGj3NcZdr/GnOvdJZfj5g3yVQWpKH8HOhXKtB7D0G9FcxuO/0Ndegu3i14QT\n",
       "Za3yxJSb2YLA0eHoruD2JB5Im6k5vNv3THIZpg0mzK/PXuf0N5tIrBcmSrc5Zc+l+FPzycjX2zSt\n",
       "hdoC2/Pmq4wHBh/8/znYpI0JDwcnx60pDx9umegdvNKApEry/yuKjT8bI1m0q2ikGwWOQ6pYmIfy\n",
       "BTO55FmSJXDH7zoCnYBgCJDkSwvxUAh0w/oglyeHvyfGBg25zOOYqa9OdCNQPJO3VQJIBLJSKqMC\n",
       "jlBZcSMvJeTGxgH5LV05vntoq3Aj6OQXuMmZeTx9l6H/t6gQUyQMGNtKpvSib3vTNRByp9Ia91ps\n",
       "qiCZxrEGdQBYwYhCxJfZPThg86yIer5oH17j8A0j1luvkaod1gajmmh0E3jpqqoBtsE91c0pLLxr\n",
       "s3O1f+fLolEv2LwjNr/l4tCZ6/QRo9AP84MRGo6rKJ/xess4PxNR4Yy6mkGX1raGrHqEvzLyZUkg\n",
       "orEf/fpv9+IhKhllMZHibXNsscwDYAs+v25xSvSNXqbzrSIQIjh/CAyY5DG2aNAFWxP+BJP5z54q\n",
       "dRTzbAcQFMszupgagghiDS0jUpSS07/E+n/HGYZ+bxO9EOCouwX76Ii8fEedYZVBGyb5pGhFQfTb\n",
       "PSVcuJUyggjRRZ1UPQnK2MjlAsrb9ctm0u/RxDeH1N6TQuH2XOaaiXtEwfZYSw5ou26aTHqcGeKw\n",
       "n0/afHXuL90UBLCoLqTieJLYLUedvR/UoigJcZyyPAeW34NOxJ4HDGQUfIcNHPhit37Tu2JXTP2G\n",
       "h1VbP2N4opYxJqgHRPx0Zbo+DA6tGCvSSzNjH+HATgL0CxuIuYMX6v9am/xJAfmQzVGu/r1k1lWN\n",
       "mlfVlotUr8zSR24SyYdAltAvTq580fzA7z7wi9BPezI/KFMUbmAcOl2NUarAKptpgM263rvVsTmY\n",
       "MgjNrhVI+4mpx6D3fqCTGXPV2uEwEx54X0Xum4JutofatZfjjepQ7L/26TnWf2Fxv8sQMu0hr4xX\n",
       "j5IKL/wItFojdOb/P7TklXQG/G7AuTX4vZNEixjVt33Fj+IG1YJSntjLCARlYTqQNcWPtrGjtpRJ\n",
       "Xd9DZqzT97U3MBEYKD/DIcMWKJdr1hGICr8VMjSbQWL7Ah5NjHGbnca8PUXnJlsaWz7yEBHyL7ZQ\n",
       "P+btdWGdXhWgz5on2iiBa0gF/5KOKf+Pifh2ohiAaV/WDau42OdPYN08FwPvBdvH8P1sRyIBcw+I\n",
       "oWDbv6LLFXtLUSyGBdn+i/81u/JXacNnTm/SxIRtemTwWpCmiq6hFBsCoF3tV9OyCfcWGmTe1cso\n",
       "jRSe7jDMk/Abuw4fzWOs6vy4d8AtWsLRj5oqsvrtauDYPrFOGaC4/wQmssLDpfv0F1kubM1okh/Z\n",
       "EE9TUunscrR8ZB25cxvJY1m3FyYchQbKYrG1BwFgKUEfjiSlGr3OS4BxYnXtys37PD+8GpkK5E45\n",
       "+3hHGveZijzYFEwljmGQP31q2IZQedGZEsKDESiTfsIXHtj9mdMjKnRn6djbyhAVdxZZUvJMeRS7\n",
       "ScG94yMD9VJoIriX+UXwWf60faIZFeKswzXpVBYHesS1rgkff6bLZZWf2vWfXIZdGozoxNzP4EZ1\n",
       "bmBcHrfyWVchX0cJh6Dwtwf/9+AsteyvYv4kgVbovFyv3eml3xow4Dl4wND7dUtsrBNCRi2vjuI7\n",
       "avQzm1NQoigXHexrDXeE8gmKK+HvtDgOIdWx4HsK0TghDna12XPbyUH3dfCZn/hssMCjT1MKmJm+\n",
       "JSMnppawiH+BLUFOXkQGbuR3vcgAm4dfcZDMW0NmRoR7+A9sIV8TiAJL4V8jNo4aaUCQ5fWIh0Io\n",
       "JN8Ee2pJ1XmGSMfY4PPyUoBO4qHDKjXI6opd7xrWMe+BVXwsrNXHIC/j6kx4dYsCuVFphciI0cFb\n",
       "mDY9fnEIQGho3IrPJDSwwdB0Y3rQxBgJq1MW4KNh3okLFFjUoBLTU4ZlB7amVvVU+nTvSauqLfI/\n",
       "eWfLnODXiaZM7ve5ct6bpU3I6pDH2Liipvmm6CJ36P4LeZ3x75N48RZoprZKtw9Y5teX/nkzV7ku\n",
       "Rth5vsf4Fpmp4Mo8lZMdGb8uZmp6GHkNuxg+G+XMCPld1a9cFOKfh/dyEeSfcFeBM2eEU91wBZnS\n",
       "jM8uhw7817fWurCozHoHbypeKKUEMPS07OZ2Mtxv+/LcFaKDA5RPr04+jSUicbzfKdkQY228GyGB\n",
       "1qaYLj7zKe1+TJq6wzb6RvwH+22X0fyaNcKrOalmIBXr1h3g0YrqTp/dP/OlkBTrlXDZe+N1WDD/\n",
       "ePIQ5lLMqL4P1dnHgbROaDrJi8NaHulWEHB/lRCT34LZ5MtQdNnqypPgxABmSZR1OU9dzxCWssWX\n",
       "8/Ka9Lj7PIedxmLG9pbS89WDCfp7hHh9bl19t90KqWeGzbneQQXSytKU7CKECavAnFpUIehXh9mB\n",
       "0R+6kAZhfrZbpsBzQ2wUDpO/p/2edl8NyXlQXLsL70R+j22X0EwG1twHn4Nzr6etPFL2Ql2sCg5s\n",
       "wOxyLwJXujrZr6XnEyHAYc2/IfnbchPx3Cek3c4/tRT+mr50gOWpm3KceDGRuOAHKDzjrv8kxUyG\n",
       "ozJEOvBfcgo8AALZOROagG5MadDKK2yT2iublQ+jiFDK6dNqQnwLFf/0I6GpVdXnsfvZ2RMKn4oE\n",
       "uq0tWhU9gXGroV2zIGcf85zPoYZQwncJ9958rKcWSx/3733YZpbnaz026LKd3aYLKX6Vm9pSb79X\n",
       "/SRrJGjlFamXRDXCRd7EZpoFDW5aP18zkXBlA2iHEA7hjo3co1glIICekZiKaVPrIkIjD5extEQT\n",
       "TU1HV1W5BiuduEzaqc5fKG41IxR/zPRaiKwpZ/4i8V5cLhLIrbkZmYua07V2WVUfXm8R3t3O66zh\n",
       "OZqnoQhZT0cIav4c/YqrYbdak/fJ0Wb8el0bDQPYJr8Y3AJDuTqm2o7r369jbC1KErYTj3gSshXK\n",
       "THowlDka4jy0Iwe8mCXfsa05mlwkSAAA2vlthNTmDqjm8O9cTedUYio0vV1WGz8glT1Jg9qsU3aL\n",
       "WMNaVdvxoaSe/R3WPI5W7ZaON/RLj2DCXrkqjhg8yFzske/SprK7dEgB4nOrRuX4usCInz73Fvht\n",
       "45aTGaT6JtcuHxXAsqGKb0AQetxa4uLVvcNMTobNfNHVwR9eskOo6gCEu77Hei0yrJ/+U0FQTPQG\n",
       "GFxRCDRXMPS9ZCSgE0QjLxTpr4krObbgz+ZFJsJX59y8vOkK2eznsCPMN/zAfyzIGh3pQSPqK15W\n",
       "EO0YwZVQ9wZdbbampsXPFvxcJxQ/6rOvMZw77TmrQdYN6/LrL0+hSSsbs0a7Pz3hKng61Qzb+rn2\n",
       "bFgn3BjQwKvlALzBgsy3p3Wejgds8ha+r5TZ/YKKYDOA4kzzTnNKB2yKTfIvH5Uf8EXM5mEVl6/G\n",
       "J74vpKE1bfLNuFHyMqHBZMPvxcMKfbvpmmSiy/GHoVtrCWEVPevOfWQ5WNsUs3QG1aLvUpWZ+FAU\n",
       "1NTt74FngqY5MeXMiash4Lz0stFIhphUsG+bM8bGzcLqXoXaFDFukN76gVqRMyx01dWBC8Bfpm4N\n",
       "yf2P4KKJHyHGO8BM8C0cQfyarwiAs5XaOkCAXYhpisKMou1dmDg58HF6DFzd97317/LN+Ub7wBCa\n",
       "munfV4GGZgYpfVSxbHFvn0Zq3KTo13JQMyqUM3AQfj0hQUtGux9n96+rQ+QBYgjkMyRlE8goCdfq\n",
       "wg+nSfOr+smHdxn3yVIpmGIKUwNs1CBjxqXYDhgoQzphWJm6XwZQ8KmHtD2ITJUIihI6bhpdQFGs\n",
       "no4/9WvezoBi7z4ZXGRgqQt+LEmEdvEieRxVZCDAjHivkknVHuS1D9kudiDYGVIHLxrYFoykdN1K\n",
       "FVAncaxsj+7dcUr3obbQhWxi9KCzf576KQiD5bWaFiLw7aYl7RoCp9ufY4hDWnG91SqgokCdkpRd\n",
       "WGg5KHb4/XIRwEVnoOWRoFAmNvJsloyhtMrjT5f3RcTmUc3jDa4m5itGQDANILBsq0ZS6Xjo/SfE\n",
       "GxRtlhBsTheQnGpSb/nnqYB5slLMO4l94mITuMbY+YLVtbTq6kCDRpSvXnQx2/9oaQswQvBxeuOX\n",
       "MdgriZGtzLrsfdQJaQXfTYZvt6tZEUhr6wuO1/OBGYVx6PY3VLJ833NNwKk72rM5YIY+2ahCW/ox\n",
       "HoPm7j20vtmJX6QhLy9YIDiIfFeHVRmX3t2E2+F3zllDbZdU5//JqMAyov2NA7NNcVi7THQmmRUj\n",
       "uV8bDGi1Ym//3gXGegg3hm1jFO8YRkAIlEl7gpndxlCQ2eVzf0/vUq+Sdg5xIlvfR0p0VNiSl91G\n",
       "ZyLbNxdJ0MFhqgtDpItA2J9Dl4Zaig+jzUmKJMAjoddimSaIoK9eiE+deBo7QO04A49UwzQ1wg/w\n",
       "ARHRYdOSJx2qcf2wRNkU7FoY0hrkWjUnPpXaYtJbMhfBINKWhbpHM9303YEVphPAU6/2E/KJ+WKa\n",
       "Hvn8EB3QiT9oot13WC97cyF1TkgBjIUdj6TuzsO5V8WF/J76s7hS1LYIOy8pmXHAu+YjTYCU6uRz\n",
       "xSN6MzRABMz4suJ+99muiVhjlo2Y+XqxlmALASZqE7g5Lzj349KA0yv5e1sS+JM4KUxN7XeUUT4l\n",
       "LjC8GnjUpwrD8axwr3nOsmeCdwjCe51vzVjYw4g8v4ibxepbKwOKB2xjreX5Kp51f8Hbxa4NeEb9\n",
       "zzWmgz1bEdbUcrE1cJXXhv+X7apOA4ExMrVDD4Nk9SIPBakzfzW40Pmc07rHLGSmtS9zF/k1TMMq\n",
       "u8h63cWJIhqYoNw+e2nehKbse0ddmVrslV3jy9mCJcMLQDrAePpozTeti4dmNdbyP0MTnZH8vXdW\n",
       "7JDFPsPNvn6uHTRq5eR/pL9B0spBR8l/RkuzB1cvR/PeWL2fjh+6nmtWspNbs3bPlHwf7DFfECTf\n",
       "3mKO6Yt4O1wveqQm/kBMjfO+oRCuXmBoY2fojsIu5Nrr5Lnc42HUHpWW916PNidAyBxN5XDeCgHk\n",
       "cASIbsUGoTDsik5wiTA3xPxFblCC4J6tHLlJ1DNBrMW+VsEwLx/wXjoIriFXLB+xrdHCbHIKEzp9\n",
       "4+oNbEt80iS8nAat8z8+N5KtjSTNjLjZjBkon3rnN+fNhorpZreFgW2dquEtDQtAJNvjQP626gz8\n",
       "AH6GKqD0owMlVDGpNF4JoworsNBSuBAoNMGIGgZM6/CPPm5vamYtJNkwIh7PsEx/MKYHW4IrO/ed\n",
       "EyluR6B7yawXEG8NTDPToCZ7Gq3GB1tI1z0X4TAV4KcMH6btpTrEBUFUm/OvspQlrsS9sjUel3yV\n",
       "LqmbTHQGbQ1f1XXDx+ViW/SfgrZsBXcPGMhYIPvH36NrRqTp3MRdS9nRGkZOGjzJX9ap+sZ+Hdw3\n",
       "jfsEUz+XSQqfYX84JQddcvr2OJt09kyNZsfZK1FsasR28SYU43gAMW5mJd8y1vNdObw1vGl1SZ7t\n",
       "NEkz3aHNXxWpL81qeLKs1uVY+q0WsS7lruR0XDz4Gzfe96vHnwdNYyA/20FTlqj6CrCN7OlS1xaJ\n",
       "hdd3CSrcfVhb8QlG+P6/97wQFKdWnNIuzoOKfIthm5NyUZhpSxEqB+Z7maRGGgKgJXyr6j007xL2\n",
       "KIYLpsjMnDglH7X4CyLjfMWctMN4I0t/DSigyGqGGQVskyXHBYwqC44yYt57TBR5Qfze84Uy6Urs\n",
       "RkZbI6Ef0xwH4cZSkMS34ukxnFDkyDIRi6CGeyPyDQ/op86npDyINTgdICt5HU8jByZhRjUiIp7j\n",
       "SC3gOBjr7bD1X4/1Ig/ThQ5vdkTD7o+G7JPX/G0OdzyiECKici/TkAAfqaTarQLzNWsMkM5wmudT\n",
       "xHkzVu+tllRuqJmJh70jOAL0r5xm50NlyTPdowLXgkF79RcrMz7czfO29pnT/kaAgneZWb8uDA7q\n",
       "gNUO9MqueNlkDWhYBlES8Ks/9bytdcxkJXmOb769MIW3CYrc+gIYdBhLWgs902iLVzvOSi8jWLQJ\n",
       "zsEGF30/h4QGg9DpEpDT4CnJZ3bmOIw/sjybMZxdZ+rchmlKySMmaBYfTo1l/rsgEHgejUiQxV5q\n",
       "wEoWc1JlbvRLvHoW+4PU15Rnc2jtzirhgM+ka4lPjcP0z6v0mIECmxopraWVMDBUc91+o7U9V0we\n",
       "DnQW4N1z7Kn+1s3s+N8yjEvc2u4C8PvRpsUs6UDU74+zUkJNhQiPaHzG/tLC82GdQQehBv09kv4p\n",
       "oY2UELA0zXJaMFKMHwubacsygIND1OdYoO5t/dNpFj+c7AtmO5heJRQ6ZbchRhtVB4uZqq/BErrt\n",
       "4zKdYB5zxnr5lTsu1QcpVG/mtoMqEpYl0T4atJwGzmu7fxZL2ZoMKbTGW2ummWxjw7F5YBzGgID7\n",
       "L8PONAVESciFhYQeYMWcF6PmtzUrxlWxp2tTFb2JGdyC+xsShpsAgoHNBT0rD97aHmrIOlS675rn\n",
       "U4tjbSP9lSJWPbWdA7RrTsO3Yek09BH9K5dqgYDiEry/NjuGnagN0wDD/xNdA8ZQceeOQ0/jLCjb\n",
       "MfQ05sQHFuBe5KpvEES6xp2NGgTjvRUA02NW1AUwoM+d9ouCVKb9r6ZqlaKx5YgADRllNNiVFr9F\n",
       "iQuGetwcxL6qJH66ivA8rI8YKh4HQ2lApLjb3vHUu2bKF68xDbkPswRDO2RmDyEVfSz5gWSb1Uo/\n",
       "F9GEnmpusdHEy9C3/EUo0+9cxtE3qfaUgyEp4lcJ7AXhE+ndXxheYrCS7a5Amr/r/oaaqRlKJ1Nd\n",
       "9Ceb4VSKUGOWKHldJxOHs1/sj7WXbeyGfhU7sIV87yqbJlmUgCsZeNJmLxjpirctQ7rFe+LYTenS\n",
       "GOwOvCAWcPdEPGnxBZxjGgkdXjWXjy2vL5Mztbd7G0HtGRPKVrLiZARspLGUIwtypsFXuGqMC5qr\n",
       "GJP99KhMRNvGQJkvpCIQQ4GoYMZN/9lRMVHvo8Iww2ny2nPDjlftt/aHAdTn4FpyiGklCUkTK7xv\n",
       "+sZr2khxPs/7wX5qafWAVlSiSFODjinxNb2ExigXkVFsYtFPT4ZqaSOB1u1JLKmWFgl8DHNzSJhD\n",
       "sj3d71OywbLWsNsUC91p6gMTbmrC6D2034Wb0nJh2ObeOM462CgziznI32rFEbhs3IdWZwguqEw/\n",
       "8Zic50cDw1H0f6b6zfiTOwSl4OWifGzU7dM2YJer2cfiXU+t3FHLU/AA8lEJ6WGFas1yc4Z5gXi0\n",
       "dGnLoHUMfkPVRu3XU/arQfQwS2DAsKYWrxKhP1R6txMq6BN0o32e0aDsEZ82XnPwFpGNH7LyAwBz\n",
       "15KX0cq9ay6sbEy3C68JSgOZXHNT7CUnrtpfHVdV5GhpJxHfQar/U+Y3TPtJVU7EJg0ny7YflFve\n",
       "JfGzvZbfFJR7RttCbdeUa9qmlEoyvzhdoKiJ/Hhh9mis0d0m6NT6aq1GSZKmCX077aBHxuB+pmz9\n",
       "cLjbAcOhzrLZtydaS8/GKXqeOrfZhnn2CveAyLP+QaScy6A12JElMgDn6c4WMyBAhKHecXG1mcAB\n",
       "gYePVa1EV4FAKsTohd8rpqoXOuqmNK/8/x/fodn4ujNEpTCoN5fnsDHuu+i5a2GYr4hxcXtmQNQD\n",
       "axDWedGiqt1jvQu17D8GQszIzPlybgGBIW9XAhMfFjThZ5v2WPQZqC4XGmfvjw0PXagyILi5skL8\n",
       "dJxw4FjRi5QTcFflJ84F+jo+PtaoaGPhlnxRTf2zESFrXMdpvvUQU04pSIW3OlIkwjEIqK1pPdCR\n",
       "gp1543mh5mZhhJnez1BeGSUWR5NR7g2zOsBayW4WLMJFo2mN/lMyLdU3axumHnEea902LtLHKrua\n",
       "X43bNKOvJDB2Zyaoop7tmwv6QBwDodlbSBpe8eLS1rRTSXq7xX/F4ScnnDTU9g1/u0wQx4diQJpL\n",
       "EkeVwJ/rHCHDuW3AwXS3jKBJUtXhd2K3qypnnODUMsWSAvBMVMPlWpDcLZQ/AjtZHoSXatFpl8B9\n",
       "JBRoku4uPEhrXE8IbL83MuCBy0Zv2KM9RzMyv+6l5XP7DGG017qG0SFWtUehp7n36f4j0M8rRpDB\n",
       "td6LyihXKnenu+WIvgtC2zkUx+8YYTw3bnUj4KpSzZc6YVQ+DGatL7R1QmvYnhFli6S7d6achIC8\n",
       "c12eiwIZ6Sdl7C4cVeK/Zf7vyskVLU2b/sD80I3PjXrMqE61yqiBx9wed5CypZ4mpr3qjORJf6pT\n",
       "e0GTpzU71WQ6S1MIdHF6vzBEXpsMxCP9pXSQtMVe2VeZ/GdlHoQ6JbfD3UyxOqV2HZ7/tjNtC6/Y\n",
       "LigTG8SJWy3m/8TSRm4yWld5eKUEXiSkmvWjtbWKaixduqXZl9TChcUJ2nEqhB+uojCK328POFxb\n",
       "2F5zPdSRpPMDkOiMDPJf9yfOr7/dQH4u6jVQvyIVTcNQCIVlJy+0NnArc8pVTq8EseqN5Gktp1kb\n",
       "l9Suh1hkZKAYjkwoULJl5AdR8ij1eXGgvTd6QyCThXrHi/BC88PAW6w40TDpFaaz8qEGkTdp/etF\n",
       "lFcWU929e8G6fQSZptO8ZzEEbcms/AwckzjVAYl+DW7UjzFlmBB47S4Tl8CIRJbjuTGC1rTJr+/+\n",
       "00TVICwkL0HOw2bKoOvIUfsIB9BfIYvruHP9nsDY1s+meBBzZ1Sb7yDaEdhQsu6KnZls5RHjZgWW\n",
       "hFiexcdvANf/mzMhduLkAZrjnTTrJNisbXGV4ev0A6x5BTADHKB6s6BfgOux005iYgPrjbODQyDK\n",
       "Vk9uDi0VYUXO93YiWtasslGihopTsk5ijW91JitQJNFlntr8t+4eiQEd9WoegfF2cMosgpUqy12u\n",
       "4mbgmLA9CSftxW2D+S/jQPd0k66DwZm9f0uItA+JC9HxNE3RKVtHkzZm6q5lCR0/7Si9fe99IqSW\n",
       "RvmzBEPpFKdXxztqzzJgzIAWi+sgpks68eDXjl1zrze8OmfFSSpihSh+kWtmwZuOoLbQtaG6ohPa\n",
       "DfxdiBLZ4Xmz75UwedH7dOGIfUx05C4kMDI4sewp/hu3rLOdAkrRjSmvMXnjl4P5n1cjDL+823Nt\n",
       "6uSILuYG+YyAPeP8ne+gaDAinXONbxKlV2pvwYlHaqcJwKT3APMEaLEeqRd2r0S0Pc2GsVRq6LfP\n",
       "miosPiyvgDH3c1bqtFT23GypeBIaVzRRSqps65raEtJFfCpJhGhuPE1V5icBUMPPzY0lZ4ccKxaC\n",
       "clS5gqd/c1CKLJJUwL3r9iRjjJg9r+mZIaDblV9xnfR5k8cPn8UsJJMYABJ6wEmJAaAjDdHpDLrR\n",
       "vpNdzGwLaxix04OI647LtcCN4xBh/QWcExFkMLcGNlB+Mw1VKVEiIa5/5wL1GuRxUWhtDvDJJqZ5\n",
       "7RONQEbG2FbLTaue2hlqJ8WoOPXICse8nZ6kKvKB21r4jDhkeLbICOrdbF1U9JgIw8K4jHAjUpmk\n",
       "QeLqFtZgNDdUe1M6QeblkTm0OKJ2xIsNdf/oUtHQqqhtDeXqMBmBzbUGCb6VGviFzF1bK8nV5yA6\n",
       "a8Pz1jKvLLey1rPZxrtNYv3duFVqs6JKTJLEIbIcTX7CMI1fdzojZae0fwYtvzIzMDEyuzDzcC20\n",
       "elIGZ/au9fMC2KZ9lJcKHOAVcxg4sh78dRn0o1fNquFgbIbhUFT/5+vHBvCWdsETTo9r6TDQGc5L\n",
       "MXB/QmZemH3yr/GKW8jNQPjmLoMBdv4THqysRgjy5GoxMvAU347SV2j6MUCXZ1lXm7tfWjjY5DPa\n",
       "opGSEb/w8emET92XVniqD4hnN6GE1UPxu1i15miO+qxlNZTYAJzI1VXwd7S+IzSHgQ4r5s0RMMpv\n",
       "MqkJhz42ALgFWDCgMusd06rzdzgBN5sFWyo44pJXxs5lz0qs2tPEevuqD13YH136gRHWJtH2JgbR\n",
       "dQ2WbSsNYz9wec8YYNxrgxvGj+MO0Vp80d3yXTZ+NYC5m65RqQ8/mh1rj9aRf6pUStDPrJC/QBPy\n",
       "+8BPeXuqH/XJ+JeGM/kZ1tHJeTrW+jrsMUcDMuVGWEqO2IhTassvwFnZy2HdmY8OkiwtG97p2bSq\n",
       "loL/hbwU4Keff1z9uHHJudxIcTjxrZpeGTLcrPN7tBuSm95IpfpeWhRgdChc7/Y006CLbNiD7TRG\n",
       "nEbCWmZYZqMZID9lLyVEh17ZUlsIk0+Nr5kow/TzRUaBVSHxt752QnPvDkgf/j/gnIS8BDTg4UzK\n",
       "w7gHU4bx062J/52/aVeFXnn+Sdp6LtDXnbKs3JEjikeOfeYwphXChXhJZ9bmYM55QZe7XU1DHzIE\n",
       "yzZ57Iq4jN6KISzZ2kvv0WbhYPh1efbx4A6tba1i0thAufHlNxi5pXf8XpT5572MJqj73eGu3bR+\n",
       "XMpVca5Z4nUkgGMas29YL/1qbeG0b6Yt1mloA5JlZIVCMoWuVPt9ey2Mnm4x9r2aCAW1qlpffbRl\n",
       "iq2Ei6V7Y0+4nYbDMH0JUQBqM1nj9OV5kx0hMKVIpSO0i9l/5cA0uFv22CQWxkFbrulFMODFa5+N\n",
       "yrsAGh2p3VdNXQu1n74nHssJzxoJVs0kA3eGbcJ78VJ/QjBxyxQM/5TzSo9AxuxEl79jtnbW2dXl\n",
       "7OLUJQb95umCOvaMEqdz1QPDIAtkL8HpMbMs2yB1kai5K+GlxK07R/moqqzgxZ11UbvaPyVr1LK0\n",
       "KD7YOzZgmtEx2bZ0KezlV/XMg3KHZWajSWN+51nkPRs6XG1nrNAqdOCDmP10ny4uYKf7gL1lFJUL\n",
       "O53E3ASbYJhXkF2xi9Uc364BEgGkwrlNPbOWmNZg0ncWrAaeC6dVZSMDip4W+IYMGmS78aTsRwyW\n",
       "WSgrRauWLHsxANX+2ZHUrxK6EXVd3alZkO+oeI+8BG7dLtYV0abTKgRpjsSbTrOyRiPLOrwXx93t\n",
       "tgZ7kr7KUnaXUpwoZoHSWgQ5bX67rGOoc/2U2wDwbS6vHdP1ti4MdPaV9WyzVvdgHIZADMM4lBjC\n",
       "l3Zks5AdZ8BTMOE1obZQ73faBKUsjR2s7HlhM8+oIyC2HSqxD9km5ci1GzJcUZsXwh9EN5mqy/0W\n",
       "50SNA0Ja3xwUFuO0nKPtrYB5V9PV6+DpDX53qRtFdVe7A+Ce8fXQfikTg45boWAJ99hehq7mZlk7\n",
       "42hZA0J0BC+JCU8sGMTFdCKHao40k7fmi4X6DHvNG0QcpyD30TKdvNBbpq/TLyIrMBs2XYvEadH5\n",
       "dIesGfXcRJDid1Mp/cHJLaSQ0t8KXIrZz7m8igxZKtvkQGv67HvHcJ+T8dUiSttN+sdyaYiOrfJV\n",
       "OQcqajpi0yNU9UnpXD3Fq8MucDBTeWmDPY4Cf+0/OvzgpBXdh/FuPKWqI+IFol5Qt1+tNRlS5C8+\n",
       "LWjBjGuNyZjZ1EBvwy9Z7nXSRnmb49on+5rUeggprkBPYOND5qHruG2pep4Fa9cCH/zdS2Fte8bN\n",
       "3u36ZOuUg+/CqeZcZ0CbGd6/5n5EeXVOOZxbjMgYtGuONpjXN7DW8C4SL8jzTmwOLLfZY+HpI1E1\n",
       "p3lghlG6wZOtEF33241SDlOasSj9RUev0rQpDBKtms9z3jlqlWUDe5IC5yVMTBe7IBk4UsY4ka2N\n",
       "jjnD5p2OOhps9UShBYQwm7NjVvha+UxngbbzRBhvaQmXHqyF77M4UjGensjk8fui3IcmjlP03SgS\n",
       "q9CjMvWldET5ByItqOpoaTdXU/GwScdp8dc/JiT0410sr+4H1U7ht/iSk6hynM7CGpG5gRMRSW86\n",
       "L3EXOHm9k0XvH9lqlUPj+CsQoTrX5TmJWrsEQh6WYJ8pdhyaKaLDxiqn1pY1eOPL+jrEPjLjNZzM\n",
       "IH3zmVJnCS9TN/ve3RnskR2r6YNXkZdn7+sFX0ylzOXBuTISjJATR7M6DSzczyzEE66h0kJ9Co+J\n",
       "os9eRVI7xUc6CDagOuYP5csqp/71sOmKHEzxCh7v1GXRU81rv0aPJKg4vGkvcL1Qf8mZk/Wg3UdC\n",
       "nbWP9BX4Am/ON6zKhneGJIblBW7Z5M+PCJ4Ztz9Kk8INqa3Qp4ZndNVw32vyuLExMq+iZURktj8N\n",
       "xI3QyZtWEI9a5kQAGV3vAviWFj01kJDBBhxvgiH5TagJ2mE8F8ecnr3DiUwkWVPxQPgWfQsjtnih\n",
       "zD9bQxuSvtNWlzVDNacHQFNBHthXXfZArL/2wSvnp/Zq81dbN333/HHXwF8mTlbkHel7ev58vCb7\n",
       "4cJ8Zg1Yabyjf2NfxP7coKNk8vUkMPE0BvIA6JzbmysaOR5Tg5DOyYgE6e9u8TudJxMqRlAulqRn\n",
       "iUlIrm2myD8QGDuX4bIAsfANbFy9MixyMwG6EiLGcBYZOJbMw/ssxEaOyPztr2xMqWQQwqiyTRYX\n",
       "h9HeGF40XGQm+I0F9wVtxhN/5NdGZnV7h8H/iMeoeDVXOLpH9v8Fz9WSXCa++OZs8mXF9Fn7bij9\n",
       "8P8zDte6Ue9jJQu99pF2aoav3y9Y0ZgARqgNlJu7cIqM6fPhGpuPAtLGXrv2RYBkB0G84NH75eod\n",
       "I4yTZP2xZkfOoqjlgl1/eh9ffOZC/LsWHdm9+x/cggoH84JmhkBUt3YQVpqJFCntTHSzxnHzM4o1\n",
       "OnPdbXw7sq0+ITgz9Vbr+DY2/qYpwwK2OubKrLlONAUN/HyLBwM+WzZhm7lDw5WrGX0oSr0ft/XO\n",
       "qmbebcli08chITClEM6/qOvwBCeUFahH2yyj7DLIK8BlwyZU7JXATiAL3j2xMiXVZ/lCwMHEetZi\n",
       "BJxDyZD1bdt8d+x487BfAmcdZp8H3Rv7IuoJwnK6p8QNN9T0bqT4NUjQ5kqAa6m+difJ7XVtS4aG\n",
       "E2aYUcC+w6vKjYF4yH1XgqxjH2v5/KZ3atOp2VPThqWfnThyDgFEsfWGFkeg+S2spVWfS9/7u7Pd\n",
       "oJQZ7KCcj9TyBMk1jpI8g7Nzt8DZsV9TZMuLKkqNnVBvUq0+bzr0aTZn7I1o2JASIM96rvaw1aCn\n",
       "o4es2STS/4kgN51ekQxEt0bwLjbGlIuvzkv5u1H3CDA7CYzaFnqyrVEsMF96X7SkPz527glv2sXw\n",
       "/SF5l+3v4w0YcGAzYQOLqIYTHjua2qvq5qZpnh8J3B4rD3PKs4t7ttK1o736vSMqxPedp7X0SVsI\n",
       "BKhRQA7dNxP1g+I2kWOImIUtRQKgCXvrbws1XJ8akJ8k7xRpvsanAmsW4aFRM6jmJ1WXw0r30jPQ\n",
       "GZh0v1pES7Yi7FFEvWxacaKVOMBIo5g44vVvv6KiHeFV4C0qX8t0329X48ufCufoIMmSiljar5oX\n",
       "RbXJWsRkV7shzB7A3oX9nYaXTFhVjVUGts9ewxl4EWJjJESvZU88Qyx7xvvYmUK5He9jAMu/umVQ\n",
       "CteoKn/3qQ1Ttn8xqTRO4Xe6IBVi1yy69QYvxPdKPsKPhSez+w9yh9nFbdwFZeh/nlv2BUBV8BiH\n",
       "Dk2TcY8/Q7tImlClyWVf0Cz8Tj56+yve7lrrt4ecbFpySErxj/KIRDhPUfrwddEfymqzKe+UhsSu\n",
       "ceooVLyH0c4q8zEu/Z6IEnQAyX+eVUCpW9zVHruJi/pbcPtdZWsKO4R6ZT1RVzd7qHGuOVGFcN4b\n",
       "lMMlNNq2q2aM8hVGRbajMvAj3LMo0fCy9eXehSBfilzOhVgvnuB/+9B6slPskttYPv08+k3mo9Ol\n",
       "9ZIrmbYun1Y8oPuckAvmeqfMcqCavM400NSRGegKuhhcv1u2bh5z9MDSxPeH1cBJTFqNkKYGsLvZ\n",
       "ieAwRMwwbRkLXZnMhNzR2O6/Mist3uApf7ic0C3LoxpvTHsIes+cpmdwI1JrYDNdxdrv9QgTwlsc\n",
       "Z9JyXAZuRH2eEHO4IGQ0grccjizkX/XVXKahJytCC1Ijw2nbLlX5ZCW3k20Q7VD+W3V5qKPxx2w1\n",
       "wl4fG0PPBLFyfsafUn/a+Hfn5yrIKDGBgfkVO/8/bXR+IbfwksNkdhdxfG5FHmrpuvsKXk/uQv4k\n",
       "mt4vZUsBfi7pc0ByM+FvcV28x55GeGs5MzyVJYSjOz+V74Y/yDUwC6Ct4RgcYUV9SZGOKrYOUS43\n",
       "0O1em+nsgS9Ah1TXk9arhtFUTrPFYB7H+4D5cUzs2TPc6gS5q7rX1kkkEkllmfhRSQUIPlmqh0Tm\n",
       "Lp4fHn4KFEIu5tP+lZbb29NV4AkhgWSA3KccjBcc8mBvXR9vC9WTV4mZAcr52Ct5LIMUqU/oxW4Y\n",
       "XoyfomscfnOCly9412xGaqs9NbIoUT//7UVZA+y8vIF+b3rPGDR3q4+w26HHGU8M4jxA9J8n/sxl\n",
       "UVK2E/nDv85E0SDjSiXVHsoaJqs/Npe5+Zs1z7RcFwqTXmhqlKOQr5HfaNFZG6jEWteupn9lwWK/\n",
       "0f2Bx5jUzktBzUyDW0srXMyyfOaee80dU16RMiWLrHXs0jlQrdxi+wsPAO27/hk+cy+dhl3mJrDx\n",
       "y9B8TGMt7vjgequkcmNmJyWCrwKrzARRsD19sBpZxf7e/CVt4Gd/tvEuDTRdBB35nbh/V2VpDijo\n",
       "yuSEcb5xTyzn2nGlgnJVdJfsiFwuKJv/0ioHYrPtmsMXTmXhCUfWARxJFv6h8L+H3hcCoJJ9XOIW\n",
       "ZOHW4EoG1T3apGe1NtabO8OCmU1ZIgj6dC8v+ziNQ+qEboyWERpNhUtMJnqxqKeyMw7m3SAgrzYj\n",
       "GAXPSqi/4kktsuiDwAwHDfg9DcIwUSe9TtHrXxOjZ030C4wvKxBivnLkZOPSAHqQc87aeVqd8GQ+\n",
       "TC3ybxlwrGEfs9emRDyyqQ4JdFwAAAiE5m7RjGmIxudi5wIYhCzwpzntlWRxOt7L3JpEBOB0pbGP\n",
       "XS3PdqKtKusCLB5Dq/poaKBwW1/6Rqq45LXcAP9Rb9CtiDd57juD5HJBatlzu8T04EfeL4qyE8sc\n",
       "G00tPVtqRg68UX1gjMDNfHD9GR4FZ8A3qWkRSPVtLtn98CW+WgERASsF9CKaIfFOuNV3YV5rf+0e\n",
       "/soqWWCMxvvMKoarNlGoUl9oWvkAgy/Oq6Szx7xPFfSDNQMBSjHweNTHcEoekoJTfazcJVg6ituQ\n",
       "DvRBJVpJzaeE2dfmtZ+u/h+HlWnErSFQ+vLqns5+b4O6XcVS9NYW2fk3BwmwoQLFn+Vo+uXElHve\n",
       "DPaPGgluSqjKAoMOd+fQOMZ8R5gPLXJM+aOrEhy++i/bpTMV1LflOPeZ6gsG3LZUw3rkne0RD297\n",
       "lO9m6T/MI1zSTSf9NcHdS1AqWPY7Agbp5KY7nX0WCjoiiQaMVUqGZzOrzeV6+bl12C/82oHTRbyS\n",
       "LX916v5t/nRA3PRxY/4HRiILn9tPelJkSxqjIW0vnNwC9MwUfgs58slpyL3H2PGK3SYUOCKNPbGM\n",
       "KDhKO+rF74Sa5Fd2HjtEsiENR0ffHI21ut7+lakCuQEMIFKsFFaZjaqqCuJ1Z2PZnmHj+hRp8iPf\n",
       "Y6ZarTAJVqFWY+pazItMvFj5itvMvjML48S1NGrfunY4/qN8RiuCc65pr9Vx7Hot99TQgLVknc4a\n",
       "HLbrClyXfq9BfynrMv7BS6yKIr6XXYVZ8PtQbbX0VkcQLcdRJIRDYD5aHyxVj8IRe2iR7M1VroQL\n",
       "wEHsWTeUmcFXWnQ9xCTLp34CaaPpIn9KZE1Kfk1wI5UVGagUzFbt1fUwkSUCgFObxKj6tb4zVUGs\n",
       "jJl7z56mp37kDdPQS0ZkOacjDrubHxOt538BqsR5a3zeXLNJmVXvjOh2NdnlOb4sERxMImuIToHZ\n",
       "qVtE4nldYAQtcfQ4cb5hQNBrSSb7Ow99mQUAkBCDZD0ENu4zOwjPUdp7Xc3LXAia9Px/AZ8ncNAX\n",
       "x6bhNojBX0+6wi4B0hYqoNgI7lZ8ohSJa7ZLNL7sFDy2Ht3Vwu5/mf6wKplaC1/COfKQBlJ7Nign\n",
       "28iMYc2ky2XcT20PBh0iu9I5nAModHhLDCxhtrFlNXP4WzUvOzykv7N6eIGZcb4ZTGjS/A/xuJ0W\n",
       "TcDsoo/fWZbfimudwNcU3ss2W3LfUOQVJsG+lbYMk4Rr8xX1zL4BrHfJHD1NeeLY2+WiKtDd89z+\n",
       "KuB4adYYFnEJEujEY+KhRXpmKrWfWXMyxaFW9j+065vwhB+cFZdpPofKXIvlCBXtvOB2HITzj1sj\n",
       "DiBV4drpns3pyBXT08cRfOmOPlvXWsfw0I25KVFNX+HRof+RfDlh1E8h1UNcmLlySsXahDnbgTeN\n",
       "Jytc0AQsLVF/M/RURiVGGc3OMXzdD9BgYk/CoRx8CRQKZitzBZQU/QEMJvKem/2Y9jn+sLMdyOmc\n",
       "H1/9roUpXNgcSSXuUhAXqcUdz8RkZSWlXMZ7ofPFFOUNcBmV4mHozFiyK3VuddsgFVkIncVFyp9d\n",
       "YsY5EeLA9I151rd2k0TE7MI6m3tFHpMaMroeLzcAFrJW+u2fDJ0xz05m5hQTBJemiq/CLXsOft+Z\n",
       "qZzhqsQ93e/bmt5B5YUPd8n2Cx/d1Y0/xMX5YG513+ZoGosfeo3V5kjf6gUkuC+A4SBHYvtshbbq\n",
       "oKrIQwTgqO0YyY4uTrGS8ahKAAI0u51edUgAd7AAYzExoQAAAwRBmiRsQv/+jLAHclBEA0kLME5L\n",
       "gWUkSJTZCQHQCabngcXQDrVBBPrgnHDca9tbj53+1uqa8dsbM6LiXjwP3ztMPxfFI0RKqfY9htW6\n",
       "fBUFY0K6IGI27hdJP/Jy7zHpHNwo89ALA2I4lZYKPS5bIN4KPeejIlahgYRWWuVkrAi7rtd5CMpl\n",
       "feqILADwIS8rcmtjXbGm+T7HBOMJGcwquiy1cMLqHQlqE6WaxDMyLxQh1DFE2pCKqq+rNJ/W5bhP\n",
       "QwxLX82X9y80nBN6/2UNosCNN1vQKea7iB86PCDXlF5Ie1bOuyCIycy+8544hksrLcl/FLB9qnmM\n",
       "YY0lDrjoO58veCJV7ed4wPQi+R9hXjBU27h4CclXBr4SXHmhZhUvNjTIa6Is6zGIuBAygCj60ExC\n",
       "lU5w/8rclzDC54h/IVmwao8M6yIfIO6Rfi8+gfGSb34xJaOKFiFWohXzoYMORJpKghaxHXUzh9jq\n",
       "DYjk8vhWMGWMivT9eCPNJqHMy5ymJ9KalR0qVvb6k6N4LXzIOGsY3zUFwS3oCNdaODkm2RKOw943\n",
       "YbjSyqFCqY2eKYf5x2F5jHD/qxMUUTanC21DFrTEtcHadXcAODi60tFHrziR6VXk5YQ6Tdc/x2Rp\n",
       "uVNYjTfdZU0H+0RWcmm0M2PmgvqnyCt/idKnuaYUKt3woV2LkMu9pnts/SpLCkwsKm3X42scifsg\n",
       "ntsBp9Uyr1GbZo0IJcFuVjvDkc8D8xFX8RrCAXQxkJSCm5W0VRrn+LBhuHLrJnYNSt+4GZnp2h3d\n",
       "8Dlb6XQ/apjmn71a+4OM9vkHCanQeP/SHooXE9EApcEi11tdBRHkq62nnhVh6lo5lDN6HFT72U+i\n",
       "MnNur35KRSBDBv0Vbw5zzwBIqNb5ieDJ5uQJ+fH4NU+6XsUbREb/S5F95oWT8h6PHgEYaxPZBWGG\n",
       "25fjVh4c2B6lWzklWKhHp7YDRQC0QNmwG2+qp2aaHsf+9CKTJJAMQaujqmyWbolUp9joDAltLv8v\n",
       "r/tS/ViDE2yUAAY0AAAAUkGeQniEfwKxzT5MkQVkOHOAQ4E9bRgejS2i87FWs/csZidB3RkveYWb\n",
       "5hN9uufIu+jVx1t0NwsJYOoAP0JWhNZVMq2+1XogvHwOGPwY8IygJ6EAAABIAZ5hdEf/BcbJWxxx\n",
       "WXohw9gADA2ynT0GkHsTcQ8EOmxmFS8oCd9li0h46fg/IGuAATq5qWBkz2rQwcQT/w0qmZJ9J1Z0\n",
       "OCrgAAAALQGeY2pH/wXHv1ISRdzlYOCZJhcRxWCJIX7ZQc1HbgATLRbGYpMWxkX2urg9IQAAAIVB\n",
       "mmZJqEFomUwU8L/+jLAVHc0ksrewCog4YBlrCcFmMkKIofG/HD8GMewZMAAi3/orYps/uvKHDYIg\n",
       "ataVlBeULatPgL8bwAe2PZJWDaARsjghfSUZUwjj/HRuwnbJuy0S5O7auGPEmh+yAS32ceyfwAlX\n",
       "R5L6m3iedCdN8PjaghuN9DEhAAAAOAGehWpH/wTU97BOZHkWDgBnJUxKyYTlhfWpZpPP7ZuKEd8Q\n",
       "p2b+ucAHBL6qSUkcXG7s7Coa7N3RAAAApEGaiknhClJlMCF//oywBOEcJbFQUSgh+on6ADlPAUCH\n",
       "KlRtMkjY7vuAepEEUfvEmHMoRvECtdFypF1dK8f6HdZOg+I5IK6OX/9N83FcXtvLTYdHb88b6Gds\n",
       "2TWP6YL0opdQpjJ+/Z71kdX/MEIOJZC4Gqlg7yHcmUMTQQOj90c4ZD6G1d1YBB+SaeymUInvUxyT\n",
       "qfDv+NASfR3hiN2iuihjVeSBAAAAOkGeqEU0TCP/AxJ4DijvHoExc02q9aCrQKAyl95vOeFFdt4Y\n",
       "HbrigGlTHzA1oALBIdczkMjs0ni2rYAAAAAmAZ7HdEf/BDGPuGX4JJ0D+f48eS08k8yE6jSABLQo\n",
       "mUAr++bW0YAAAAAnAZ7Jakf/BDPohCUec/TdIFzAuAmejUrsMAEqK4PtvdfBXPbh1PdZAAAAbUGa\n",
       "zkmoQWiZTAhf//6MsAAAzwV/7r4AaWJ4eBCcn4Ne5qnGYUcysw6zTezcaryhdv/ErwgwtXoXTLTw\n",
       "VZvLLhCRhx+Rkrnoe8njui7j2t/+1VjelmGHzJ2CxXgmQ8KFmixmRlLGz27fCc987TgAAAAxQZ7s\n",
       "RREsI/8DE7hRg5Qqy5CvMQ7IAa2axtwYImuBD38ZRWAAtcyCfADmc1cWt6Hd5wAAACQBnwt0R/8E\n",
       "MY+4XWAs03HjNtQdSqtgAXUXuW6s5b328ntalfkAAAAjAZ8Nakf/BDPohCUec/TdIFld4YRkWIAV\n",
       "anmpBieYQXbXrL0AAABKQZsPSahBbJlMCF///oywC88/rFYSR2UBJIBQbah3goIGr9SvLO9YMW+o\n",
       "JNNul24atkZHWh99P6PHjc1t5TZlMM9c3f4b0MXfvTEAAABkQZszSeEKUmUwIX/+jLAAAZR3bYBq\n",
       "+oVlaBX+f5+ak7qVx7kJJ5Cg1PIhZjFzwbGTZAM3qROiUTg/kE3jhJisfnAhykp47AnR7c2uPNpU\n",
       "crv2c5YuxyYHCb99UNXAJflNA16LwAAAADJBn1FFNEwj/wMSeA4o7x6FvYzzy6Va4mSKqokh6s7v\n",
       "ewUZtCy+qNOAAii6CmDv3KLcqAAAACEBn3B0R/8EMY+4XWAs03HjNtQclEJgAlk1c1nNEecQRJEA\n",
       "AAAaAZ9yakf/BDPohCUec/TdIcD598gsf+IqUKAAAABTQZt0SahBaJlMCGf//p4QAAGHedGAOKM7\n",
       "+3yrRRKWkXxnzd93KGu02rjoM4CWsnd0bGl8wT8Z5SlypJyvPS9DIOQ4grNIWOvlMcoG2KAX9+Lk\n",
       "YXAAAABiQZuYSeEKUmUwIZ/+nhAAAYd3IAANCekg/U2UrRIbEJPLkXiqQg4Dhl6xXjdBzKy35Bgz\n",
       "ZtM0XER9M0S5mHoUB+f+tiHAYEW8ZYlKeEf76SSOU9FszaTwuTdmsIK24zjV80EAAAAnQZ+2RTRM\n",
       "I/8DEngOKO8ehb2M88ulWuJkiqqJIerO73oZjUxjP/GzAAAAHwGf1XRH/wQxj7hdYCzTcefo6AAD\n",
       "8N+rj8ClW53VEXEAAAAfAZ/Xakf/BDPohCUec/TdIPtQ4AFxVzPpMk9lt8ikgQAAAGpBm9xJqEFo\n",
       "mUwIX//+jLAAAwDsyAEHouEuCVj8UKANX9RK75xKqLYwfOAGD15VPA1aAwnY/faDulp1bbEhLJjE\n",
       "eMxOktW555FC/5iOTSY6BCe07bmi64dh4ZAXsiVNKto3qieZyNgWV/PgAAAALkGf+kURLCP/AxO4\n",
       "UYOUKuId1qRTMleF5ELtyHKEYA29AB+6KNwkD+3cRQeaYUEAAAAXAZ4ZdEf/BDGPuF1gLNNx5eMz\n",
       "Z2EdikgAAAAhAZ4bakf/BDPohCUec/V+PMTgn+gAJt4It8kl6X4J+/GLAAAAYkGaH0moQWyZTAhn\n",
       "//6eEAAC+u3HAJr6735pGUmGaYmAdS/Z/RtDySkCQxkR+U2c+3C1T5bE85W407kvPWoCdbs8Hpqq\n",
       "ppsOg6W41vWcmhz63QEp1P5QGe0iyTlAJIif2rnxAAAALkGePUUVLCP/AxO4UYOUKuId1qRTMleF\n",
       "5ELtyvlkHAC3Byc/pOWUnYn5HK8HE7AAAAAjAZ5eakf/BDPohCUec/VzjCYAFxOIp8ZQQ5UE1khn\n",
       "T0tMvYAAAABKQZpDSahBbJlMCF///oywAALtm8MAmlE4PlUFYfq0cxjWYUwDyAui6mUKZ5JFwS5w\n",
       "Zh9pnjrbFhErrFLkDmFNwMdfqzuTiCvnvaEAAAArQZ5hRRUsI/8DE7hRg5Qq4h3WpFMyV4XkQu27\n",
       "BpJwAgCpHrWmUo0zL4AyoAAAABMBnoB0R/8EMY+4XWAs0tSzIu+LAAAAFQGegmpH/wQz6IQlHnP1\n",
       "c2HX1DoC2gAAAC9BmodJqEFsmUwIX//+jLAAAuzYPYjACSAF9rnr6MxwQGuHJIahcokuvOGhZ6z9\n",
       "IQAAACpBnqVFFSwj/wMTuFGDlCriHdakUzJXheRC7beTJQAtt6WcXU8M8Qd4A9sAAAASAZ7EdEf/\n",
       "BDGPuF1gLNHDezPBAAAAEgGexmpH/wQz6IQlHnP0cTdmiQAAAHFBmstJqEFsmUwIX//+jLAABbct\n",
       "0QBEhjC8GPMlbYW27QpjqZzd3uir4eep5JJW5uP2zA0EXQFPcj+/FFeVcDfzEDD0etqessqsiEic\n",
       "prJH0EnagStsnUyWpBgDo+iAokDrmSaVaHXD+AeGsTXeAL02mAAAAC5BnulFFSwj/wMTuFGDlCri\n",
       "HdakUzJXheRHMfCbfU1ACRUhoZDOkE7lftZlAB8wAAAAFAGfCHRH/wQxj7hdYCzS1X8YC+BBAAAA\n",
       "HgGfCmpH/wQz6IQlHnP21sAmYaAA/CrNIA6kHW4QcAAAAENBmw1JqEFsmUwUTC///oywAAW3KdAA\n",
       "rmKS2yMCP/wq3OaEUufs/Bi0/xYw9aXSZZF+SyV4DLVL9smkUuqzFgpBWGu4AAAAJwGfLGpH/wTU\n",
       "97BOZHlpiAKWZKK1XUi1SLiABO1WbRIDXQW6ccgGLQAAAENBmy5J4QpSZTAhn/6eEAAFqzQeAOUb\n",
       "h1fijfQQpCNa7Bdvd9G2Upc5cpTmEcSJbQqHy4W5lycqy9xqpzJihIDOiyyhAAAASUGbUknhDomU\n",
       "wIX//oywAAW1yS23esYYA28oxjg4XNOWVvetWbfc9T0GZxm/1bXF7+tFUxLmD1UnJ1ePYwihuHvB\n",
       "W773Xpq0Nd0AAAAuQZ9wRRE8I/8DEngOKO8ehb2M88ulWuJkirRg598vOkAF0fbua9nRlSu241BV\n",
       "QAAAABgBn490R/8EMY+4XWAs21AuGzT/SrxIOOAAAAAdAZ+Rakf/BDPohCUec/bVI5gAPepcaBeA\n",
       "8AksSQ8AAABkQZuWSahBaJlMCF///oywAAtuO2wCaUS+RNWg8fnIKxyeZ9M2jT7RExUBajOSBNQi\n",
       "dqVXCa2qgKCXXoYN7aFIV+WJwbnDw1bNl0qXoNqTCQlhcmO5Vg6v1OWEUSxJNiZHJHkqYAAAACtB\n",
       "n7RFESwj/wMTuFGDlCriHdakUzJXheSPePcAE6yJm7Tzt1owD7hfQCXgAAAAFQGf03RH/wQxj7hd\n",
       "YCzbUrnkXJcL2QAAAB0Bn9VqR/8EM+iEJR5z+aoNgAE7di6qd9YsfvoZUAAAAEVBm9pJqEFsmUwI\n",
       "X//+jLAAC24/+IBGjbyM51V6gIXdmfTh2ly3RIqx2XOKL8/VQd3ndRR4GntJ7DMW64a6aK8busNG\n",
       "oYEAAAArQZ/4RRUsI/8DE7hRg5Qq4h3WpFMyV4XkjtqUgIAWQgciAuVsy5GB3QCtgQAAABQBnhd0\n",
       "R/8EMY+4XWAs5qUWHGKCLgAAABQBnhlqR/8EM+iEJR5z+Yl5OBQx4QAAADNBmhtJqEFsmUwIZ//+\n",
       "nhAAC1endUWj5zABYfVJJnsBUCC62Tfqb4nsoX20pRB/1CerVnAAAACAQZo/SeEKUmUwIZ/+nhAA\n",
       "Fa6SwB5qDPKDPf0iJM5DjWgGF4N0cGeqp4iGQzEF3NH1gTRHM9QBf8OIGJwkD5yiB2DLnOZ/Cm98\n",
       "MLL9+PEil9sSN+NZjQFi2fZNm59qQtMapYbQ8D3O74Ro/K60gDayrj3c5W2zxjFo6cAZgrkXlJ0A\n",
       "AAAjQZ5dRTRMI/8DEngOKO8ehb2M88ulWuJkjMI114NQ0S2yLuEAAAAfAZ58dEf/BDGPuF1gLOYr\n",
       "rfwATpJTcxksv5ZrucChNwAAACIBnn5qR/8EM+iEJR5z/xKt4YlnADXiyQAE29Q2NmnKmOmAAAAA\n",
       "PUGaY0moQWiZTAhn//6eEAAVl65J162YArfXSj7pyp21MJ0XMjoPMgYGrfIScSMdxZ/JlSexFDPK\n",
       "h/ikAbMAAAAsQZ6BRREsI/8DE7hRg5Qq4h3WpFMyV4XlE85B5ALQ8SKdgPuuwR5QKa5gD0gAAAAX\n",
       "AZ6gdEf/BDGPuF1gLPwp2PFeINKQF7EAAAAZAZ6iakf/BDPohCUec/8SqaMV84gv6GgPmAAAADpB\n",
       "mqdJqEFsmUwIX//+jLAAFbk4jXAHFE6lLOYdrTK0HkOJ6VHxfpkTAu0U798i4p4ryn0tTrTYjM/x\n",
       "AAAAKEGexUUVLCP/AxO4UYOUKuId1qRTMleF5RPSHV5ADieXmjiFe0UkApsAAAATAZ7kdEf/BDGP\n",
       "uF1gLNLUsyLviwAAABQBnuZqR/8EM+iEJR5z9LWwqK3NwQAAAEJBmutJqEFsmUwIX//+jLAAFcMl\n",
       "TgA5YqMi43orEtywgfr0ubML506wXsi4k7+/Tn/+lfmfpLln4BUAzI0hPhEMYsAAAAAhQZ8JRRUs\n",
       "I/8DE7hRg5Qq4h3WpFMyV4XlC6D9WwoykPCAAAAAEwGfKHRH/wQxj7hdYCzS1LMi74sAAAAdAZ8q\n",
       "akf/BDPohCUec/7EYTAAuJqmvaGzTrKIgYMAAAAvQZsvSahBbJlMCF///oywABXTAB9RRwA6MMi1\n",
       "xRArzSZLTX+T1FwV0LweOGerMg4AAAAhQZ9NRRUsI/8DE7hRg5Qq4h3WpFMyV4XlC5mIkRPkQ8WV\n",
       "AAAAEwGfbHRH/wQxj7hdYCzS1LMi74sAAAAUAZ9uakf/BDPohCUec/S1sKitzcEAAAA8QZtxSahB\n",
       "bJlMFEwv//6MsAAVvXtuAF/MNIk2D2wV7t3DoWNI7f20dTOeX1xFIGyV7ewdOYCx29JcizIOAAAA\n",
       "JgGfkGpH/wTU97BOZHlpiAKWZKK1XUqxUxAAJCdfjzpQb6h6gC7gAAAAMEGbkknhClJlMCGf/p4Q\n",
       "ABYmM5DMR2SQByjRsuFbdI53kbn4ykgSLv4fDR+QUs+IOQAAADNBm7ZJ4Q6JlMCGf/6eEAAWMrPT\n",
       "zGbeAK0WRucr2JmTf7uhtCNfqnXBFej6Re0S2goo64AAAAAkQZ/URRE8I/8DEngOKO8ehb2M88ul\n",
       "WuJkjL2DL+WJb7hMkMdMAAAAFwGf83RH/wQxj7hdYCz7wRUiTgQ0JCPhAAAAHgGf9WpH/wQz6IQl\n",
       "HnP/E/SgARkXheHQ0xsiIcgxYAAAACtBm/pJqEFomUwIZ//+nhAAFjGow4ArQ2EYwQsudNOWWeBP\n",
       "k72ybXtMoWNTAAAAIEGeGEURLCP/AxO4UYOUKuId1qRTMleF5ROVU46rtBZxAAAAEwGeN3RH/wQx\n",
       "j7hdYCzS1LMi74sAAAAcAZ45akf/BDPohCUec/8fTMAC1x7KRnO2eP2B3QAAAD1Bmj5JqEFsmUwI\n",
       "Z//+nhAAFh0ucAR71vs7G7Oi5iLqE25n6N1QhEC2ghVBLWjcaV6pFx6OnykX79YOiFtAAAAAHkGe\n",
       "XEUVLCP/AxO4UYOUKuId1qRTMleF5BG7kABJwQAAABMBnnt0R/8EMY+4XWAs0tSzIu+LAAAAHAGe\n",
       "fWpH/wQz6IQlHnP/DuuYAEr/deNHhKD0BNwAAABBQZpiSahBbJlMCGf//p4QABYYH7PZHYAjnRYO\n",
       "l/60ZjfSrTGP5WEzwzlTE3N6KskAvAGMWOOirBWGs6T7l39kxNwAAAApQZ6ARRUsI/8DE7hRg5Qq\n",
       "4h3WpFMyV4XlFdQzgBbwtO+MPE1kIZoAwIEAAAAWAZ6/dEf/BDGPuF1gLPwP63Ot9TgmYAAAABYB\n",
       "nqFqR/8EM+iEJR5z/wq3Cvc5x4UlAAAANEGapkmoQWyZTAhn//6eEAAWHN7wAR714Ko5+DKAblIE\n",
       "A8rD8GmQ6mVH8d2OJoUdPBz4g4AAAAAoQZ7ERRUsI/8DE7hRg5Qq4h3WpFMyV4XlFNRbdgASxmjD\n",
       "GR3wq4BEwQAAABUBnuN0R/8EMY+4XWAs+whCLNmgpoEAAAAUAZ7lakf/BDPohCUedAmh+LhFDHkA\n",
       "AAA4QZrqSahBbJlMCF///oywABZM83gA6R64TZrs2j4kdj8V49AnffawOwkOI7JhEbICwBACf8tG\n",
       "U0EAAAAiQZ8IRRUsI/8DE7hRg5Qq4h3WpFMyV4XmGqaVKk8D5gC4gAAAABQBnyd0R/8EMY+4XWAs\n",
       "0tV/GAvgQAAAABgBnylqR/8EM+iEJR50CZYBKd+3hMKg6YEAAABAQZsuSahBbJlMCF///oywABZk\n",
       "XZugAaHDG/LGQw0sM4Ma61bHIjJuERd7h2RVPWZrooPC3QNggLp8zQD5ISZj/AAAACpBn0xFFSwj\n",
       "/wMTuFGDlCriHdakUzJXheYrlV2mfIMALd7Zb5WjqYdkAm4AAAAVAZ9rdEf/BDGPuF1gLPxS42Re\n",
       "Nwj5AAAAHgGfbWpH/wQz6IQlHnQKJdJA0ACUtFFgbEXxYzQHTQAAAEhBm3JJqEFsmUwIX//+jLAA\n",
       "LJ+hrtSXmjYnVCe0fkGwAl+mjbwXi/LtGqLDz3hoi87tBjQf3w7c07YGPat4aVHXyIHyAUWRNWEA\n",
       "AAAsQZ+QRRUsI/8DE7hRg5Qq4h3WpFMyV4XmKabE73IASG1LBOltzlOQJDcAFlAAAAAWAZ+vdEf/\n",
       "BDGPuF1gLShULbtwtkcHTAAAAB8Bn7FqR/8EM+iEJR50CiWE/1vAAJiSCjyT1sV6NgTdAAAAaEGb\n",
       "s0moQWyZTAhn//6eEAAsLv77FVApSzOvKA7xlYIf64jTpsLfgw6l/EpRo5cZoY1lqTYCu+EKDP5O\n",
       "8PabPqiuqKDHPPyuY82LvW18b8IbjEXW7Odotj1+9mcLIGGZ3T4c6A+nChGwAAAAO0Gb10nhClJl\n",
       "MCGf/p4QACsqIhIRcWAI6Q7uNwTNi/8hbHCB7tY9bnL9b6lgtpGeVgaQ2J5ix56kd9E3AAAAI0Gf\n",
       "9UU0TCP/AxJ4DijvHoW9jPPLpVriZI9aHZIiqGYTmBHxAAAAFgGeFHRH/wQxj7hdYC0mOqfjWNqV\n",
       "yakAAAAXAZ4Wakf/BDPohCUedAmc957rGALMmpEAAABCQZobSahBaJlMCGf//p4QACsrAClNxoYA\n",
       "rPhg/iIcywnieraoeDnFZX1G3R5I0O7VWlN2mFK+spyHl9kl02CryYUFAAAAKkGeOUURLCP/AxO4\n",
       "UYOUKuId1qRTMleF5hftC2RWrsARGdm0jM7Bc90hWwAAABcBnlh0R/8EMY+4XWAtJftzHR7WbxXB\n",
       "FwAAABQBnlpqR/8EM+iEJR5z9LWwqK3NwAAAAEpBml9JqEFsmUwIX//+jLAAK3Eq8AHLFRjqvTdR\n",
       "CjqSl02IKgedPkJRUWKNI9+P+K0iHd1mOPF6Ux7vK/EEshHLawtk5n8T18qI+QAAACFBnn1FFSwj\n",
       "/wMTuFGDlCriHdakUzJXheYYarJYnxXoJeEAAAAVAZ6cdEf/BDGPuF1gLSYVlqRclwvYAAAAFQGe\n",
       "nmpH/wQz6IQlHnQJleGpFF2CRgAAAChBmoNJqEFsmUwIX//+jLAAK3knYA4onR/7/whzT7n3tAe5\n",
       "qX/ZmIOBAAAAIEGeoUUVLCP/AxO4UYOUKuId1qRTMleF5hlAAsCwqQ/wAAAAEwGewHRH/wQxj7hd\n",
       "YCzS1LMi74sAAAAVAZ7Cakf/BDPohCUedAmV4akUXYJGAAAAMEGaxUmoQWyZTBRMM//+nhAAKxlf\n",
       "HAHFC/6EbOeNhYRRPI5fTnJutG1kyTQX2icJeQAAAB0BnuRqR/8E1PewTmR5aYgClmSitV1NWJOS\n",
       "JqAS8QAAADlBmulJ4QpSZTAhn/6eEAArGNxwBt61ZqswuLtN5bcn1d/ksjjjpKyYc5UcGfjctQUs\n",
       "POdT2oEnCXkAAAAqQZ8HRTRMI/8DEngOKO8ehb2M88ulWuJkj1MH2AFrGHv7VvEmPBdM3gelAAAA\n",
       "FQGfJnRH/wQxj7hdYC0kJb7kXjcI+AAAABYBnyhqR/8EM+iEJR50CRH47kVFYIuAAAAAV0GbLUmo\n",
       "QWiZTAhf//6MsAAreO2wCYbwF8TkLwyG521ZjNeFsrpYEB/oNV8a7cQ/noGlu/Aa8/bbd13VkLft\n",
       "iXAZerqatdyNMhY192jcOa7g9Amk6iVH+QAAACRBn0tFESwj/wMTuFGDlCriHdakUzJXheYdYw7T\n",
       "gz1SV4NgCygAAAAVAZ9qdEf/BDGPuF1gLSQlvuReNwj4AAAAHwGfbGpH/wQz6IQlHnQI7raxJgAc\n",
       "FycFCbJYcgJIMuEAAAA9QZtxSahBbJlMCF///oywACprIoSRlUACq6JIde9EtMh9NwsEzpcdpMpp\n",
       "MIFkraxKDT+em75wVSlXZchUwQAAACNBn49FFSwj/wMTuFGDlCriHdakUzJXheYIa5DGRZjOLIAm\n",
       "4QAAABYBn650R/8EMY+4XWAtI8n1ew5HbgcEAAAAGgGfsGpH/wQz6IQlHnQI7I8R18D9AbGJbGbg\n",
       "AAAAVUGbs0moQWyZTBRMM//+nhAAKfjtKAI96tZjWVGnD2jM++5lpBIgwtrLkr2EEQdu4RLHcoIe\n",
       "+AKcgftPdL8CVPBvNkMFRw/53ZjhXqpNUe0EkOXOIuEAAAAoAZ/Sakf/BNT3sE5keWmIApZkorVd\n",
       "TQi8/3ngBeSn8TW1k0swkYBrQAAAAFFBm9dJ4QpSZTAhn/6eEAAp+NxwBEx85ASiIixfO9776PpT\n",
       "VvG98D7byg+/ZBJO3ZkC+c5MMA6C9nmOftWPrgXd9BXNvH3t274WzpjbKTvbwzgAAAAsQZ/1RTRM\n",
       "I/8DEngOKO8ehb2M88ulWuJkjy5pckgBGAcV9aEaZDYoiRe4Ad0AAAAaAZ4UdEf/BDGPuF1gLSPT\n",
       "Z5j9Ns6U5IdAd0AAAAAWAZ4Wakf/BDPohCUedAhvJvWAW3Ci4QAAAENBmhtJqEFomUwIZ//+nhAA\n",
       "KfjccARMfUzJrOA5Q1SlMpipdrRUwcbrXTxPP6KFiA4kBJPbZsqz+2XjlMGKSD45q0YNAAAAJ0Ge\n",
       "OUURLCP/AxO4UYOUKuId1qRTMleF5gujhKSAFhzZbcZm/eQCvgAAABQBnlh0R/8EMY+4XWAs0tV/\n",
       "GAvgQQAAABcBnlpqR/8EM+iEJR50CRHcy3OhWFAd0AAAAC1Bml9JqEFsmUwIZ//+nhAAKfjv4gBt\n",
       "xw2/2JDC5M2KqYlpU6iT375v0GeTCkkAAAAgQZ59RRUsI/8DE7hRg5Qq4h3WpFMyV4XmDTTTg3oY\n",
       "BcUAAAAUAZ6cdEf/BDGPuF1gLNLVfxgL4EAAAAASAZ6eakf/BDPohCUec/RxN2aIAAAAKkGag0mo\n",
       "QWyZTAhn//6eEAAqC+7FIANnuAGxtdRbyCtVLRH/3yuwnsQYEQAAAB5BnqFFFSwj/wMTuFGDlCri\n",
       "HdakUzJXheQRwixgDugAAAATAZ7AdEf/BDGPuF1gLNLUsyLviwAAABQBnsJqR/8EM+iEJR5z9LWw\n",
       "qK3NwAAAAEFBmsdJqEFsmUwIZ//+nhAAKxjccAVvyFsrO7mYq0SYknjiFF6uNi8x5PRquNpO4SV0\n",
       "tWrU3Z0VGuEkPJkAO6tF5QAAAB9BnuVFFSwj/wMTuFGDlCriHdakUzJXheYbRxEQEAlZAAAAFgGf\n",
       "BHRH/wQxj7hdYC0jrGs4AJ7gl4EAAAAVAZ8Gakf/BDPohCUedAj17YlfKgLbAAAAcEGbC0moQWyZ\n",
       "TAhn//6eEAArHuscAboW2qVui8vgt8lw8F0Vk99amQ6dHYOcoM4BI4Gx4/p7EZ7iyVnScvll+LET\n",
       "3MoR4qbNTYsOtPksNbBHDFLMWXbYTa5o9hPeMDt/Jmsrwoo0Cjw8VqolfdKVZ8AAAAAqQZ8pRRUs\n",
       "I/8DE7hRg5Qq4h3WpFMyV4XmH+PcAF1GjwEUUAcsZVwwYBUwAAAAEwGfSHRH/wQxj7hdYCzS1LMi\n",
       "74sAAAAWAZ9Kakf/BDPohCUedAkF0X8+rzoFtAAAAFNBm09JqEFsmUwIZ//+nhAAKfk6MALcKXd8\n",
       "3ERO7pxxVPtMJIYuuV1QJNBtGGtbOrIbldZEz9Z69pEiKyCgMtIH2TIekoewg9rGBbtkHyfYj9Cb\n",
       "wAAAAChBn21FFSwj/wMTuFGDlCriHdakUzJXheYL9v2AE0wIFGOZ+CDpgG9BAAAAFQGfjHRH/wQx\n",
       "j7hdYC0kJb7kXjcI+QAAAB4Bn45qR/8EM+iEJR50CR3EwAJ27JjqT0wyQR3gg4EAAAAoQZuTSahB\n",
       "bJlMCF///oywACpr0ogAWiv/03KcqKBjc/A1GBfYpfIVMAAAAB5Bn7FFFSwj/wMTuFGDlCriHdak\n",
       "UzJXheQRu5AAScAAAAATAZ/QdEf/BDGPuF1gLNLUsyLviwAAABUBn9JqR/8EM+iEJR50CQXhuRRd\n",
       "gkYAAAA0QZvXSahBbJlMCF///oywACpY7bAEI8nzjavq+erUhSeX9vd/e3oydXffepMjCaWSS8hU\n",
       "wAAAACtBn/VFFSwj/wMTuFGDlCriHdakUzJXheYJCCvcAFmfABKYwYoFFt8LKRbRAAAAGwGeFHRH\n",
       "/wQxj7hdYC0kcrAAJt7QMP5FOMBqQAAAABQBnhZqR/8EM+iEJR5z9LWwqK3NwQAAAEpBmhtJqEFs\n",
       "mUwIX//+jLAAKljtsAbeR/IMMWr6m9/rkQsRw03FMQRwbeyAIx1zJsJHQXAPwG1Uldd38wRFZcBT\n",
       "2lmoky3/RoxXwQAAACpBnjlFFSwj/wMTuFGDlCriHdakUzJXheYP49wATLle3gUUya2M4MamAQ8A\n",
       "AAAbAZ5YdEf/BDGPuF1gLSRysAAmS5b7yQuo0LaBAAAAHQGeWmpH/wQz6IQlHnQI+DYABOITx7Y3\n",
       "BYFj0MqAAAAAOEGaXEmoQWyZTAhf//6MsAAqWMyAC8ujseTuMTnBSsTN1nX+D5rWRpu83FPJfsZB\n",
       "DQm3vLlh8EjBAAAAYUGaYEnhClJlMCF//oywAFSxmQAX4tlcfL4wA6p6JZQe5HTOl89OtoeHrMmb\n",
       "caXmmXht0H60ZZa8FRd+yElbmPW1PUcEM5FLHrs2aOG3RWxjIL77+PUxdaUxnrXXVasiN+EAAAAw\n",
       "QZ6eRTRMI/8DEngOKO8ehb2M88ulWuJkoDdx7/0AH2DW02/ISdJ6fDYYuikW2jugAAAAHQGevXRH\n",
       "/wQxj7hdYC0jzhz5gAP5uQ005f5JJw1IAAAAHAGev2pH/wQz6IQlHnQJHpmAA1HwtKuCop24HdEA\n",
       "AAAuQZqiSahBaJlMFPC//oywAFSxmQAX2iLMFHwqcqtClkeQhFoWCkbGDDZWji4BjQAAAB0BnsFq\n",
       "R/8E1PewTmR5aYgClmSitV1d/IfWZBgF3QAAADlBmsZJ4QpSZTAhf/6MsABVA081cMKAEehpj20C\n",
       "xIQ2M83z7wDRdVLTul6PFmjDzyOeMPzSFXr4OmAAAAAmQZ7kRTRMI/8DEngOKO8ehb2M88ulWuJk\n",
       "n21BgIUDGmSbFRQ4ScEAAAAWAZ8DdEf/BDGPuF1gLXfK/YfN/lQI+QAAABIBnwVqR/8EM+iEJR5z\n",
       "9HE3ZokAAAA5QZsHSahBaJlMCF///oywAFd5lyMKDKgBfi8bCflR/wHAZsjO+1+rtA8IWAfNkcup\n",
       "o/b6+ojeNGFVAAAAUUGbKknhClJlMCGf/p4QAFYrufbzcAKAYjPxFkKI9agAHaPm++EkzKN6yGE2\n",
       "Pkj+/xJQ/gYDbRsLdR73KUHf6vayORZV3dn8KGDe2Pb1iTbhBwAAACxBn0hFNEwj/wMSeA4o7x6F\n",
       "vYzzy6Va4mShxabJyFEGAEAw0tHjHE6cQ1QoIAAAABcBn2lqR/8EM+iEJR50HwhvOnq6HejjgQAA\n",
       "AEhBm25JqEFomUwIZ//+nhAAVlRJaKo4A5cMUDqwWDPOczjRVMo8uw+vHYsitcj7L218tVgnO7DI\n",
       "8KNN0iX8IuwHIxPy3N6tiqgAAAAjQZ+MRREsI/8DE7hRg5Qq4h3WpFMyV4XtvSbKL8h/M764A6YA\n",
       "AAAYAZ+rdEf/BDGPuF1gLXtfg62VjtItuhIxAAAAFgGfrWpH/wQz6IQlHnQe+kl6W38WgTcAAAAr\n",
       "QZuySahBbJlMCGf//p4QAFY+JJIAcoqHt3QNy4Rw2cFuquKmWoiCi1AGzQAAAB9Bn9BFFSwj/wMT\n",
       "uFGDlCriHdakUzJXheYcvXIRIAnYAAAAEwGf73RH/wQxj7hdYCzS1LMi74sAAAAUAZ/xakf/BDPo\n",
       "hCUec/S1sKitzcEAAABTQZv2SahBbJlMCGf//p4QAFZZk+MAOkMkFNketIrjVKkBqIUhbEpsTWXO\n",
       "Glg8ccepbYpZeTdEOP5up1aqlRpO1fD93LKZ4sV5aEmAsMTyUSVIxoAAAAAgQZ4URRUsI/8DE7hR\n",
       "g5Qq4h3WpFMyV4XtrELuyERUArYAAAATAZ4zdEf/BDGPuF1gLNLUsyLviwAAABUBnjVqR/8EM+iE\n",
       "JR50CYXtc9Q6AtoAAABAQZo6SahBbJlMCGf//p4QAFYxuOAOYe+kfciZv0Ku84XxzEhdE17yzIEW\n",
       "xolMD6BRMrFlfXd2AXYUrkDl9iCHgQAAACBBnlhFFSwj/wMTuFGDlCriHdakUzJXhe2xacdlgiAB\n",
       "IwAAABUBnnd0R/8EMY+4XWAtfEt0pF43CPgAAAAVAZ55akf/BDPohCUedB3rwTkUXYJHAAAARkGa\n",
       "fkmoQWyZTAhn//6eEABWMbjgDhnhacb5m+ZQnJInDMP9lLfkq+rLuCOx0MKiA0U4U7etC1IVj855\n",
       "5ng00Qjk38atC8gAAAAoQZ6cRRUsI/8DE7hRg5Qq4h3WpFMyV4XtonhgAuo0+JQ0/Q1QiYA9IQAA\n",
       "ABcBnrt0R/8EMY+4XWAtgMi7kwQqQCB3QQAAACABnr1qR/8EM+iEJR50IApxOAAtafWVmXJbxm5/\n",
       "UvRiwAAAAFNBmqJJqEFsmUwIZ//+nhAAVjF6AA5XZN70w7q7XwrG+zo+wKMDx1M1CgTjDN7u/FM7\n",
       "vcY5IpM9F30EVmrFfnAFYgm69cRsnY9jqr4BRQcY3kwUEAAAACNBnsBFFSwj/wMTuFGDlCriHdak\n",
       "UzJXhe2zmyx6vhe47oBWwQAAAB4Bnv90R/8EMY+4XWAte6X90QAAPFvTzeLgEowvhZQAAAAVAZ7h\n",
       "akf/BDPohCUedB3L14lfKgLbAAAAMkGa5kmoQWyZTAhn//6eEABT3vqwL9wBWjcJ+FNamPw/Fl9v\n",
       "P5YO08Jpj6InhGQBEDAgAAAAIEGfBEUVLCP/AxO4UYOUKuId1qRTMleF7O2OALsruSK3AAAAEwGf\n",
       "I3RH/wQxj7hdYCzS1LMi74sAAAAUAZ8lakf/BDPohCUec/S1sKitzcEAAAA5QZsqSahBbJlMCGf/\n",
       "/p4QAFYzj3ACucIbEnSD5GN+Zw9qMrlTLKN2WpfdT29tTvwYLeNe/b++fg3pAAAAIUGfSEUVLCP/\n",
       "AxO4UYOUKuId1qRTMleF7YJQ6gUUtMAk4AAAACABn2d0R/8EMY+4XWAtfF0qAAnbnZU63J17QL/W\n",
       "XPCtgAAAABUBn2lqR/8EM+iEJR50HuvXc9Q6AtsAAAA+QZtuSahBbJlMCGf//p4QAFY+bOwBGrfU\n",
       "2o+utZa7Fki91N43iuROSNcQ3imVw9TUXVYQ1RIShqFFS0atC8gAAAAgQZ+MRRUsI/8DE7hRg5Qq\n",
       "4h3WpFMyWN5dCk0jWjMAGzAAAAATAZ+rdEf/BDGPuF1gLNLUsyLviwAAABcBn61qR/8EM+iEJR50\n",
       "SZf8ZA4lb+AZUQAAAD5Bm7JJqEFsmUwIZ//+nhAAVjVVOAFcex8Ymi/dR/jjbqED7UxBwqppDNCa\n",
       "osll780hh8Q9+HuvDotUB0WDZwAAACJBn9BFFSwj/wMTuFGDlCriHdakUzJY3E4Mxx1niCCGAFbA\n",
       "AAAAHgGf73RH/wQxj7hdYC4lVeo9AAfhG+UaFotRYtQHTAAAABUBn/FqR/8EM+iEJR50HuvXc9Q6\n",
       "AtsAAAAsQZv2SahBbJlMCGf//p4QAFYdC8yxQBEqvLQg0m4X3D4asvFY2jM9YutOCXgAAAAgQZ4U\n",
       "RRUsI/8DE7hRg5Qq4h3WpFMyWNxODMAE5F9ASsAAAAATAZ4zdEf/BDGPuF1gLNLUsyLviwAAABUB\n",
       "njVqR/8EM+iEJR50HwvBKRRdgkYAAAAdQZo5SahBbJlMCP/8hAAT2QzAAfhvk2IHer5Ag4EAAAAg\n",
       "QZ5XRRUsfwTTCe6Mg76aq9b3mBc3WX1ONMOs3Qc0Nd0AAAAUAZ54akf/BDPohCQBpgMVuCpdzcAA\n",
       "AEFRZYiCAA///vdonwKbWkN6gOSVxSXbT4H/q2dwfI/pAwAAAwAArq0zP7xY2GoCBFxTyV8ddfDJ\n",
       "Zje4Q2CPgcqffLU4GBJCA82Q54i+1xQkcljc1dg6XRy6Ja5jyiLhYSwABNUZayJhRvftm2rvmBsf\n",
       "g9LyRjhXmUxYk7op6DyohE5zKIyeUIV0JIPXVrazCp4EeHCm5y+YPVVYnNsmwMep5FsqJx0hNiu1\n",
       "vNV7lU1KkdwVzPVA9HLtdlGrGBwR1+32Evmt1TPKj69D/zc+3PO4brDlzh5hsAb54qNP+fovI2Xv\n",
       "SsEbxUyvls+xRcsInWRhiZRQXozjF2yUlYILzrV5cfxk7li0K6RRvuOsaqWeCOe18A30bhizH22B\n",
       "t6TtQcPV7lBiH4UoY6t3ZPoIPDv1SRCScBxl7tRqV7Y1TXoIwEtLiR+mRYtxSCxbfB8+qFdXUfht\n",
       "xrTy3l/Q52yG7/CzXRhpuQ+C1fL6IIP8fFnpYPQ/6OFSU7KSPODktCnmhNPDqrgS7Ukfmmywkn98\n",
       "ccbXD7ydKqsl6GvQSAzfPcpWsDKKT7bhBZgnplBzxXg0/egbZzaJ78L1Y16VkIuCvsVizCk7cLF8\n",
       "fxhgD7fZBNUiGEBPnywvCVlCU12nBR7pvn3OB/vtm2Rpffvpjj2yiP3UbLuBQg7MWUPPoh/wSOeA\n",
       "JfcPps4zbEGXOogsHV9Vi42GxMd4CuSbzjeclyORrJQSkIQsCRY5A92jGLIZgv2AB9pLXdGXwBwm\n",
       "GzSAdisi6BGSi4+DDWjXvEZAwuYRGaQp9izSCA0KwPhSaeO/yDLxK2F7guI/EBVRLltPYyICyuM+\n",
       "juaRSc6OFzrUVfhnUp2YebyddBdEVDBDez6YFqq+Pn5UbpDlh5q/Jnv0v56sLVUTWhnclmsetuBn\n",
       "XUHGQy7T9RxuxIy54lEtmJ3oS28HHx+aYkZI6PnqudEl2txKjl3iEwW+PntmROge6ay9ZJgXEwVT\n",
       "8rClmf2ULkHMuRJRSPxuEpXEEsnQ0MsW045SqExqM7KqSwGBz1dVwC6gUrTMPuFOGbgYM8Lh+8o4\n",
       "y8ghqrokkj9m80FYbeVPvmXs311kDdxhzmtZcxeaaI8fKV1SaLU1Xmoa0n0WDE+XcGmOVsTrqgBJ\n",
       "VMndpKJmv/HxCfQLhmJHIYclLMMfXAaAkBCvR1Wo6SajQjPEbm3eGGjqA9NXXsPe2TwghpbjEUgw\n",
       "UAuzZSTimGfLsv4RjKTEJ5UW4WKZqWxG+OnnqBaKZ3SeEOJBr+WnOf1/PnIvp/ozlpPaQcKTfhFz\n",
       "i6SunI8+ubOfUYIlDIzf9m7p3iCXpCyx0/X8tv95KkcJJxV6DS/cYFzdatSCEkk/jJm9w0wPOF78\n",
       "qzw1qG98K7V/xlwy8I/4ZRTLE9jnMtIp6gNBBiyLpBH0egymVOf2IJSgTRVzv1/tJHeAew5QXVvd\n",
       "hFLkJd3iXwJb+Q3HdIB5EBK9JvoyIq/AELS+UZ8mXr7f0YW+Z6K3LFHF8fQfhJBQE2LPtKoN/6WC\n",
       "hD1b6TD0UhFgtZcSFz+wFnhU2RoH3kNjIwBJ8k1O8D5Nae6OD0F+mRB9jDH5SyI/NN+nSzyqUvmZ\n",
       "zYpY3ENz0twtuUbI4Na6YtHSl2PCoqt7gAlGj3Nsivl8AUfZfpf1OlYeRx++T+tqp7xOwwoRrd+w\n",
       "soINVh2UH9GC5vEp4M975pbnbK+PHLXQ5wniiLyXNCe+dWLjpfjQGzAfaWq8iZBHTdcM/WTGh2Jv\n",
       "JNfzKFwMUq5JLloYmejqbQ3pxUDKMRSd41l2yhMyyv+bvzuMx+tyJ6lj5pAgy/hNuMNLU06VEml8\n",
       "xqaQrMMO2YqY3SHRRGwYKUzI+D+rkxI0FUFQ5BelPQS6mvk9cePZ73UbvsX4ApK3cEoAsWxmk967\n",
       "J/4GEVGimGWqlbI68E06J5PHS7jh8ZEOe/zHvvXTBSms/CarPDbqrEfFS6oEk8jvD5oZlAk6nC/z\n",
       "PrchQDPZEyN7uMnDqDGnGDrOFofexdeqLGKT08Aah4U9ar0nYAV+mZWAf3TNLlOd9njBc0n/643g\n",
       "WPKgSSH8JDZI4OdhV1jq6cJI48y7t15+qNJR7bvV3RbzZ9HJOb5+HGxCHpLmaxP8TvHrwYyXB5yP\n",
       "GNXuWG11Iw9GETM4LjIkET6JxSNKcO7pHogmvdSy/3vKSxgXijXQmoJL6ZzrK9ZuUCOhSHlNIIPt\n",
       "sznjkcZPoO/V5xFjLOgp3pnBaN7zZmtrGo+dJW5KaMjStLc34Na7jPMT1JHFjxH5GkJEcb+v4hU4\n",
       "R+lmTgBuOZT46KAqcVh+WM9ndsqugTXlxLAYO0Hg+zQQLiMQNakXoeSY21+NpdlBP7A7ygErQFRS\n",
       "m46f2oe0F0FQBuufQl0GPARP24tKzMavCbj0YLddArQkarzb6OStyMpPj5zSveM9JJK7lityJaZ2\n",
       "kO5nbSyIjtyyKImm85bUmMuZoR3XmWUpCr/QPvvBSkY7Mw2Bb8G75nU+xv2TSQWm3JikJ4A/e55D\n",
       "gz10HSDrsTTJCqxO6RI+J/8JfexcZhaMMdQSSkqHPGTIW9OeU+DLhQitZUceAmUj8ZKT9SSB5vqU\n",
       "jVWjouuG3wTe/xkmT5+ZZ9BC8sOUGtDl4tBFUVGFyjKOjIwmzgQ+ywvZ9qkiFCJTqXvGARIsqTcv\n",
       "GevQqWdf5eDkNCOJZZr+6tvy3cHN0zJHB+2/K3b827m0JTmWcxK2LBx2qnrM8wVkYA1/7MOKtmLs\n",
       "5P8cHNwBeM3FQSInP7hsfTIJiMblrWUC0OoPLhLicmKBD6ixhgTBcTPxXX7oU5ntn4YRvE5aJ98y\n",
       "2wBJqQh8kMbmKSZqe6R/VFNsNDP53qo8HamnUx1oj7HVUQ9g+BWc6ZCxrFkQwmHNmmE0hp1Oiltn\n",
       "Z1UHLxsRFcqLW+wO4MpUbyHpPlvDvHwkl9LmKlzGPqj+s9FpKUyGlYRdlHH1+Vr+IYoJNRUR5xw6\n",
       "I96Y5PQcAXK3ZyvCBID+KHJrOIKnYcYEDYNRYOlXSp/f+bRceKCN7RNKqi4QqJYkSy1PL8b0NNwQ\n",
       "ZJBiOCshoot6qLixqC+hcelm6Md+hCsepN9Z4Azc4auUuz+1iRUFNGQkM45BF063v0O0UeN85Qnz\n",
       "YW39axaViVny6eztcD3zm5uKk07jns1lo9jE3Ejdbt8bo2m8KS586mGFJ8P7mF4qCJkUn55jihg8\n",
       "m8gfizxXzfTIOasV36Fm7m/VK4aroe9D1rjYxuHByYzi6xueNZc8swVmxVWVzvzyEpnOoX2bTw22\n",
       "484m3CJEu8kSmws3G//ke8kwxIEojHmIiOZdYntvT1i1SHe4OLvKJqPXQFV6fW7ocVR/vc5RPOCb\n",
       "MNI4xS64/bzjs2ml90zGU0CCVHbo2SYVmx98Fod6ci3Mgm6eYaBvqIkQVu3wbUK+QJijFx8XqhQ7\n",
       "MJ8L3G2pNyNzPR3oNCPYLBdfcKWt9edkFBgc2JHsIK/o55LVGdh4awyW44YdPN+u8CVehcCQWCLw\n",
       "NBeuvXkHp+2bTPzv3pJkX8wYaEusgvOQALo7L06oQj/v/GtqAS9vALYQGv/+nFuuK+z6Twl9Qh2L\n",
       "vbiuAIhcEUBY6G1NlCZR8GarHPwOV3bVU8ztjeHPWzLOLiqCmJH3YE9aQIJk/nzQp7EhyK+L4MgM\n",
       "iPsUmkktQnEZhURPRX/67nypms3dvNn1uAn93A+ctunnU+L3X2B83BxWeNtYXdNKg4lYsWA7CrYV\n",
       "lS3i792Hn3jVPjP9PO03wp2NelOb1YwHD8ibszoCXg2rlYl7VuK9EX5x6g1dq9Xv6ko6KuMaHWgL\n",
       "Q13XDu/qWXI8DqFOUJlWuJKSTyV5WCXwxipYUfy56GpIwGBYnhWyI/bM+I8kBrc110m+nCGdVvsc\n",
       "+3jmYRO8hG7ulJicCd+nz1QgIzAW3tpsSE66zCQZXhH2Y2HvRTlNsf6AId1nXyoVPTBFI/lLqtOp\n",
       "tTYn0DumwvE3GtNti2UXwPntwKA11UNYyxrCeNjf/xRx6XXKDIQKMRBnXEJxrhnVN7/zTM1sZ+bc\n",
       "QA5wkw94K4421g81Og8ICxcdprXBjAs5c9Cuy5FtZxEWK//UWR+atjaqQNCtSpkfo2uTgmEX3Uyd\n",
       "Q7J3FTy9jdNuzqFuJDNk5J7Nu9wxf6XzrLGQdlkYUIFUgc6lxPsFgXbPpYp3f/1sVKzQ/qlixAXQ\n",
       "mZhMt/B1QbiKBuIwz0OrwU/Sbf3wcswsb2793r4oyiLBmr+aWTqUtuYwFk/vjd0Jo3XcBblbdARz\n",
       "OXLc4k+cg1YvYw7w/4hEzjMO+G1bWzZr5l9xTTyVMyB5S4Jto/eFUycQt5zBn+GCVWHdpbIjqcGU\n",
       "U9DM/0w7PplkStfhlE1OYPn7gfG3Pfpdye7jLRF9JxfRbV2X2rBYCMSp7kdizvB2ZI70LWYdRr/g\n",
       "grrhHmwKf9d9qeLW/1LYVT5nY2Dw6/QaiDvoMciYTnuy/5wYoZ/6vygrSIegCNay7TbQmeFPzzAZ\n",
       "LVWLxyt1M7fEMVw5m1NL5yYUJDreYUihN7Rdka3TeR2U1poOTbFQ9kf853FklzWUoyDCeO1Lw14d\n",
       "dsLTh03BV/cCoD4sd0396gMNhsRve9SEkO+cty9CEPMo4wFYGIP/GBULpHpdAxITRaSnVgYOTYYU\n",
       "z0k1CbtT3vd2YFBfVGI+Oakyp7Q+nxsOXOQV/0fyGbxRnLRHd4KwdS3XwAg5BPwNjryWr9y8lut2\n",
       "btJ0c9OeUKvRn3d2Mb7E07P2lqPUsxAkDWlnFdmU3hVSiG4PVCkHduTXSATf5tiAXam1eL0irudi\n",
       "UcrWDzI53QQeBrs/OlRSJKdQr3iH7psRrhmJyOkSBKsaaMBoiFvSojubVDQcCBOPgVjSpT7nC+Qr\n",
       "jgpDwJgpoZJkrBqx0QIgTvIO3YZYoT7ayGrEFWxUsfsUg0AWSf/I4JHMdEAJ2wBLgWgRB+97wYh2\n",
       "iHOeM9LVYkY/woLMoQrPdBonP/CMPIBhbW9OTSt0Y5q8eaMctnYDSOmOCV8ZXSkDOcQt9kIb67mr\n",
       "VPF5pJPsX0m1tjs+NJnCXyNh2lpm71len4LafKNcX4QAIDCZYYQ13yuf8jrdLf3zktHP0vMKPvdP\n",
       "F4BQThHqJrYCWuGXys3+BlOdhBy6+NDx8Z0H1LhwjviUULglMyytBRn6zXzK5+RHjWlWF6JzENRB\n",
       "sQET/QMvMVGXdZieEHwimgA7BT8Y1v7FRqKpPkzNDsPNHZIfsLhthwsG9kS0P4wZA5ZqQrf6r7Cg\n",
       "9s5hki0Fv3XewYKFSntNXS9wB8nbsCGDyOdulswbj8fyG1oVdp5VjU7GzEVg9I91arUb0zipK+3s\n",
       "KfkGViXUjmGrqFj7j0XwpjaCQMIPPSo+yvSkamV33LjrBWC+w/9hiI55XIvz9Biolq9nZYWaqSSv\n",
       "bPMSn1n958SMwVQa5TIfsCDgQ2CuVw7vUai9Sf8Vm+WBs3/2/C+nOCJZFSvBDMpZAQuP+KW2xx6n\n",
       "xAY8jJnPSwGPg+0i37vmZcrTG1yKVeVvK1xrsdw85lygATD5dfTd6KOklN/ce8Zm4w6J3pbxLu3o\n",
       "4TDUZNB0fpuw4mI/kXDHDa/kgueL7rBOgMRz5djcCMvY0ooTxN9MAi01quK+3pBBD/itaUpTw25X\n",
       "4JMKIlj7fJn4OF61tdnOU8L5lm94t5VzcdOx+quYMCMp5RH16Qah8vOIDViDQrllAqZqcxOoRuu8\n",
       "9pKHdJcYGFucMcuJgNHbsYHKg2vG6P+itKotZJlUTW56Oxgf+QShjCzmF4TI9sbeEWh93HJ7KwJY\n",
       "J0m8qW2RI8COuIiZR0YCtLN0TbpgCxzBU5wd/dCW4zTROXXpuqSEVYLnXxoCkTyhSncfafvESOJu\n",
       "/BaP6tTf+toT9iJbww7UprBrO81WijkaYdWt/yH9npJUiJt6BAvKd5W8mXNsVd31PSFV7wnGSvC8\n",
       "ECwwgrJ3eFPMmIoo6nFjGAgLoAgMwG7LZDRc+pSrEfaavq1m3cHiBghoYWRy5ITsvANUBU5YvdY/\n",
       "YVqcFpOAhAYL++W0q9HX2dvnI2FUlagR+CZKId2gk3lXE7vmUhSRggtrNvfdg7rv9OeHQxvLyF6Q\n",
       "HHKAhP/F4xju30lcYY8BJdhRfCv/0Ai471viuDJV8zsAH4tKgI2LmqTeT8BM4mSiT74UPeWuNP8R\n",
       "ZEOKWjucxi5nmD8EtregyDVEf+q5IQ6COZGi1nnpDMcNRuiklGDRnxzXRTfomaIQIPycPSgubjfI\n",
       "9RoC0469ozXN+eoxhHXbT+2+c91HmNVMxbM7OHNIOlSdrWs6Hq73qGdhEo1Pvx4nB4zbhrkp8zDN\n",
       "QtUKQfptt4Icfx6FwTBVpWITMKXwhcyUWmHFfaDT9NTOLr43bMbfFaR5ipXlw8iHCrtJArDm8iMg\n",
       "pDyG07c09i65oZraBvMhQqHsHeyyT/JR/EUdXVH5+QgKR6Bm2muNB8lMSe21ALoBhojoJmekPBI+\n",
       "2/vEiBy6kKxdofceTrZucbsXAVs3il9twPs46Ctylxxa/3Fx3ZyPLXg0FBhsB3/xXGUc3wpMILvN\n",
       "bia/yhGAuCb5kPmtZUB5KFLh/9u1wLtkXNM++daCW2MBXILO7+F/qG4oP660k5BF+Rcjkv2+65sZ\n",
       "HUzXIf4da30KK0nyQWYwsZ8Xu2xDvAxgkKaLWSA0iyhCMc5oR1Ukf3jTtTBLSOz6sU0S2h5bGjaR\n",
       "SPuiBvo3nlbXSpPiXIn0NngKFnNR065ALaCdrhN+CmwiSv/e5EOgjWaCYof3UlugUCM+UoRu713l\n",
       "lXR0+muQ9mMGipfUQksjq97h/XHRwsg2638UUGAUlmc/un1aO/tIY+hyGgYy/YI1F6KJV5/aDm+p\n",
       "tZNah6NnCvJMxZXhqLxIe9GJG1DCi6QuV912sQaf5F4Yaj4c4fnxPoQSPRUpEDuaxrsTXsO2ef3o\n",
       "4DLTpM1d7YZhgd22xFF+SDztaGoMZPwhXB81WhEd4E9VUeZ8S/fR0yRPT8FcnVqDq6oSdUXt6evE\n",
       "wBHaUrXJODDFrXsnq4ucAdK3LzciNB73ceM+PloxVJoUNd6APG8p6r/PnDZ7yyhQqn5tgEMwBDWf\n",
       "K7lCkp1TBKD2ci6yRa0BByfODZNjKP7BrX6W7Cv2rWMRiXvxy654OTte7vV/XwbhaVPaH6nje0+x\n",
       "oPX/0mfjrmc+6VVkaaUSuAZfXhm+N44OPip1gGK3Y9nWOaA+p2yBzsddU0FOyvnh8RHGAk6bW1ts\n",
       "mDrTYme22QkSx80J8WOxU1Dzr//OPXibwDATDTySbwBZO8pF5y3fg8JClKdCKMkNTgr2g9VlZJdY\n",
       "wvEwnFQBoWDtoB5qPRrKzbsfdrWMRJTT/whCPzxN5/oDbTxuUz4ITJNK8g5VZovyaXRG5Ju8ZnyJ\n",
       "5XARVauy9fGWZbnHUcLdLQ921JygpsRHRG2M6x97iFPxihHYcXk5uniniOVCc1/CzXBlM5Xkvs3j\n",
       "u85X0Lmu/rmAQnDhfQLwQJYBybOvccj/ZzI6OQQsFClcI278LYd7htGlNGekZ5Bvt+jJemwMt+lw\n",
       "JPMr2Sk1X7Ai/mbGW6AkEaL2YaBgHlVM6rt7JaE2mEc5PO4v8KXYoob7WLcsEjxojwLTSik9R6Um\n",
       "NwyFHU14iJ6bixNEx0Q9DKciJxUmkeoW7a329h2+FGCU1ulWe6TcAP+fPe2LeUpobamCMT4RXfJw\n",
       "nJjIyrRx09GYL6CPI59or2z1YO2jFYNicWudSr9SdnL7o9xIa+vzOFeF3la5bWQBwQAL4SZZLqvc\n",
       "rN+jxZhZeIH4LD91PnHFKen7jDdnbtvNRsHh8SrUN5tdCs/ZFbliNZsxS+CZ336wy4U1MueRSfWh\n",
       "EcQXmSLYIA2Fy9999TqfBTeiFZUZhVX1oRRVj7cZAi3RB3UdLSsNd8VstVtTBu4yjQytYKlG9ycN\n",
       "bOBR4J9Qj2V0/4O5IQ9KPa9IU7WZ0nMKV6p3ebg6HzvwqDKuB7Z9hLjO5iFiadL+/2cCRL4y7FBZ\n",
       "y4PNoT45QWS/FUarrRSzWmHw3Z+Ah7FvwvQeVUyOJ7i0zyfQdCi61rsg43yhe5wPDiLt2Nb/Bdd+\n",
       "AjA5EQwV6RuaRxFQs7e2agev60AldlihF3Pii2BnYEEGU1G+uehGThrNff4woNDI4vQSeR5LSyLi\n",
       "tb1wRN7XafmDw9f+8GlUF+Y/KLmcx3wbAgLGVleh1bmvJ4NeW7xIVZ7ggMEu45Np+S0H0A04hzPv\n",
       "kpv6eF8LuN38Guk3ND1g0cGjN9o8lWjJFPWdaAPQq4fDBKWyj29mPPcnQwc6/neco1aZFeRI+VxE\n",
       "35fx9aZYGMbvcmvT4fxqvRFjJg6nwDNaFD7o6XIKLfA63YXiEwRJvGrKJmK9CutrQItRCYW4XJfy\n",
       "ihdVXJjdPKNm1tR7WUp05c/w/Y5VHIEdZ6I+MF9/LIgT4LbBdoH+2vrK1jba9A20wmBRfWSU78NQ\n",
       "pLdMAa2MJHxQ4IL4AW3k2yPWnn0PnSqH+iu8pepchRUUujuNddsktpvzfdO+LTGzExJFMlbfhyQa\n",
       "tVg5/eywxRmAFb+Jc/i0DndMOjLP451r5bcvAVxZqOS8apbtuQE8cp+VhY+BommOiUMESSQEMmXi\n",
       "GnwTTPbhAyIEo4+Zomn5uksqzaT8M4Wn2eMXyxZZBZQlAxsA0/IbRWWkdFhi4mZ4hB0hiRK1cGoC\n",
       "n1k1XVwec1pjArd9mNqIanF6BSxrVGjqUbJfn8FkN/Hnr5afRPSIuC7S1NYpHA6AZ8icsyWPoTxW\n",
       "YrIKeBMa2X0dBfWS7dQyXaFjj/Vk7uwFrSGWdLyftzeu+qLcJW+EN0izsXbtLVSAPmLkYS/TW9Xb\n",
       "vYbRIFdhFaFO5HJQBhrXnaTOXbk0vaOC9d4BlWa4Dofq9zvpNLiE+rBmbvzwHuZbun1pQh4uMPCP\n",
       "zX5E2yUQEIMMuolSJZRByF2ynIQg6UV86lJPiW3FR9IFcMa8MNqfrklDhN6qFbyQm8hTI7vHtUpY\n",
       "GzSvLPg3yqwoE067gC+MDrmiWL9DGWWr5oW7lIW0QEgOrcfDevKC1jyPm44jHNIAEo+zTIU7R8bC\n",
       "3iNLGCTrOIjuTTmUx2aUqGZxVJGZ7bqz/kcMDaOaPv7UcAVMYNdFKG3+Ud0bNUTIolCXBYl+VsoF\n",
       "DhcwtlMDGMNiFaO0QKUe88UVJMkBzyMwx9ekX0HjG7yrmL1YO41mDSdpIe32PR0OeAJqK+o5qnmo\n",
       "5zX4Mc112ZQZvRQb5G3JLYZg2MLkj8wk0LFUONphnTOJRVRS2Khcs8egZx6GEO4ZanMGAzITFpEZ\n",
       "38zYMrX5EQ3H/zd8oonAulq7kwJBYJbr/RGYWRebmE6KIqiGsHmBwPUXEuxJI9Ji13o1kzouWd+z\n",
       "i8o5J1gReuyWIIa2DaTdyfnJ1kln7uIDClkzd2HCSolKD7R+OH2BsuwDfH9llAzbTS5eZKLC7YEl\n",
       "j7UNwcDZLerrC/TG/j+gcFFOjE5TW3V2O4gyxyEqiFCrZofLwy/3hYwA+FR39PEGr0IoewWMwWt5\n",
       "7Um9aKyWZ5KM8VLj0go3M+GiGqFH1X+I79C8m2Bi57R3mWucVtdGaAbqXqnnw6cJiNwGLV11OdDw\n",
       "/KHxS7piW1k7R/oVrg4ly8aIcqhwRQ8Xxd0bVeXCkuYvRlrKqU+h9DDZ3Xv2UBWqxVjpwg3JN0Aq\n",
       "4zKY2L2vdEoIVPOxT/XyNWCcUQSFVaRVmCa7GFw3x3kBMb9Ssl23LfN2R4TBMF55GfpjAO6SVFlK\n",
       "KwEYQ+DcPYqhIfLkKDaJMxmr1ti5s1MkQc8nQCm4f73h5qp+wWuHmOFeqlfEn+0VlEVEGHrHcUWq\n",
       "hZ7ZcZFtaHKPvNvjmMnxmdI/TOT7zTuif0BqAQMA5a4axRego2HJPOxHfvtcQK+Wj1mDuVygUmi7\n",
       "OJxY6g60Q+czEtFpJ16mqLQskbH17FlCZ2nzB3uE3L0GVYWaC3k+oB7wP9wtMO44i3NB5b2rsdsK\n",
       "nwy6r9ABcmy01u7Hq1VqYg8yZE1lESnE0qBYt69ySeWQpp7XdzPXdn9r0mNpifCqitgGA2GcTlsR\n",
       "WhvmiU4uFBdNBoflTqeVXi+iC+ov1NFWIEkkq1nMOEToZhDsmmFeJJ9ebeoDh0qKE4/ujBZcybS+\n",
       "gGLz7bN8SuDkIDfC55jr69ellyJFBKZfC3VIa/BPol9BoADzEhUjJ/xtneRdSnd1sEflgC8ERn+s\n",
       "6Y472FdmdnijW/zObOMx1QAfy6PsFuCiBRMMw/Tx2pSwrLvVlarB0peLQP+LbIplFvIYHc01xJ6S\n",
       "2KWbzFR+rOtnvAAlrzEIz8XhYEjGzYZroe6sKHVqjffdaQyetTOxO4Zr5Qp0z8bGi8fYpPw7YtML\n",
       "BQn+N4QWrce91q/ZPXK35OLWp2pTiXeNYk3RsjgU/QEGbQ0zA3EJe6wykBAuGX9hbkiwuJDI3NXi\n",
       "Sy7+bhSbMCZJGbViOWsorYbb0nbePjInIOViaekMoEMnW822r3qBX4+y7SGC1AWgN16q/OxM2Uyn\n",
       "Fb+ViN3UynHg1acpWXz2gvzptl07AG5WT+Y9j2GL0njgr8xrJKJDQKd8r5dyY2g6E8bGew45fJ2v\n",
       "3kFIvOy4jy4VeibTNHJIHhB0+TfEq4XzTv5pha7Vfn3OAVe+QgaMPI2GJACnfHRHLmRgkd42ngXG\n",
       "Emq7pRBn0S8fMRx2tKhbaBEjiN403xOt8r62IqWMiUa9hcD/SN3OgUeWDAq4AbY2o1wuJaG5d6x3\n",
       "htWIrLAPIOIZ+V1M3kSgzfLIj3NP0dswg074JAZdsTbcLxB2V/VHnEAdGDz7mgOpCebp6M4Ie3Ci\n",
       "Wj85YNXcN4hc1NxvpwP8a0/s9zKfoSGVaciPs2z8CX6VQOVcFkqCYDVVuD4gcB3nSMLfJaLGje83\n",
       "ePmHNEZ6mIrDWhpZ62Y8RfT9kKoUoUNYUwT0J/N+qyT3MFaDjfuZhjdzBnl6xRPklBAV2fFSldk9\n",
       "FOSM30taXZ1kMl5KioL01NQeXa/WPeziBDAq2P8BLX5xAlYZgg38wGv8qS+r4N9eHX/8m8pGehil\n",
       "6njyrPqgZmFGjKrX3nmSl6nNy5QfXDAxmcEO62Zj1nhr+IKAZqFHqkEc+3d+VnPkWAhr+gnsxbxO\n",
       "9vxvQrx6KqVA7ox0QdZIgPqEGCu89P7L3PkVEFznjMknI24WtN01DEIvutgDeessZOOaUgpK+3dK\n",
       "e3MmC9piSax6wg+H7CtDMxff9SSYcKFNPeATNOTUNkf8+chiUXLo8pldFTt1mal+KDAObTvyoq3A\n",
       "yOBL1GDSe5NTa6L+a0OSaf31RMRB7x2yayRGeTr7j7wCqYWrVepJmVgpLlJu68bMiEjRM68D8m13\n",
       "KgEo7+vCuuz8p7iraDEaEafwHfiRsFE0tmPiogfSavLvPqW0uyc4f+qyuu5WHtrs9ForNarieZfa\n",
       "2C54n096G4GV8yksc2uK7cAB8oI8jLAWY2UkhPQgf5Ej0YYRpW8u5m5AYYCN6gEuIerYMwrr6A+X\n",
       "VP9hN5rgCfoyuzoODVUClp+Itij1X5IUpytTjQVJ+Fy1X6bf1kDOGvhrx3eAMWFyyX2d+H3BnQsN\n",
       "lu0aZV0afFhVuwAH2aZc7On1iPZf8DR8aR+kLwYSwKLPI+aiK/78luFb0oDDauezOQsQpLZDh2Yl\n",
       "1+En0cOjJa29pjrPnyZpHc1ofKyVac2H3Hbt3bt55cxAtAmqGPskjeSs/RdQbQC7yqnhAjSLdNVa\n",
       "snOKvnLXYv2h9nB4mQF8FSYWrtfltxAIqxZdipIWSm3XFq2XMKbxhcJJQ4RHwIZZJw62BTXVDqCs\n",
       "XjHoX+5TwAvU1Wf5RtS4xVosDNrheVy7UX9AaIAElbnpkVOZCx3uGUbnOdwzuJ/yZo/PDeUx5sBS\n",
       "KoxHjtvpw8iI6eYtWKgxFGkYRQxfZfvJPOy0AHKZRiirJiAoOEXM+fZBQUceORxMcetkrmIbLvBl\n",
       "0/O+1UG4nMVeDIJRp/7zzPthFAWCPXefHqUKRuEqLRU7iXhMlWvaeKzPhKLCO1o6bIy62SD/oS6P\n",
       "lVsd9SM+vuVm4diuYle/J2eFU20RA7rko52hs9JaW7K1L2ALMvre8ra1u7XhAykMqo0YGkzUkTxH\n",
       "ODZeLBBhYWMU67WrCzNDUH6mU26gS6v5VryhQiAtvnjbcwkVQo59kyGNJeau6E0QVo28WS78AvEv\n",
       "EajK71YBvKrZpQsRWR3qTU8mLW/tS4Q+ClGc6eos1omvqLT/Dz5B4zekKc7oeJZnBBPpLHFIteV8\n",
       "C9MlT/V/TKaah6pLfhV4JpUrHZVV9OdsgBSw+rE8Yumgc/oOljcfGO3cXIMHEfGSnsr2DMosPfSq\n",
       "TaieKT2bb2Zi8DCHBmxDwikBZyuydaaWYYj5uV4ffan0DkmZffB48RwMSp7KD6nc8r6Xy3YaS61u\n",
       "P+Egdy2kauvCH7/TEMGmDdOnFp0fEwmPZmsH/reHs5U9BDxP21LKJb7sqPWLBHdHT1DhGWn5GILg\n",
       "cZKxKKC0Ff6VJOETkIrJFAVqmxWVZYVUOAcTaAtPL5gfsHgsdoHDA6Q43rmLBlmDRf430+QalsUU\n",
       "wBodKP717YkkEIzVIgE9pTnp1LEq9pk7pe/BNibaZBcZ8tu+Oy3HYY7E66/rLZosWvJOMQ8tvwCI\n",
       "zCe0KcA3QNT9O3FKotYZJhReNCX7JdPrWJasMU80ka6PsPKK5w2A85r40F2KgHhi3vcN7ct3ZfJQ\n",
       "AoWvd1nyXcWBW9IedVgKgvdjwfSciZpXqoVTVUMjjlPWtBs56YRVRm7m5YQzY5+F2IXiHm/j71im\n",
       "g5UTJTa41fpwpWllg1p0Q/TbGO4CtheSSVKzTOBypQvXSnihug/P48b3dK2WWZq5IN3KzwQJT7J5\n",
       "P/prszTkogdS7xQR0EGwFLDCndZLVg05GAVkzZ3oHQnrZ2ByhbLT4CBHt/W6mlab6Foq7KH1K/4L\n",
       "sLUNV1Ypvu+tVcBEPyjYURAyzhS4rleQiAdCXILzUqjwtFJa28N6jQYwrq4WokCSuq0lIOVKwMca\n",
       "GhnINFmoq0GHSXHg5t9/wOT/MLgjW6UeIGC9Kf8amY7ZIGMbcG+nFhd6ffvQWHMbvow4EXvgfBz8\n",
       "jfAYvTMXd5Qy0YHd/dpGH70tJMrMNEqAZXz97ksIfDvvczeh5VDNci+jo9WIiG1gbBzbidqY/VCc\n",
       "9lpX0eaOdPPNSObPZwe7KJDy8MkkGuMjOtyK8rjxM1oErNy+QBsGqjGFQT2BET3TRaL97q/FxXaZ\n",
       "JYBUPH90UdYi9nkyDpLxwQs32nJ/+u+OiZZc5nDURrIxXNsYJ83DJJNGa4w1Y/Hg1X548I9UBOzh\n",
       "I/u/Ko3tcNWCFgpD8AR7r4Iy170L52h8lDxlrTyVXGUpbeFVcsdhldvelbD6zJptyuvFkEJ93SXg\n",
       "2CR8bfGqs/FEiV5GWF1g752z4GH632I2LGxuTNlO+djImKJGIblnIWWWLAaLAoEGx6DBGwANZHFn\n",
       "9qWmTqOzPdeN0pa3AHrWLBNNhKur5TtdriwuWkeoc0rXN7N46UN+qKuFFylbM1lshzKMlXKi7hCj\n",
       "lEB03RRr2OEDVgyWxHiMALmxXDBXj8onQCWUL62q5xJRVOwvzISFwq5wRI9XSm7q6K5RxmvtzKyD\n",
       "n/CfqknQCnqqMt4LZn3m1hv5Rhj6g8pOY1srMP1fiA6RC/x26ZbvDwxmv79uL/kyVyONFkF2zqFS\n",
       "IOXuD486hvLXyDRTYstVmHJWwHE4ah745xh6H5we1bcGg0pCFFihSx/pO/rvcv54Hk3mbsnwdn48\n",
       "5B27bR2u1mv9ShF2w2E3rBqiiHt25KM60n559dF2KsXOC28r5pm6u+yIlBwT4nVpsZvdDpuu01OT\n",
       "b8jKcDB7NKOifGsmTnrONe70bTjDW4rQTRq+B+2rg0xYWWcGc5DOovVbVe+TqG6qPPIVAwvfvXCe\n",
       "aYBrf36MyRPDkNNNcSQeIFR4Nl0X/Sv2aKtNX5NPKerDLYrMYv3ZaSQspmoohMN+FY5lNe6dojEC\n",
       "79Y0kcZIOBxrNPXeYo1Hm0pBXT54iwpao7a+iO+DijPHDt7cHhqH+bQx3FOYVMoCqHSWqyLJPhLb\n",
       "nHSOK4X059ArYK8DeIuR3kSel1wrCwvjXOAjQyRydcVZwHjYOP8tq4tIzT9UMtc8N7ZixROBeoX2\n",
       "97pLZDdR6dZcEKSJYXlIoHf1q1FRNGtKeNVQgBfp6/0RpnpSjCGCl9AnkLG10dQhUNnXbRygYSdz\n",
       "jfGhybi8ntzKy8K1+kfvf1vWLAQv8YN643B7omW2iGoWhzBjDXvb6+Qapc40Eh7NtxjEaGihINSQ\n",
       "VIc69fGZswNAWWxYic07W0aL6A23OeSrZ+3xdWINzk+qGkkYXUGdTC6Qi29QvwReozLb/E3MSywZ\n",
       "e9Tg2w80wpbs5WwytPoLvnILgDqysnOtT5dRx9I3LP7Cs8XPFIZG+J7TzA7foTfGFhYjWKgy7cmK\n",
       "RvYw+aL2XV5lEQNog7ZlV2BpNJbCbVaMWC5rwNgRCyph3iCPyws5gvW4CettpPGDyC49xDZH8rqP\n",
       "ORYDPEWil5kZAZmH+cxCGSTKADjGs3uCV5U8n+CnMUq2EZ/atMJdWPO0iJtkkLSakVr/oX560jj9\n",
       "mM5/8C6i+tnyyxK44GQKZTP6FbYo1HCZNf7VFT4x5krkG5OrTJVEW6nI4+IkPwiyGokVZxYJsbDU\n",
       "jMTuUFj4EEKzfp24FcK+9d3uspdQvRiLl4QhxgwcibMbBmz+vnYUhvSJKHvcL1V1AiiJFi2MtrSM\n",
       "epgI9KhLzBntxLPAL4KRmXU7/lKVXCVhlsGm1YWmY8ErzwC4iQHAZZYkSY1/aMMcw5K57tSCftgZ\n",
       "hvmHT62Lay+xFEnT/PfkuSWQXfAVmRxhDPKDS0WLhJNXT4uGf8VS3HRfe63t/n5vmNRGrq5R5mj+\n",
       "Q7AiMl+SCj37BwgL79M6PVkyiRxAd4lKHLies4qOdwN+rpc+AQyxPtcoXsP0SwTzIUKYZIPYucTF\n",
       "zAwUEqrL0mI2pSaWlYk0rXaCfAoD/8f3d6IbHylcIUCrkL3BJ0oXkN+iHEsEoiLvXFlfJkYM+jQz\n",
       "5ze7JioDXLICQs30xQZWOeCGstQkUQ6o5tc60Eqy5DpBVzRP/Au7P3rUXnIo+mLRQwoddJ2ajmfW\n",
       "abFM1K3Z2iuRVHME/OF9ml/IAa+KJECoagu0sZyCGbZPnq8ec89lu0/whxkYVRCh915jBO9lJlXJ\n",
       "inox/xf+zil6iJOUMumR8S5NF9jWpJyQROf5QxA8ZnylAiWO79zyS9C0RKt0XEZ9S7J2u8Pz9Mph\n",
       "OMAnzZqps6TLmbVX7+WYEsXI3Kze+DsEnsPAU0aGdSQEupTP2VHuQZNaICcu8wN3j4IhdPAO9cDb\n",
       "5byaXXLSuvuGdCAQz2/AFucTZAU6+oDmGjoURpDg72ZS9mq1Cs6jQXKH8b5PzYqs8VLh1zBtxGB5\n",
       "k9Hyvgsr1+qoDKT/Us0/6uoaE1gS4Hg4ei0iKWMqncsJ29jK614LMFD6Muu+uE4wlJWYS8LEePMR\n",
       "SkDcGTF4Kh6Jf0ivmg8/vs3Eu6Xaj1gZS8aOKlxwwbIcuYDPEK8k6JfjbAkF1w4YBxzoVlXVnAQw\n",
       "Wm8kVX7ZzG+g5PfWMxMiu8TIkpRO1d5Pnk4Qq6yoQOyvP1cJtDXHrk/iEmykHASd2m0443PUYkkJ\n",
       "BIcSxdhEk3uCAPQwHiKhSkT05+LXT+6KVK3FlcTf4/gUkPN8qogdOK6jeH9XneCJTpjCEBT6DTZh\n",
       "KXSp5eQlg+3bUY1GPYeVqVb1T5J1lypr2OluUJnSfJtFNJ5Qum+/7HtL1md8Hl/qasTvoORq1RfR\n",
       "Yy5lZGhfDs2yJWnyw2BxkNFJlcdjXCLP2KJaKp+t47Ej8cXfElPRTWsB3MUsbe5uuTmpjt7yjJli\n",
       "fDxnaJzPJo/XwzuhIE0XlQ9Tty39vHlQ1ZOvXWr43TTHx+fsR7lsvWyWS5aoXfvuu+FuAwBrzo4d\n",
       "VpYuhtP+mXYdTwom8+aj2ev1883pV0YaL6gkOdsTHNK/sA5+mcthWJiaZrq+d64h9EQ2aXAeWZsw\n",
       "jgG2sI776Y0G4ztX21L4ONoGb0FA/mz1HUnpSC6zwvUFqkFXnGEUTdg7ZVRuUNfI29U1ejRnsuNY\n",
       "rtaqbSktitsMDXMq5ZwUYLBrPHP2ML4CtLDiiFEC0qQjWbLuEk4SyB636fwfXL/22I0fTRCqJQ4Z\n",
       "bFYBVEuypJWP/7O3b5os37WkmJLXId/zy20xWmXKjXFSEJ4ME1qcss3Rs3AtFSkLT+xNEghLHQn7\n",
       "oMDGi7rMStzW0IML2goC+gJ51dyJhmNkAs3cbSE6RYfmdlYN5JTFvjfMLTHFJqWY0NJdTtLNymnf\n",
       "PvmeHlKcy7KOHJI2nTwoWqR56l3LLzJI94DYszGMNmQhkLY81aglKwTdAThtstUXNOXqC06x6hUV\n",
       "Oy5OPs1pyALkS1G5TK3i4yEhDiN6hxYYHoLBPWxi/cNY06Z4mWxKzy3RdrWAAxjjPb1p+uIrqSb2\n",
       "UpzYHmWIyULpcouHkkAH0FCZyn3ko7BwS04neNiV3ghon2Q9uLJxzc37GjJrb6Uh0A7kscNsFt8P\n",
       "6znPEFwh3tMo/w+DpNrQD36sGgr7vZOwVX4RCBc2lvjPDx5sQXBxpxTTvfV5WDWIp+6sRJCX8wrn\n",
       "k63m7n/mCTEoj/IesY2WKN1dMrsp5xqwglIG4ym+pqll9PmHWm6JTbFu7y/i1OzA4h5nHhWFR/6A\n",
       "MLaNTpocfjEG/C73cwtCAtfA9/lPu4v1fPzBc56CcCC0HjExrJZjUP7RD/m8roM38GFMpBuyeteR\n",
       "V4x5GvjgSyHB8GYyLrWzDNa0//pprOatp8JTciE/boZBoDLE1Ymris5kgak2rKXioccGOnEUmhjG\n",
       "8HY+HIr5a2FBN3Njq2/oNtHaqBSaL0trS+L8nOh8zJePa0pF6Lm+EryLww2FQbBh9tk6VAgAF47a\n",
       "cBfDHY0S69fnFUb2Gq4cwBaFc8NaF1VnJ6keqJdh0hYrqlOg2t2oM194Qbh8/sPlLECFCtPSGD8k\n",
       "xKOF4N7ExmcIPWiK9dDdt0gdTdXclq1w7Wgr4XKN/JwjCPZwFzLTxC3e4GIk7xHSEM0+F/WBSP6G\n",
       "LM096pH+CKgFs/4bbJiPYjffDfKDRbxMpgHAyDsExK62k4Q1YqOD5LZEVwkHMkeb9s54H7LGJTUV\n",
       "1IzLuCTLrO2aQdkw4KJuzlrPJxRLVgS7+N5v6WfjvAUiSgNRwgJsWJ5bPkppmCpZuE70fO7FzOnh\n",
       "pQmp8cQ4g7c3DVnxY30TVv+mbRbPowPWVM0xrBIxfZl5pmxOxyUn1JOycCewl2catGJnRvrzMprx\n",
       "5jrVlbLzV5PSt65RK5ZdP2YhQOf0ARXNIFq/8fG/BtthXVcKYq8T32XXjn6DiFLvMuaT1Nf54Uhn\n",
       "7Fv3WaG9KzpgFzFc3eiU4rZQaBtKV+16uA23jL7a/+mqJK9qkflQo1w9PCTvB9QV8M+e4u8b/CAx\n",
       "gZfivp5w8VjPY5tT+nwtdYZudvecv7WO806wtD+NBaj6FYy19EROHFS4yhktfXEXKvngmCLGQTxb\n",
       "iiS8/K0C9O5x5+Kh+OSI2QOC72ktBVtEucaD/vu/JtoleikjDYDR3Ok1hrRqZV41VeWmbeXCQPSK\n",
       "s82XfO4MGlD2h8+MX/1Kbf86XuNqiwOmWz/9zeO4DG9E2tpDys8Mj6Er5+bxaHNoDvXttTUZxxPi\n",
       "5JPbBgBoHLLClYKHwTrIbnJwK3k8+DAh0hE+iSbyL2PciS2P7o/IOyXAX0WBV+U0Mx9gvAfjsFH8\n",
       "kREwFgAVSA3m7pHuPKZ2VM9IwhgoPcLOOcwa7Rz8xN6eAaS6EkFJIjOm9BDzPepz8L0R6bCulguu\n",
       "tD391c6/neb6W5UgDJs6fqFw6k7mjgme/NdicsVnw+n/l0BG/XIM7Z/mDx61huD/xLI09b99WqyR\n",
       "tcFp9z7ZiubcWpH/XrL65nMGt56ToJBet2XtWtoFJTlhpJTGZ8dXfdpboa09+zyLYxQwmT65fABN\n",
       "o2KtqqHCK0qaxlP4zA+jey+3nPSBJzXMewpcfT8Dpv7ocW2trX0b5fXM+b/BB9X4lSP9cItkq9MF\n",
       "76F8tEAExMTcyw/VUq4rELpLa+vQj94NDp6eWUkLDp4RgRhHJaL+M1Kij9oZyskM3ygt502OQUfl\n",
       "DWNMFQouTzkorbAXrm2HFefshcZCDQxRwft+gSkKh+DB7gZInwLzQid75Fo4Cc1KGiYDECqtDcqB\n",
       "cPMRkIo8Gn7uAxtaEl8X6IVuC6hyTs0QgwhC7QEYGAxTsztL5EfqY/9IWrcJO7jWdpeCkfB1ECpY\n",
       "2V1V6Vf9IIY9ix/NUxstlFRlSUgTs9VsjxyKGg2cEexRhIU9KbmXc6jfWLPrQbnxY4Gp0Knu7LAY\n",
       "o1lf6Ax3LmfefQnbxnH8kLIyYtpz8unYmF0/3/kFw/75jvhcG8iAVNbsckGWe4zHZKTqUdNmMO/U\n",
       "cPoVqsVv8ZDReCyIiBHbpT9p8Tsm0U1455kz6JKvrLy7Pul8qNdf6gKx9TGfZfCEeUd6/p8uuL4L\n",
       "gXTHmjegPWC2zsXdBJLKQpuJIte+6e6E+/UAdHs+dffwnuWRYLCe7gWZ3vOGuNOKUZ3AZwL9uCKI\n",
       "7E52sGsAYkgNAa+/nVCqhEb4ncdUJGJTKLlZ8oL4PPOpkYJkPvnznjkZ0f/mK3XnTmqP/oXr0sBC\n",
       "mjg+q27AwMZJXk+9e32g4Uimws9LGBwMoB6aJq1IypsMkQOFNUQgHI8TVCJwPK+r49ALGo8uUwYV\n",
       "UuKGeTF4g/fU+LLouQQ4BSguFJhDlduRljxahOvZHHfpFco8hPTteAEHfu8wT3F1wrD4HL9fFGCX\n",
       "Pv4hfHiqPxsmz84fV8xhbZuCodoxqW0BuRfttyjhgsKmooR1r4/V69Nuy6jK4QUawFqoujbusoAc\n",
       "DK4ppzDRMzxc4rGNI/Udt8sD/mwxbHCODHoT+MnyTEZs7DHSOTavf+Gx4tOF/3Anc8xNxmEOIGKv\n",
       "nwI4sBIf7D7Z43qQl5hzpfU7h8KPaHKHI7LtLK7TJmsnYHN5nBX3nfwiEGRn82toSKzjUgq+6+yw\n",
       "E2gw6XFHJ9uS8fl/Af0m3LckipMTW2SXk9evjMls70a1FLoJ1Fq4OqyK8fdfUJ5jY9AKH/2iXMai\n",
       "P4rxRUg8GFg5fE3AUlEkfaxp1l9X+TJqzoniB72Nfi/s3Lo6TUTmtYadvpELQeh/FEWCZt/tp+Zz\n",
       "OuJ2wjUwU1TQZkq1qvjIRkgN9OSmyAn5jjqK+9cZ3Nzl0CwUzHHow5c5L42AM7JM7RY1T2Q6JO12\n",
       "wIacyNoiamG/pdndNfjiRHj4AuagK/DEUUy9ExQTUFRtX5zYaqDwUEESoqQASclv3FG7xaYdJd+V\n",
       "Au1r7y0yFNU2qBBpP1MKY875Jm3sk2zG84Q2TTs9QvtGeNoJNjSzYWwqNjzkU9wNzA0UskT1X7wb\n",
       "/6IOm2rlMjna8XK+WOylF4hzsYpPAe9gZ/4tTqcRkP6BnGcSjBRanpSZE6Pr7dyANbmiSiP80T2P\n",
       "5vKui/kK0Yi6XtWwWE9wIDpIHse0nqMR7zUPneZj2fSEdHHZpkD3B4Ep//ZDgu9Doeurm7hX7dCy\n",
       "LhwgL8DfPELckU0Q15I6nX0ZpQnGQJdmi5Y9noywK6IIB0wH8LaTGKsnn3EoDOOu8jo+lVH/m/F7\n",
       "nfpwMUq+shS//+UYc1Mw4q9MVP65PatQK6Kxlh/G3hQr7qAHo18pR0Ne0S/9/Qm67y4I+JSmGgop\n",
       "NErkFna+GWSzhwT5/QotKBoHRD4uhhwuIo2aWdo2NilK2Xf0uXZ3eVQgnjTR/G1y0WwW0MOcr5QB\n",
       "xw7mz9l7vIYDWpHomnez/GUoyCrLk9+38/4zR4WDGmkPINeHImmwU9QC/gy5gQHVePO6Nkc5iUi2\n",
       "pC3V4ZYZvIJ4XDY+M+q3lQZhQllqrugFhTdZwHXHlhGSjRq1SuuyuPXAxzpJClPSVS16Q6xmD6Jj\n",
       "45a87cDOWXvDKIEfPF1pc86YkmsRW8Trr99IMEuXbJEyTSMLTnDTX7vzXd3IoSHp8+RzEb9JxBwg\n",
       "v1IprFRmMlebFArj//1NM8b3NJLCLyo+MG399TfbNoH0oeG9YZpXmuOPt43BYgzEm4IvBciUTUnt\n",
       "bxIz7gYJwfxnIjBDM3AoMRs3vEpVEdoEbg30jcI6DCAMFZjgDJwy8PLgG5qSzw7PDNSAaMilo8IL\n",
       "AcGA5kzTYegJ19/BJmOQT03xRUQR2UZndGzg4a8Sk6V55NxyItYvRHzYh+8Gcyg1VgnSvBaQqEg2\n",
       "sdt72zy0Y90aDW9zZSbX7uPxwCUvbZrInyGQ+e5t56zMDCA0eFR3zRLoB+FBnAmABvx5d78TmKDf\n",
       "8T0bDGtDBzcQZ4ZRrfv/BGEcOM7oxOUvXQIbV4N7Vb+DohGhO+J+5JVWTZ2VajU6GPO6VU9nxxO8\n",
       "FTaZlwHQmPP5awB0EUZJfeD8437kJCXQO3CdkUaS9PRAD3QwlMGfIcYic1X5jmdbwG4vtSOTfmlq\n",
       "eVDqbpAxmkbRGw8DY5Bd2iGPSUQC1YdaODuc+/k3pOHY9/ZMfh8saxCrBoo7xPlAkyE23I0Q8DA6\n",
       "LfJaQYqvxXrIEbdVhR3jm4qsIwRJhOEGLO0gcURh2/XOApyaiXu0+xtQAz2AdoJSRrp9IOVlxXTM\n",
       "9FcOXdNN6GBLmELW3rJv8FPopdnko3CuoZMXLvsdehsJfu7HySZeOJyk9xJoQkqif1VuQzqS0a5d\n",
       "gCKJG4PJmx536amYiCGcSGD/HEGnJ/SImvy9pLI+S0mKTFnUuqhPSk0VMMNoJ4stylZb71+uWrux\n",
       "pZYjtoHQTs7YjL7WaB7CMMipkTVkcsd93mDjMELybrIwvQZI1GMBegJa5Y62M6lczH7IW1j+Eidi\n",
       "9CvJtmFlZudlDZC2Axyyy2NAjVF+MuK/KeFFyPLMRXqoq7kZGh865PBm0BLVzm96XW7AO/OPjoh5\n",
       "6gIjLyUKpzGdhCe7hkKGGdDLTU9//efR3pRSRWTEa5uyBfRqE6+Fi60JJ1LpRqD4ebX+1162IwME\n",
       "HD5PBOhNFXuJcY2gfngAn5JskGrwHhoM3MkpQgorZ0OBsfdMz/tDjVPcdUdLu5bHyUWnvpw2aOfi\n",
       "C4K0T6XoyUJ7rk5VZEgvBgkOiajX+JIbIO/omoR65XPNcDvdi5xLG2MBzrThrROIUCu3SYd98nez\n",
       "l0FRiFU0abzwloYb/I+R2AgamiJ5hC2dlJ3qltv1gmtNSPmj/Tlrc4qzIlELp6wBxqdGojQ5e/Ke\n",
       "3nNyg05nEyxf9c8EwILmVJ+bujJMeIS5dm5kL+zIyeIr4bulBhUg3RDjL4hWiNblRsolMKKZWaHF\n",
       "iPB7fC+kB5sJzszrIcdIG9ZySKCsxrWLHy+9NtiaDRtRULhiT9IM/UfhwiYKE6Gu7qP7WHeb0+Kp\n",
       "0Tak5HHd2gaMQftzhGLtR0y4AnW6RmS5ZqhP6CIpVdNPWI8TdZhSA7aD3F+mrX4bpQ65B/go4OQx\n",
       "urFXLV8vaEJ/RuGxwv+SLmAczuEt/e2u5ZOSXGnW7WGNfqt1Y++UdirheRHWi6Pv7czNWqHsANbX\n",
       "z7vI0Iv1NlkyFKpvYW4WH9pJyUs6wMYTiANXhiRMkvjKBysm1oVWII57P3JXPcWDk7uQYsCUqLFg\n",
       "ECNnjlGuOw/tSUVJU6eNv0xd3+rRi9WEDsNg3pPN2hSn7MsqTKKBRRWzWgj3peCKmpWfJoO4C3kx\n",
       "Lehazp/yhPHa/dfREr5zTJP7hb0A2hL360K5K51lkXmXwV/XwFdOGDJzWoxFqFb6M7Bbcexj8xje\n",
       "5eAS+3JqtjAZkEXSngNFbvQtoJA2gE1RUtLmjCSgfaDxq2G2NtPwnF97rLAfI6145HMaECpPUBok\n",
       "d/aZRhPsT0IEbAKIl+ZQGqk9vDGtMa2nMUSt0/qRbTlTKFt49d8G+dBrSvDwkeK8U1W4fHSw0lbO\n",
       "bY9jdLYyzCLRPZpHd/TKP+PdYcP35DnLI3Cu++ByrjIaiKJp1sSLW2fIgbvuBkwAn1idBrUwgA2D\n",
       "g0HOSIgjWGXsD+WdFFMLen3yRwj2AKcgQg5vr4vrDMdf0/L0HncOynZDl/JgmIWCHzoOGC7sPXqH\n",
       "GBQzklmNp9MAPy3W7T86d9wQJ+EgAhO+I2XEWFGIydoMD0qrMGlkOZjxhT7O9E/9teNoHmntbQkD\n",
       "2PMndKy7nVg1iBamg/UYSZh22zDnLynzwYIMeLevdzFFeJgoWgIJUVzcgMkMHdHJBaNlf6R2KkW5\n",
       "tBShBBGpiPNJiIkjnAfrJXQAAP1yzjEAAAHpQZokbEM//p4QA3PseCCl/AG7zobyRU9mdML6gNTd\n",
       "fFriA3TldGqwoQHpdt8uAtK6WTLjn3hxjhael+IBtQB/qq2dojwSZvBTPoKVQF6I+mZSsLgwjD/G\n",
       "zSbv0YVBz9CHa1d1HvpL4YLecg0KrNANX3lag/T7NR+nfoglQsW285OY9R8dy2e6fusE9F+Za1VO\n",
       "dNxh1TR08TXFb/eyc6L4LpKHsmp4llBG0BSIkUSPwbSUxS3BrsszTXL07/liVyQsx5sAYVq8V1Tv\n",
       "yvk+uLydBS+IhADLQLl6orr3X3axWctNBnYtzIVcCxihqM5gAIfJzf3EhAMcdGOaGiCdzPOtrwz0\n",
       "DwcsKNIPqmKRsI6LIBEsFQkON/zEKO8luYZIXn3Ti+5FZVhhjXRC1kwythJeE9r3K3eT7/BtFHSF\n",
       "uVg9Bm34SJDMTXrEPB32k0WlJuiqsn0/cLQTJ+bXsRXgfAm9Q4kyK+R1ciwLa8cmS0b9S2+WqGzX\n",
       "qI0mAgMJK0C/MlXAxMljdit1AO53J53EI4uuKTMyrnIITq/u4O4rsQFArTfCHMNNykik4UI3PfEg\n",
       "sWAcRJmNSclOHwSphczgEMJuaM7a5CEtHe7kcGLoNvUOm1fAn5FK1wbKyIeJx9m5k8Bn637ZkrzA\n",
       "VcklAAAANkGeQniEfwEaUVCG3YVs+t+6AEsdaLdxLSoauuE3Fy83zwbtChueqvB7mFDbqlvJrqVN\n",
       "XRhBQQAAADIBnmF0R/8BxIo2idf2kAB/ybMSJbxpEcEMR3ZCVdawdUkYOpOAUo4toYX9nKQIqwwu\n",
       "bQAAABsBnmNqR/8BxYAa+Fi4lAm4o8uHzYCuTI2n9KAAAABVQZpoSahBaJlMCGf//p4QA3PseFeU\n",
       "o8HegP03Du2UaDsxjTrY/ERYBhmU9Il/qgK9OC3cS5FQDKGJWsKhSTV9N58Qg8oYU1O4sxX4Qp0C\n",
       "ANaowhJw4AAAABlBnoZFESwj/wEdgZwbws9RNKgCGgS0a7tbAAAAEQGepXRH/wHEin+w/KYQSarw\n",
       "AAAADgGep2pH/wBYlACJh95BAAAARkGarEmoQWyZTAhn//6eEACoKPsUr7ACfyzXxQcHmFqKHmll\n",
       "Q0+Z8DoeuJQSN7OdjfeavYT/u1kwWzbOwsua1F1laLngzG0AAAAlQZ7KRRUsI/8ANhzciCQCZWY+\n",
       "tPVIhLvQzMseJUQdXvLMgM49IQAAABgBnul0R/8AVn0UfPZYMFmJU3AFtaNzcYEAAAAeAZ7rakf/\n",
       "AFaGVbDoIAWFU3LA+2tV9eW2KqcEm1yRAAAAVEGa8EmoQWyZTAhn//6eEACsY3HANX11tj3Bxjko\n",
       "Qpi2T6hAgcn2tHvHB4+ZehAb4W0JDiPnGGnT9y1b4Jnq54mfB6KRamf2o/eTeGibsxmtUBfSUQAA\n",
       "ACBBnw5FFSwj/wA3Uv88QAHFhCDDtuX+172hJNGTVihBVAAAABcBny10R/8AVq3FABxP76/qbAkN\n",
       "L4blgAAAAB0Bny9qR/8AWLMv1IALZUYSC03yRBJBDZclw8I1gQAAAENBmzRJqEFsmUwIX//+jLAA\n",
       "rkPy2S9sA06ExdO5Dj3UnW3Pr241i+w03teoxoHm69CB5D5Dftvi+Rs2EUKXlCyc6WLMAAAAGEGf\n",
       "UkUVLCP/ADdFSV3tgVJzCOhQrcGqgAAAABoBn3F0R/8AWOY4AHF/j2ebZmSXVg2pZ22YsQAAAA4B\n",
       "n3NqR/8ALXmsJKPFSwAAAB9Bm3hJqEFsmUwIX//+jLAAVvO1YAb2OizQRvtPPkFJAAAAFEGflkUV\n",
       "LCP/ABxdwADR8koljtH4AAAADgGftXRH/wAtYuRVS7pBAAAADgGft2pH/wAteawko8VLAAAAPUGb\n",
       "ukmoQWyZTBRMM//+nhAAU/Wf7gCrcG0gbVtwWS1CIxjOGSVwa3jT4iiQiNwwuUN585hwGb3pIVeI\n",
       "gYEAAAAXAZ/Zakf/AC2EJF9+AAhToM202p5pYL4AAAA5QZveSeEKUmUwIZ/+nhAAU+TJePlDgACj\n",
       "aCuisNRf8rIxQK8a7C7jJLR77K/cleIX+F+YLnxKLAwJAAAAH0Gf/EU0TCP/ABxbcVY6obACyIt8\n",
       "anEEAfPF+qFzZcAAAAAVAZ4bdEf/AC1jKyz/7gFyOZHHc2DdAAAAEgGeHWpH/wAtea0McduNJjQv\n",
       "4QAAACNBmgJJqEFomUwIZ//+nhAArGL0ABYII2H3oXW2WeMGhAsBdwAAABNBniBFESwj/wA3UyTv\n",
       "WsC3L+xNAAAADAGeX3RH/wAtYuRRlwAAAA8BnkFqR/8AWH3sX9nQWcEAAAAvQZpGSahBbJlMCGf/\n",
       "/p4QAKy2YRwA6BTCIeHtPtiK4Y72KlPuV5wqJp0b+WinAl8AAAAcQZ5kRRUsI/8AN23vADczMeTq\n",
       "Z8MVbJjegnvz4AAAAAwBnoN0R/8AWL0YoaEAAAALAZ6Fakf/AAADA7sAAAA7QZqKSahBbJlMCGf/\n",
       "/p4QAKxL0GAKDYyBJy9ebBqB+9HYFafxKnaGVDCZxva/tpvx107RChh5v1begm4AAAATQZ6oRRUs\n",
       "I/8AN0VI1erpuor/UwAAABYBnsd0R/8AWC6+UgAuYoi3Z+ujJQO6AAAADAGeyWpH/wAteawhZwAA\n",
       "AChBms5JqEFsmUwIZ//+nhAArGL0ACg2KjrdrlvGprB7DEwneKdzVoLzAAAAEUGe7EUVLCP/ABxd\n",
       "yEAHD/UxAAAADAGfC3RH/wAtYuRRlwAAAAwBnw1qR/8ALXmsIWcAAABXQZsSSahBbJlMCF///oyw\n",
       "AKmiL71lQAbMaqT2Mt0wwVr+wMGwd4jPullTwnbSdL7ici2V0V7O9bFwr6awT1ALm/IGKSd/aBhf\n",
       "f56l9FPpWN+VXIDOqEbAAAAAHUGfMEUVLCP/ADWw8YIAC2PLE43fpuEwvs4bhsthAAAAEQGfT3RH\n",
       "/wBWRd4RZ5+vOQtUAAAAHAGfUWpH/wBWVCXgSxcoAEIg31fY/xsAd+1/icAAAABKQZtWSahBbJlM\n",
       "CF///oywAFSzzeACucH0tddhLyo5OU5N6znBsv/J78vr5iAfpa5pGPL3423o1K4QhRFAzuFW4M0R\n",
       "6fi5/8GKDukAAAAdQZ90RRUsI/8AHABc8h0MAC4jHWC95gIgMcgj7J0AAAATAZ+TdEf/AFQ9MA3C\n",
       "nYVHiluMWQAAABwBn5VqR/8AVEgoD0QwjoAQdQCspu8uiwsBjlqgAAAANUGbmEmoQWyZTBRMM//+\n",
       "nhAAU/NB4AiQ3ejEzSqbPAJQbMGbLHfwMvnW/+Xp74XKMOEFCwb0AAAADwGft2pH/wAthBGcB1/z\n",
       "4QAAAGdBm7xJ4QpSZTAhn/6eEABT80HgCIdcVbb/QAuV75vKXDBXRAzWnKNVdOuClsDzQayk/U+Z\n",
       "7LUfYOiyzp62eY4AKrMvnUoL6LtKrP5Fv8jGcfPRhuTJYSuRCZAvIL3/ud9HKu41aGDAAAAAFEGf\n",
       "2kU0TCP/ABxbcX1mbFjl7yycAAAADgGf+XRH/wAtYyga7UTNAAAADgGf+2pH/wAteePCwwf4AAAA\n",
       "QUGb4EmoQWiZTAhn//6eEABRtZPcAIwN4Ctdmvbg7XCuxb0tNyDa1JFjQVSSFABONpu0v91vFSJK\n",
       "tOM4FHLUogYtAAAAGkGeHkURLCP/ABxd0BYHVIALVCnavh4KguBdAAAAEgGePXRH/wBUPTANYSJl\n",
       "MdcxOAAAABEBnj9qR/8AVBQooO+XtluMWQAAADhBmiRJqEFsmUwIZ//+nhAAUbWT3ACMDXYDXE5G\n",
       "U5m4tE86UUY1ZMRZMePnNCmVP0EeNPp/mEQMWAAAABpBnkJFFSwj/wAcXdBfy4AC6e2uvQAfAq1D\n",
       "1QAAAA8BnmF0R/8ALWLlXWw7gU0AAAARAZ5jakf/AC1548LIeT7kLVAAAAA9QZpoSahBbJlMCGf/\n",
       "/p4QAFPze8ADfhY+cMTgKoQAJraAcmKo8QAXOWoDmT/DfWaJ6XkWaKDV/OfJDkwUkAAAABNBnoZF\n",
       "FSwj/wAcXdAvH7j1VgXBAAAAFQGepXRH/wAtYym+vAATnJcw1oTB/gAAAAwBnqdqR/8ALXmsIWcA\n",
       "AABIQZqsSahBbJlMCGf//p4QAKNlWuCRLtWYZlfvYGHqQRkQvYyR8FjOgSwAmJYC33Yf7sP5EwKt\n",
       "iSSi4nrlDcUq3kfUYgjUhDfgAAAAFUGeykUVLCP/ADQ+5H2qkr4JIzmycQAAAA4Bnul0R/8AVAXg\n",
       "EU4CXwAAABcBnutqR/8AVDNsTPnoaACWrVup4o2BWwAAADxBmvBJqEFsmUwIX//+jLAApbnDOxEA\n",
       "1fRv655U8R06+xEyqqGbbW/Uotc6RCOfhvmwY4FwqipcIIPA7oEAAAAeQZ8ORRUsI/8ANMVLvY6e\n",
       "FwAtboXju6OfmJI8Y8WAAAAAEAGfLXRH/wBUMr6iOVaWBWwAAAAOAZ8vakf/AC155DM2omcAAAA1\n",
       "QZs0SahBbJlMCF///oywAKTl3bAHMPXA1yl8MErgvc95KVYR0cWgnb0EC9FlZbgcX7dDBIwAAAAU\n",
       "QZ9SRRUsI/8ANNMltQU8yR47nrAAAAAMAZ9xdEf/AC1i5FGXAAAAFwGfc2pH/wBUbcUALD1DALEU\n",
       "aREdYxsxAAAAPUGbdkmoQWyZTBRML//+jLAApSRrPdXcAFcxS0TmlPzZQBfy9B901VgbBAmXwqM2\n",
       "uaZqfVRGOBhzZMkMDPkAAAASAZ+Vakf/AFN3Cqe8JKNLWQEvAAAANkGbmUnhClJlMCGf/p4QAKNl\n",
       "fHAFM05lMolZ5QrMFPT4WsV+tiyJ9onxRVep9Ryl/xbhQsBiwAAAAB1Bn7dFNEwj/wA01ArgAOCa\n",
       "4jwflE+ljf5EWS+gXQAAABoBn9hqR/8AVG4aQAtYoM4Jau2xiXUmLtfTFgAAADRBm91JqEFomUwI\n",
       "Z//+nhAApCWBeIcARBOF9iG4zDm3wtAEg2ROR6m0RVQSs0iR7MG04FBAAAAAHEGf+0URLCP/ADTH\n",
       "xEADgaAMAJSPA17EJuJWiSEAAAATAZ4adEf/AFPuT0WpeU9SJAmWSAAAAA8BnhxqR/8ALXmtDHHb\n",
       "gU0AAAAwQZoBSahBbJlMCGf//p4QAKNrJ7gBGBuHY9iKP29OyJ/PXrYb6q/Ljd63LVm8QGLBAAAA\n",
       "E0GeP0UVLCP/ADTTJbUIh8dYDFgAAAAMAZ5edEf/AC1i5FGXAAAADgGeQGpH/wBUM2xNFwEvAAAA\n",
       "NEGaRUmoQWyZTAhn//6eEACoLwpoA8xhNA4wuepL7KTodWG/ZRbTTuXDaIn/6oAhNq8/A48AAAAR\n",
       "QZ5jRRUsI/8AHF3IQEyg7ukAAAARAZ6CdEf/AFYTs9mOp5/QnYAAAAAOAZ6Eakf/AFQUKKDuAl4A\n",
       "AAAmQZqJSahBbJlMCGf//p4QAKNlK6AFs6I/PN1vgGftT5mrPWCTgUEAAAAUQZ6nRRUsI/8ANC2K\n",
       "m1WIPiqxEkAAAAAMAZ7GdEf/AC1i5FGXAAAADgGeyGpH/wBUM2xNFwEvAAAAL0GazUmoQWyZTAhn\n",
       "//6eEACjZXxwA3NdqaxUP7rxoTbFRZp6rHJ7q2+DseLy4gMXAAAAHUGe60UVLCP/ADTUCuAAuoaU\n",
       "3P5eaCb19UZyXgXBAAAADgGfCnRH/wBUPTANfhF3AAAADAGfDGpH/wAteawhZwAAAE5BmxFJqEFs\n",
       "mUwIZ//+nhAAqDCNygED5wWdpqFlpBjUeiUSQU5DvXjypAMs7BVQzoqdXZuFXRg6TEHpXYqOwZ4S\n",
       "O5KRtRvZFEUnQ/erQYMAAAAeQZ8vRRUsI/8ANhMT5VACaZQN4mctetjuYtBFCeqAAAAAGQGfTnRH\n",
       "/wBUbcUAE59/s+Mgj2GDIw1B1qkAAAASAZ9Qakf/AFZy5pWJCxIx1zE4AAAAOkGbVUmoQWyZTAhn\n",
       "//6eEACokeXAAmynqwm0vCrce32qmvtXN/XDrtOKOfheDDEsSe6jxGvCgGMmBSQAAAATQZ9zRRUs\n",
       "I/8ANMVLvZEPjrAYsQAAAA4Bn5J0R/8AVAXgEU4CXwAAAAwBn5RqR/8ALXmsIWcAAAA/QZuZSahB\n",
       "bJlMCGf//p4QAKNk6MAQ+IBwEmDNiXFE7H05A8krOBS0YJM+KNRvQyguTDuxMCQlc0SdJr9Nz4Ef\n",
       "AAAAG0Gft0UVLCP/ADQrSngBLYRJh1C/aqhADN9AuAAAABEBn9Z0R/8AUwH3E7TgxckyyQAAABoB\n",
       "n9hqR/8AVBe5gBMrx2PPshIKBbBiX2zZiwAAADVBm91JqEFsmUwIZ//+nhAAo2NxwBD4mt7Kn/5C\n",
       "sXQXEZoR1yvFbtu6dTXWTXFOqIgq8mBUwAAAABRBn/tFFSwj/wA0xPM1WflzehPRiwAAABUBnhp0\n",
       "R/8AVGY4AD+a7eyuIR8SEXcAAAAPAZ4cakf/AFHNHr07jR6xAAAAMUGaAUmoQWyZTAhn//6eEACj\n",
       "Y3HAETE4ZdolO/uuGJWsv1MxvE8TOlU29pYjpQ58CPkAAAATQZ4/RRUsI/8AM5MmMUgGnnEYsAAA\n",
       "AAwBnl50R/8ALWLkUZcAAAAPAZ5Aakf/AFHN64yhr4XcAAAAXkGaRUmoQWyZTAhf//6MsACk4/Rg\n",
       "BYfUoSmT+1qLAke+ORt4z59u0fsUA25Za9PBJVB82tvUyqbP0xiNjlp/H0BgIqy2gM2FwRzSDbyx\n",
       "D0koa+rGDjUw8qo4NbIIUEEAAAAiQZ5jRRUsI/8ANMTWrGm6QzVBqSAPfm9u3WufwNxCU+DLYQAA\n",
       "ABABnoJ0R/8AUcXiPHwPHQW0AAAAGAGehGpH/wAteeTpDgAm/t8fdEeBYuBiwAAAAExBmolJqEFs\n",
       "mUwIX//+jLAAUnO1YAONycq/kvaTO5f/PCpnB5oBydekPPkU/1DfFwSvkfVTzwsVLFgKzNR8awcD\n",
       "F5oac+7JTAFQfAlZAAAAHkGep0UVLCP/ABxd0C7QsLgBuX/SlxSqEBhLej+esAAAABIBnsZ0R/8A\n",
       "LWMokxt8glG3MTkAAAAbAZ7Iakf/AC153hhiG/gANzGvDW2oWzWkryYsAAAAR0GazUmoQWyZTAhf\n",
       "//6MsABSq2PjQAFhVVg9Fv1EucGyE/ikq1RUhuFZ1/jyBuzwtRczy9fjahUhMJrA2NSpBqU0s9wY\n",
       "oPSBAAAAGUGe60UVLCP/ABxd0EDeJACT3FKSbnox4sEAAAAMAZ8KdEf/AC1i5FGXAAAAGgGfDGpH\n",
       "/wAteeL0eagAlqYlT0FtDMQeYF3BAAAAK0GbEEmoQWyZTAhX//44QAE9xkOQAtb98wtR7DHFiv9G\n",
       "4diYJiTw1agQkYAAAAARQZ8uRRUsI/8AHF3IQAcP9TAAAAAMAZ9Pakf/AC15rCFnAAAAHkGbVEmo\n",
       "QWyZTAhH//3hAATUGRQAS1hOjYxf9DgYEAAAABNBn3JFFSwj/wAcXdAvH7fq0iSAAAAADgGfkXRH\n",
       "/wAtYyga7UTNAAAADAGfk2pH/wAteawhZwAAABJBm5VJqEFsmUwI//yEAAADAbMAABXKbW9vdgAA\n",
       "AGxtdmhkAAAAAAAAAAAAAAAAAAAD6AAAH0AAAQAAAQAAAAAAAAAAAAAAAAEAAAAAAAAAAAAAAAAA\n",
       "AAABAAAAAAAAAAAAAAAAAABAAAAAAAAAAAAAAAAAAAAAAAAAAAAAAAAAAAAAAAAAAgAAFPR0cmFr\n",
       "AAAAXHRraGQAAAADAAAAAAAAAAAAAAABAAAAAAAAH0AAAAAAAAAAAAAAAAAAAAAAAAEAAAAAAAAA\n",
       "AAAAAAAAAAABAAAAAAAAAAAAAAAAAABAAAAAAbAAAAEgAAAAAAAkZWR0cwAAABxlbHN0AAAAAAAA\n",
       "AAEAAB9AAAACAAABAAAAABRsbWRpYQAAACBtZGhkAAAAAAAAAAAAAAAAAAAyAAABkABVxAAAAAAA\n",
       "LWhkbHIAAAAAAAAAAHZpZGUAAAAAAAAAAAAAAABWaWRlb0hhbmRsZXIAAAAUF21pbmYAAAAUdm1o\n",
       "ZAAAAAEAAAAAAAAAAAAAACRkaW5mAAAAHGRyZWYAAAAAAAAAAQAAAAx1cmwgAAAAAQAAE9dzdGJs\n",
       "AAAAs3N0c2QAAAAAAAAAAQAAAKNhdmMxAAAAAAAAAAEAAAAAAAAAAAAAAAAAAAAAAbABIABIAAAA\n",
       "SAAAAAAAAAABAAAAAAAAAAAAAAAAAAAAAAAAAAAAAAAAAAAAAAAAAAAAGP//AAAAMWF2Y0MBZAAe\n",
       "/+EAGGdkAB6s2UGwloQAAAMABAAAAwGQPFi2WAEABmjr48siwAAAABx1dWlka2hA8l8kT8W6OaUb\n",
       "zwMj8wAAAAAAAAAYc3R0cwAAAAAAAAABAAABkAAAAQAAAAAYc3RzcwAAAAAAAAACAAAAAQAAAPsA\n",
       "AAxoY3R0cwAAAAAAAAGLAAAAAQAAAgAAAAABAAAFAAAAAAEAAAIAAAAAAQAAAAAAAAABAAABAAAA\n",
       "AAEAAAMAAAAAAQAAAQAAAAABAAAFAAAAAAEAAAIAAAAAAQAAAAAAAAABAAABAAAAAAEAAAUAAAAA\n",
       "AQAAAgAAAAABAAAAAAAAAAEAAAEAAAAAAQAAAgAAAAABAAAFAAAAAAEAAAIAAAAAAQAAAAAAAAAB\n",
       "AAABAAAAAAEAAAIAAAAAAQAABQAAAAABAAACAAAAAAEAAAAAAAAAAQAAAQAAAAABAAAFAAAAAAEA\n",
       "AAIAAAAAAQAAAAAAAAABAAABAAAAAAEAAAQAAAAAAgAAAQAAAAABAAAFAAAAAAEAAAIAAAAAAQAA\n",
       "AAAAAAABAAABAAAAAAEAAAUAAAAAAQAAAgAAAAABAAAAAAAAAAEAAAEAAAAAAQAABQAAAAABAAAC\n",
       "AAAAAAEAAAAAAAAAAQAAAQAAAAABAAADAAAAAAEAAAEAAAAAAQAAAgAAAAABAAAFAAAAAAEAAAIA\n",
       "AAAAAQAAAAAAAAABAAABAAAAAAEAAAUAAAAAAQAAAgAAAAABAAAAAAAAAAEAAAEAAAAAAQAABQAA\n",
       "AAABAAACAAAAAAEAAAAAAAAAAQAAAQAAAAABAAACAAAAAAEAAAUAAAAAAQAAAgAAAAABAAAAAAAA\n",
       "AAEAAAEAAAAAAQAABQAAAAABAAACAAAAAAEAAAAAAAAAAQAAAQAAAAABAAAFAAAAAAEAAAIAAAAA\n",
       "AQAAAAAAAAABAAABAAAAAAEAAAUAAAAAAQAAAgAAAAABAAAAAAAAAAEAAAEAAAAAAQAABQAAAAAB\n",
       "AAACAAAAAAEAAAAAAAAAAQAAAQAAAAABAAADAAAAAAEAAAEAAAAAAQAAAgAAAAABAAAFAAAAAAEA\n",
       "AAIAAAAAAQAAAAAAAAABAAABAAAAAAEAAAUAAAAAAQAAAgAAAAABAAAAAAAAAAEAAAEAAAAAAQAA\n",
       "BQAAAAABAAACAAAAAAEAAAAAAAAAAQAAAQAAAAABAAAFAAAAAAEAAAIAAAAAAQAAAAAAAAABAAAB\n",
       "AAAAAAEAAAUAAAAAAQAAAgAAAAABAAAAAAAAAAEAAAEAAAAAAQAABQAAAAABAAACAAAAAAEAAAAA\n",
       "AAAAAQAAAQAAAAABAAAFAAAAAAEAAAIAAAAAAQAAAAAAAAABAAABAAAAAAEAAAUAAAAAAQAAAgAA\n",
       "AAABAAAAAAAAAAEAAAEAAAAAAQAAAgAAAAABAAAFAAAAAAEAAAIAAAAAAQAAAAAAAAABAAABAAAA\n",
       "AAEAAAUAAAAAAQAAAgAAAAABAAAAAAAAAAEAAAEAAAAAAQAABQAAAAABAAACAAAAAAEAAAAAAAAA\n",
       "AQAAAQAAAAABAAAFAAAAAAEAAAIAAAAAAQAAAAAAAAABAAABAAAAAAEAAAMAAAAAAQAAAQAAAAAB\n",
       "AAAFAAAAAAEAAAIAAAAAAQAAAAAAAAABAAABAAAAAAEAAAUAAAAAAQAAAgAAAAABAAAAAAAAAAEA\n",
       "AAEAAAAAAQAABQAAAAABAAACAAAAAAEAAAAAAAAAAQAAAQAAAAABAAADAAAAAAEAAAEAAAAAAQAA\n",
       "BQAAAAABAAACAAAAAAEAAAAAAAAAAQAAAQAAAAABAAAFAAAAAAEAAAIAAAAAAQAAAAAAAAABAAAB\n",
       "AAAAAAEAAAUAAAAAAQAAAgAAAAABAAAAAAAAAAEAAAEAAAAAAQAABQAAAAABAAACAAAAAAEAAAAA\n",
       "AAAAAQAAAQAAAAABAAAFAAAAAAEAAAIAAAAAAQAAAAAAAAABAAABAAAAAAEAAAUAAAAAAQAAAgAA\n",
       "AAABAAAAAAAAAAEAAAEAAAAAAQAABQAAAAABAAACAAAAAAEAAAAAAAAAAQAAAQAAAAABAAAFAAAA\n",
       "AAEAAAIAAAAAAQAAAAAAAAABAAABAAAAAAEAAAUAAAAAAQAAAgAAAAABAAAAAAAAAAEAAAEAAAAA\n",
       "AQAABQAAAAABAAACAAAAAAEAAAAAAAAAAQAAAQAAAAABAAACAAAAAAEAAAUAAAAAAQAAAgAAAAAB\n",
       "AAAAAAAAAAEAAAEAAAAAAQAAAwAAAAABAAABAAAAAAEAAAUAAAAAAQAAAgAAAAABAAAAAAAAAAEA\n",
       "AAEAAAAAAQAAAgAAAAABAAAEAAAAAAIAAAEAAAAAAQAABQAAAAABAAACAAAAAAEAAAAAAAAAAQAA\n",
       "AQAAAAABAAAFAAAAAAEAAAIAAAAAAQAAAAAAAAABAAABAAAAAAEAAAUAAAAAAQAAAgAAAAABAAAA\n",
       "AAAAAAEAAAEAAAAAAQAABQAAAAABAAACAAAAAAEAAAAAAAAAAQAAAQAAAAABAAAFAAAAAAEAAAIA\n",
       "AAAAAQAAAAAAAAABAAABAAAAAAEAAAUAAAAAAQAAAgAAAAABAAAAAAAAAAEAAAEAAAAAAQAABQAA\n",
       "AAABAAACAAAAAAEAAAAAAAAAAQAAAQAAAAABAAAFAAAAAAEAAAIAAAAAAQAAAAAAAAABAAABAAAA\n",
       "AAEAAAUAAAAAAQAAAgAAAAABAAAAAAAAAAEAAAEAAAAAAQAABQAAAAABAAACAAAAAAEAAAAAAAAA\n",
       "AQAAAQAAAAABAAAFAAAAAAEAAAIAAAAAAQAAAAAAAAABAAABAAAAAAEAAAQAAAAAAgAAAQAAAAAB\n",
       "AAACAAAAAAEAAAUAAAAAAQAAAgAAAAABAAAAAAAAAAEAAAEAAAAAAQAABQAAAAABAAACAAAAAAEA\n",
       "AAAAAAAAAQAAAQAAAAABAAAFAAAAAAEAAAIAAAAAAQAAAAAAAAABAAABAAAAAAEAAAUAAAAAAQAA\n",
       "AgAAAAABAAAAAAAAAAEAAAEAAAAAAQAABQAAAAABAAACAAAAAAEAAAAAAAAAAQAAAQAAAAABAAAF\n",
       "AAAAAAEAAAIAAAAAAQAAAAAAAAABAAABAAAAAAEAAAMAAAAAAQAAAQAAAAABAAAFAAAAAAEAAAIA\n",
       "AAAAAQAAAAAAAAABAAABAAAAAAEAAAUAAAAAAQAAAgAAAAABAAAAAAAAAAEAAAEAAAAAAQAABQAA\n",
       "AAABAAACAAAAAAEAAAAAAAAAAQAAAQAAAAABAAAFAAAAAAEAAAIAAAAAAQAAAAAAAAABAAABAAAA\n",
       "AAEAAAUAAAAAAQAAAgAAAAABAAAAAAAAAAEAAAEAAAAAAQAABQAAAAABAAACAAAAAAEAAAAAAAAA\n",
       "AQAAAQAAAAABAAAFAAAAAAEAAAIAAAAAAQAAAAAAAAABAAABAAAAAAEAAAMAAAAAAQAAAQAAAAAB\n",
       "AAAFAAAAAAEAAAIAAAAAAQAAAAAAAAABAAABAAAAAAEAAAUAAAAAAQAAAgAAAAABAAAAAAAAAAEA\n",
       "AAEAAAAAAQAABQAAAAABAAACAAAAAAEAAAAAAAAAAQAAAQAAAAABAAAFAAAAAAEAAAIAAAAAAQAA\n",
       "AAAAAAABAAABAAAAAAEAAAUAAAAAAQAAAgAAAAABAAAAAAAAAAEAAAEAAAAAAQAABQAAAAABAAAC\n",
       "AAAAAAEAAAAAAAAAAQAAAQAAAAABAAAFAAAAAAEAAAIAAAAAAQAAAAAAAAABAAABAAAAAAEAAAMA\n",
       "AAAAAQAAAQAAAAABAAAEAAAAAAIAAAEAAAAAAQAABQAAAAABAAACAAAAAAEAAAAAAAAAAQAAAQAA\n",
       "AAABAAAFAAAAAAEAAAIAAAAAAQAAAAAAAAABAAABAAAAAAEAAAUAAAAAAQAAAgAAAAABAAAAAAAA\n",
       "AAEAAAEAAAAAAQAABQAAAAABAAACAAAAAAEAAAAAAAAAAQAAAQAAAAABAAAFAAAAAAEAAAIAAAAA\n",
       "AQAAAAAAAAABAAABAAAAAAEAAAUAAAAAAQAAAgAAAAABAAAAAAAAAAEAAAEAAAAAAQAABQAAAAAB\n",
       "AAACAAAAAAEAAAAAAAAAAQAAAQAAAAABAAAFAAAAAAEAAAIAAAAAAQAAAAAAAAABAAABAAAAAAEA\n",
       "AAUAAAAAAQAAAgAAAAABAAAAAAAAAAEAAAEAAAAAAQAABQAAAAABAAACAAAAAAEAAAAAAAAAAQAA\n",
       "AQAAAAABAAAFAAAAAAEAAAIAAAAAAQAAAAAAAAABAAABAAAAAAEAAAUAAAAAAQAAAgAAAAABAAAA\n",
       "AAAAAAEAAAEAAAAAAQAABQAAAAABAAACAAAAAAEAAAAAAAAAAQAAAQAAAAABAAAEAAAAAAIAAAEA\n",
       "AAAAAQAABQAAAAABAAACAAAAAAEAAAAAAAAAAQAAAQAAAAABAAACAAAAABxzdHNjAAAAAAAAAAEA\n",
       "AAABAAABkAAAAAEAAAZUc3RzegAAAAAAAAAAAAABkAAANPQAAAMIAAAAVgAAAEwAAAAxAAAAiQAA\n",
       "ADwAAACoAAAAPgAAACoAAAArAAAAcQAAADUAAAAoAAAAJwAAAE4AAABoAAAANgAAACUAAAAeAAAA\n",
       "VwAAAGYAAAArAAAAIwAAACMAAABuAAAAMgAAABsAAAAlAAAAZgAAADIAAAAnAAAATgAAAC8AAAAX\n",
       "AAAAGQAAADMAAAAuAAAAFgAAABYAAAB1AAAAMgAAABgAAAAiAAAARwAAACsAAABHAAAATQAAADIA\n",
       "AAAcAAAAIQAAAGgAAAAvAAAAGQAAACEAAABJAAAALwAAABgAAAAYAAAANwAAAIQAAAAnAAAAIwAA\n",
       "ACYAAABBAAAAMAAAABsAAAAdAAAAPgAAACwAAAAXAAAAGAAAAEYAAAAlAAAAFwAAACEAAAAzAAAA\n",
       "JQAAABcAAAAYAAAAQAAAACoAAAA0AAAANwAAACgAAAAbAAAAIgAAAC8AAAAkAAAAFwAAACAAAABB\n",
       "AAAAIgAAABcAAAAgAAAARQAAAC0AAAAaAAAAGgAAADgAAAAsAAAAGQAAABgAAAA8AAAAJgAAABgA\n",
       "AAAcAAAARAAAAC4AAAAZAAAAIgAAAEwAAAAwAAAAGgAAACMAAABsAAAAPwAAACcAAAAaAAAAGwAA\n",
       "AEYAAAAuAAAAGwAAABgAAABOAAAAJQAAABkAAAAZAAAALAAAACQAAAAXAAAAGQAAADQAAAAhAAAA\n",
       "PQAAAC4AAAAZAAAAGgAAAFsAAAAoAAAAGQAAACMAAABBAAAAJwAAABoAAAAeAAAAWQAAACwAAABV\n",
       "AAAAMAAAAB4AAAAaAAAARwAAACsAAAAYAAAAGwAAADEAAAAkAAAAGAAAABYAAAAuAAAAIgAAABcA\n",
       "AAAYAAAARQAAACMAAAAaAAAAGQAAAHQAAAAuAAAAFwAAABoAAABXAAAALAAAABkAAAAiAAAALAAA\n",
       "ACIAAAAXAAAAGQAAADgAAAAvAAAAHwAAABgAAABOAAAALgAAAB8AAAAhAAAAPAAAAGUAAAA0AAAA\n",
       "IQAAACAAAAAyAAAAIQAAAD0AAAAqAAAAGgAAABYAAAA9AAAAVQAAADAAAAAbAAAATAAAACcAAAAc\n",
       "AAAAGgAAAC8AAAAjAAAAFwAAABgAAABXAAAAJAAAABcAAAAZAAAARAAAACQAAAAZAAAAGQAAAEoA\n",
       "AAAsAAAAGwAAACQAAABXAAAAJwAAACIAAAAZAAAANgAAACQAAAAXAAAAGAAAAD0AAAAlAAAAJAAA\n",
       "ABkAAABCAAAAJAAAABcAAAAbAAAAQgAAACYAAAAiAAAAGQAAADAAAAAkAAAAFwAAABkAAAAhAAAA\n",
       "JAAAABgAAEFVAAAB7QAAADoAAAA2AAAAHwAAAFkAAAAdAAAAFQAAABIAAABKAAAAKQAAABwAAAAi\n",
       "AAAAWAAAACQAAAAbAAAAIQAAAEcAAAAcAAAAHgAAABIAAAAjAAAAGAAAABIAAAASAAAAQQAAABsA\n",
       "AAA9AAAAIwAAABkAAAAWAAAAJwAAABcAAAAQAAAAEwAAADMAAAAgAAAAEAAAAA8AAAA/AAAAFwAA\n",
       "ABoAAAAQAAAALAAAABUAAAAQAAAAEAAAAFsAAAAhAAAAFQAAACAAAABOAAAAIQAAABcAAAAgAAAA\n",
       "OQAAABMAAABrAAAAGAAAABIAAAASAAAARQAAAB4AAAAWAAAAFQAAADwAAAAeAAAAEwAAABUAAABB\n",
       "AAAAFwAAABkAAAAQAAAATAAAABkAAAASAAAAGwAAAEAAAAAiAAAAFAAAABIAAAA5AAAAGAAAABAA\n",
       "AAAbAAAAQQAAABYAAAA6AAAAIQAAAB4AAAA4AAAAIAAAABcAAAATAAAANAAAABcAAAAQAAAAEgAA\n",
       "ADgAAAAVAAAAFQAAABIAAAAqAAAAGAAAABAAAAASAAAAMwAAACEAAAASAAAAEAAAAFIAAAAiAAAA\n",
       "HQAAABYAAAA+AAAAFwAAABIAAAAQAAAAQwAAAB8AAAAVAAAAHgAAADkAAAAYAAAAGQAAABMAAAA1\n",
       "AAAAFwAAABAAAAATAAAAYgAAACYAAAAUAAAAHAAAAFAAAAAiAAAAFgAAAB8AAABLAAAAHQAAABAA\n",
       "AAAeAAAALwAAABUAAAAQAAAAIgAAABcAAAASAAAAEAAAABYAAAAUc3RjbwAAAAAAAAABAAAALAAA\n",
       "AGJ1ZHRhAAAAWm1ldGEAAAAAAAAAIWhkbHIAAAAAAAAAAG1kaXJhcHBsAAAAAAAAAAAAAAAALWls\n",
       "c3QAAAAlqXRvbwAAAB1kYXRhAAAAAQAAAABMYXZmNTcuNTYuMTAx\n",
       "\">\n",
       "  Your browser does not support the video tag.\n",
       "</video>"
      ]
     },
     "metadata": {},
     "output_type": "display_data"
    }
   ],
   "source": [
    "try:\n",
    "    display_html(HTML(anim.to_html5_video()))\n",
    "# In case the build-in renderers are unaviable, fall back to\n",
    "# a custom one, that doesn't require external libraries\n",
    "except RuntimeError:\n",
    "    anim.save(None, writer=matplotlib_utils.SimpleMovieWriter(0.001))"
   ]
  },
  {
   "cell_type": "markdown",
   "metadata": {},
   "source": [
    "# Logistic regression\n",
    "Your assignment is to implement the logistic regression\n",
    "\n",
    "Plan:\n",
    "* Use a shared variable for weights\n",
    "* Use a matrix placeholder for `X`\n",
    " \n",
    "We shall train on a two-class MNIST dataset\n",
    "* please note that target `y` are `{0,1}` and not `{-1,1}` as in some formulae"
   ]
  },
  {
   "cell_type": "code",
   "execution_count": 6,
   "metadata": {},
   "outputs": [
    {
     "name": "stdout",
     "output_type": "stream",
     "text": [
      "y [shape - (360,)]: [0 1 0 1 0 1 0 0 1 1]\n",
      "X [shape - (360, 64)]:\n"
     ]
    }
   ],
   "source": [
    "from sklearn.datasets import load_digits\n",
    "mnist = load_digits(2)\n",
    "\n",
    "X, y = mnist.data, mnist.target\n",
    "\n",
    "print(\"y [shape - %s]:\" % (str(y.shape)), y[:10])\n",
    "print(\"X [shape - %s]:\" % (str(X.shape)))"
   ]
  },
  {
   "cell_type": "code",
   "execution_count": 7,
   "metadata": {},
   "outputs": [
    {
     "name": "stdout",
     "output_type": "stream",
     "text": [
      "X:\n",
      " [[  0.   0.   5.  13.   9.   1.   0.   0.   0.   0.]\n",
      " [  0.   0.   0.  12.  13.   5.   0.   0.   0.   0.]\n",
      " [  0.   0.   1.   9.  15.  11.   0.   0.   0.   0.]]\n",
      "y:\n",
      " [0 1 0 1 0 1 0 0 1 1]\n"
     ]
    },
    {
     "ename": "NameError",
     "evalue": "name 'plt' is not defined",
     "output_type": "error",
     "traceback": [
      "\u001b[1;31m---------------------------------------------------------------------------\u001b[0m",
      "\u001b[1;31mNameError\u001b[0m                                 Traceback (most recent call last)",
      "\u001b[1;32m<ipython-input-7-9231842bbbab>\u001b[0m in \u001b[0;36m<module>\u001b[1;34m()\u001b[0m\n\u001b[0;32m      1\u001b[0m \u001b[0mprint\u001b[0m\u001b[1;33m(\u001b[0m\u001b[1;34m'X:\\n'\u001b[0m\u001b[1;33m,\u001b[0m\u001b[0mX\u001b[0m\u001b[1;33m[\u001b[0m\u001b[1;33m:\u001b[0m\u001b[1;36m3\u001b[0m\u001b[1;33m,\u001b[0m\u001b[1;33m:\u001b[0m\u001b[1;36m10\u001b[0m\u001b[1;33m]\u001b[0m\u001b[1;33m)\u001b[0m\u001b[1;33m\u001b[0m\u001b[0m\n\u001b[0;32m      2\u001b[0m \u001b[0mprint\u001b[0m\u001b[1;33m(\u001b[0m\u001b[1;34m'y:\\n'\u001b[0m\u001b[1;33m,\u001b[0m\u001b[0my\u001b[0m\u001b[1;33m[\u001b[0m\u001b[1;33m:\u001b[0m\u001b[1;36m10\u001b[0m\u001b[1;33m]\u001b[0m\u001b[1;33m)\u001b[0m\u001b[1;33m\u001b[0m\u001b[0m\n\u001b[1;32m----> 3\u001b[1;33m \u001b[0mplt\u001b[0m\u001b[1;33m.\u001b[0m\u001b[0mimshow\u001b[0m\u001b[1;33m(\u001b[0m\u001b[0mX\u001b[0m\u001b[1;33m[\u001b[0m\u001b[1;36m0\u001b[0m\u001b[1;33m]\u001b[0m\u001b[1;33m.\u001b[0m\u001b[0mreshape\u001b[0m\u001b[1;33m(\u001b[0m\u001b[1;33m[\u001b[0m\u001b[1;36m8\u001b[0m\u001b[1;33m,\u001b[0m\u001b[1;36m8\u001b[0m\u001b[1;33m]\u001b[0m\u001b[1;33m)\u001b[0m\u001b[1;33m)\u001b[0m\u001b[1;33m;\u001b[0m\u001b[1;33m\u001b[0m\u001b[0m\n\u001b[0m",
      "\u001b[1;31mNameError\u001b[0m: name 'plt' is not defined"
     ]
    }
   ],
   "source": [
    "print('X:\\n',X[:3,:10])\n",
    "print('y:\\n',y[:10])\n",
    "plt.imshow(X[0].reshape([8,8]));"
   ]
  },
  {
   "cell_type": "markdown",
   "metadata": {},
   "source": [
    "It's your turn now!\n",
    "Just a small reminder of the relevant math:\n",
    "\n",
    "$$\n",
    "P(y=1|X) = \\sigma(X \\cdot W + b)\n",
    "$$\n",
    "$$\n",
    "\\text{loss} = -\\log\\left(P\\left(y_\\text{predicted} = 1\\right)\\right)\\cdot y_\\text{true} - \\log\\left(1 - P\\left(y_\\text{predicted} = 1\\right)\\right)\\cdot\\left(1 - y_\\text{true}\\right)\n",
    "$$\n",
    "\n",
    "$\\sigma(x)$ is available via `tf.nn.sigmoid` and matrix multiplication via `tf.matmul`"
   ]
  },
  {
   "cell_type": "code",
   "execution_count": 8,
   "metadata": {},
   "outputs": [],
   "source": [
    "from sklearn.model_selection import train_test_split\n",
    "X_train, X_test, y_train, y_test = train_test_split(\n",
    "    X, y, random_state=42)"
   ]
  },
  {
   "cell_type": "markdown",
   "metadata": {},
   "source": [
    "__Your code goes here.__ For the training and testing scaffolding to work, please stick to the names in comments."
   ]
  },
  {
   "cell_type": "code",
   "execution_count": 9,
   "metadata": {},
   "outputs": [
    {
     "name": "stdout",
     "output_type": "stream",
     "text": [
      "<tf.Variable 'Variable_1:0' shape=() dtype=float32_ref>\n"
     ]
    }
   ],
   "source": [
    "# Model parameters - weights and bias\n",
    "weights = tf.Variable(np.zeros((X.shape[1],1), dtype='float32')) #shape should be (X.shape[1], 1)\n",
    "b = tf.Variable(1.0)\n",
    "print(b)"
   ]
  },
  {
   "cell_type": "code",
   "execution_count": 70,
   "metadata": {},
   "outputs": [
    {
     "name": "stdout",
     "output_type": "stream",
     "text": [
      "Tensor(\"Placeholder_18:0\", dtype=float32) Tensor(\"Placeholder_19:0\", dtype=float32)\n"
     ]
    }
   ],
   "source": [
    "# Placeholders for the input data\n",
    "input_X = tf.placeholder('float32', shape=None)\n",
    "input_y = tf.placeholder('float32', shape=None)\n",
    "print(input_X, input_y)"
   ]
  },
  {
   "cell_type": "code",
   "execution_count": 107,
   "metadata": {},
   "outputs": [
    {
     "name": "stdout",
     "output_type": "stream",
     "text": [
      "<unknown>\n"
     ]
    }
   ],
   "source": [
    "# The model code\n",
    "\n",
    "# Compute a vector of predictions, resulting shape should be [input_X.shape[0],]\n",
    "# This is 1D, if you have extra dimensions, you can  get rid of them with tf.squeeze .\n",
    "# Don't forget the sigmoid.\n",
    "predicted_y = tf.squeeze(tf.nn.sigmoid(tf.matmul(input_X,weights) + b))\n",
    "\n",
    "# Loss. Should be a scalar number - average loss over all the objects\n",
    "# tf.reduce_mean is your friend here\n",
    "loss = -tf.reduce_mean(tf.log(predicted_y) * input_y + tf.log(1-predicted_y) * (1-input_y))\n",
    "print(predicted_y.shape)\n",
    "# See above for an example. tf.train.*Optimizer\n",
    "optimizer = tf.train.MomentumOptimizer(0.01, 0.4).minimize(loss, var_list=weights)"
   ]
  },
  {
   "cell_type": "markdown",
   "metadata": {},
   "source": [
    "A test to help with the debugging"
   ]
  },
  {
   "cell_type": "code",
   "execution_count": 105,
   "metadata": {},
   "outputs": [],
   "source": [
    "validation_weights = 1e-3 * np.fromiter(map(lambda x:\n",
    "        s.run(weird_psychotic_function, {my_scalar:x, my_vector:[1, 0.1, 2]}),\n",
    "                                   0.15 * np.arange(1, X.shape[1] + 1)),\n",
    "                                   count=X.shape[1], dtype=np.float32)[:, np.newaxis]\n",
    "# Compute predictions for given weights and bias\n",
    "prediction_validation = s.run(\n",
    "    predicted_y, {\n",
    "    input_X: X,\n",
    "    weights: validation_weights,\n",
    "    b: 1e-1})\n",
    "\n",
    "# Load the reference values for the predictions\n",
    "validation_true_values = np.loadtxt(\"validation_predictons.txt\")\n",
    "\n",
    "assert prediction_validation.shape == (X.shape[0],),\\\n",
    "       \"Predictions must be a 1D array with length equal to the number \" \\\n",
    "       \"of examples in input_X\"\n",
    "assert np.allclose(validation_true_values, prediction_validation)\n",
    "loss_validation = s.run(\n",
    "        loss, {\n",
    "            input_X: X[:100],\n",
    "            input_y: y[-100:],\n",
    "            weights: validation_weights+1.21e-3,\n",
    "            b: -1e-1})\n",
    "assert np.allclose(loss_validation, 0.728689)"
   ]
  },
  {
   "cell_type": "code",
   "execution_count": 108,
   "metadata": {},
   "outputs": [
    {
     "name": "stdout",
     "output_type": "stream",
     "text": [
      "loss at iter 0:1.5839\n",
      "train auc: 0.998847167325\n",
      "test auc: 1.0\n",
      "loss at iter 1:0.5297\n",
      "train auc: 0.999835309618\n",
      "test auc: 0.999505928854\n",
      "loss at iter 2:0.0170\n",
      "train auc: 1.0\n",
      "test auc: 1.0\n",
      "loss at iter 3:0.0088\n",
      "train auc: 1.0\n",
      "test auc: 1.0\n",
      "loss at iter 4:0.0102\n",
      "train auc: 1.0\n",
      "test auc: 1.0\n"
     ]
    }
   ],
   "source": [
    "from sklearn.metrics import roc_auc_score\n",
    "s.run(tf.global_variables_initializer())\n",
    "for i in range(5):\n",
    "    s.run(optimizer, {input_X: X_train, input_y: y_train})\n",
    "    loss_i = s.run(loss, {input_X: X_train, input_y: y_train})\n",
    "    print(\"loss at iter %i:%.4f\" % (i, loss_i))\n",
    "    print(\"train auc:\", roc_auc_score(y_train, s.run(predicted_y, {input_X:X_train})))\n",
    "    print(\"test auc:\", roc_auc_score(y_test, s.run(predicted_y, {input_X:X_test})))"
   ]
  },
  {
   "cell_type": "markdown",
   "metadata": {},
   "source": [
    "### Coursera submission"
   ]
  },
  {
   "cell_type": "code",
   "execution_count": 109,
   "metadata": {},
   "outputs": [],
   "source": [
    "grade_submitter = grading.Grader(\"BJCiiY8sEeeCnhKCj4fcOA\")"
   ]
  },
  {
   "cell_type": "code",
   "execution_count": 110,
   "metadata": {},
   "outputs": [],
   "source": [
    "test_weights = 1e-3 * np.fromiter(map(lambda x:\n",
    "    s.run(weird_psychotic_function, {my_scalar:x, my_vector:[1, 2, 3]}),\n",
    "                               0.1 * np.arange(1, X.shape[1] + 1)),\n",
    "                               count=X.shape[1], dtype=np.float32)[:, np.newaxis]"
   ]
  },
  {
   "cell_type": "markdown",
   "metadata": {},
   "source": [
    "First, test prediction and loss computation. This part doesn't require a fitted model."
   ]
  },
  {
   "cell_type": "code",
   "execution_count": 111,
   "metadata": {},
   "outputs": [],
   "source": [
    "prediction_test = s.run(\n",
    "    predicted_y, {\n",
    "    input_X: X,\n",
    "    weights: test_weights,\n",
    "    b: 1e-1})"
   ]
  },
  {
   "cell_type": "code",
   "execution_count": 112,
   "metadata": {},
   "outputs": [],
   "source": [
    "assert prediction_test.shape == (X.shape[0],),\\\n",
    "       \"Predictions must be a 1D array with length equal to the number \" \\\n",
    "       \"of examples in X_test\""
   ]
  },
  {
   "cell_type": "code",
   "execution_count": 113,
   "metadata": {},
   "outputs": [],
   "source": [
    "grade_submitter.set_answer(\"0ENlN\", prediction_test)"
   ]
  },
  {
   "cell_type": "code",
   "execution_count": 114,
   "metadata": {},
   "outputs": [],
   "source": [
    "loss_test = s.run(\n",
    "    loss, {\n",
    "        input_X: X[:100],\n",
    "        input_y: y[-100:],\n",
    "        weights: test_weights+1.21e-3,\n",
    "        b: -1e-1})\n",
    "# Yes, the X/y indices mistmach is intentional"
   ]
  },
  {
   "cell_type": "code",
   "execution_count": 115,
   "metadata": {},
   "outputs": [],
   "source": [
    "grade_submitter.set_answer(\"mMVpM\", loss_test)"
   ]
  },
  {
   "cell_type": "code",
   "execution_count": 116,
   "metadata": {},
   "outputs": [],
   "source": [
    "grade_submitter.set_answer(\"D16Rc\", roc_auc_score(y_test, s.run(predicted_y, {input_X:X_test})))"
   ]
  },
  {
   "cell_type": "markdown",
   "metadata": {},
   "source": [
    "Please use the credentials obtained from the Coursera assignment page."
   ]
  },
  {
   "cell_type": "code",
   "execution_count": 117,
   "metadata": {},
   "outputs": [
    {
     "name": "stdout",
     "output_type": "stream",
     "text": [
      "Submitted to Coursera platform. See results on assignment page!\n"
     ]
    }
   ],
   "source": [
    "grade_submitter.submit('kleinekrokodil@yandex.ru', '9BC8yTBGGgBhbzK2')"
   ]
  },
  {
   "cell_type": "code",
   "execution_count": null,
   "metadata": {},
   "outputs": [],
   "source": []
  }
 ],
 "metadata": {
  "kernelspec": {
   "display_name": "Python 3",
   "language": "python",
   "name": "python3"
  },
  "language_info": {
   "codemirror_mode": {
    "name": "ipython",
    "version": 3
   },
   "file_extension": ".py",
   "mimetype": "text/x-python",
   "name": "python",
   "nbconvert_exporter": "python",
   "pygments_lexer": "ipython3",
   "version": "3.6.2"
  }
 },
 "nbformat": 4,
 "nbformat_minor": 1
}
