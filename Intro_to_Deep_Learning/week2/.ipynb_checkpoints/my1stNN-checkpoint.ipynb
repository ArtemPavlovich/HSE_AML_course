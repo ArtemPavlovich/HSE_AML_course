{
 "cells": [
  {
   "cell_type": "code",
   "execution_count": 1,
   "metadata": {},
   "outputs": [
    {
     "name": "stderr",
     "output_type": "stream",
     "text": [
      "Using TensorFlow backend.\n"
     ]
    },
    {
     "name": "stdout",
     "output_type": "stream",
     "text": [
      "(50000, 784) (50000,)\n"
     ]
    },
    {
     "data": {
      "image/png": "[encoded data removed]",
      "text/plain": [
       "<matplotlib.figure.Figure at 0x39dc586400>"
      ]
     },
     "metadata": {},
     "output_type": "display_data"
    }
   ],
   "source": [
    "from preprocessed_mnist import load_dataset\n",
    "X_train, y_train, X_val, y_val, X_test, y_test = load_dataset(flatten=True)      #making flat array for examples\n",
    "print(X_train.shape, y_train.shape)\n",
    "import matplotlib.pyplot as plt\n",
    "%matplotlib inline\n",
    "plt.imshow(X_train[0].reshape(28,28), cmap=\"Greys\");"
   ]
  },
  {
   "cell_type": "code",
   "execution_count": 2,
   "metadata": {},
   "outputs": [],
   "source": [
    "import tensorflow as tf\n",
    "s1 = tf.InteractiveSession()"
   ]
  },
  {
   "cell_type": "code",
   "execution_count": 3,
   "metadata": {},
   "outputs": [],
   "source": [
    "import numpy as np"
   ]
  },
  {
   "cell_type": "code",
   "execution_count": 10,
   "metadata": {},
   "outputs": [],
   "source": [
    "train = (X_train, y_train)\n",
    "test = (X_test, y_test)\n",
    "val = (X_val, y_val)"
   ]
  },
  {
   "cell_type": "code",
   "execution_count": 5,
   "metadata": {},
   "outputs": [],
   "source": [
    "import matplotlib.pyplot as plt\n",
    "%matplotlib inline"
   ]
  },
  {
   "cell_type": "code",
   "execution_count": 6,
   "metadata": {},
   "outputs": [],
   "source": [
    "from IPython.display import clear_output"
   ]
  },
  {
   "cell_type": "code",
   "execution_count": 15,
   "metadata": {},
   "outputs": [],
   "source": [
    "class Network:\n",
    "    \n",
    "    def __init__(self, layers, activation=lambda x: tf.sigmoid(x), output=lambda x: x):\n",
    "        \"\"\"\n",
    "        Make list of weight and biases matrices as variables. \n",
    "        w_ij - weight between j neuron in l-1 layer and i neuron in l layer.\n",
    "        layers is the list containing the information about how many neurons are there in different layers.\n",
    "        Xavier initialization of weights is implemented: stdev = (2/n_in)**0.5\n",
    "        For example, network [28,50,10] will have 28 input chanels, 50 neurons in hidden layer and 10 output neurons.\n",
    "        activation - activation function of neurons in the hidden layers except for the last layer\n",
    "        output - activation function of neurons in the last layer\n",
    "        \"\"\"\n",
    "        \n",
    "        self.layers = layers\n",
    "        self.biases = [tf.Variable(tf.zeros([y,1]), name=\"biases%i\" % (y)) for y in layers[1:]]\n",
    "        self.weights = [tf.Variable(tf.random_normal([x,y], mean=0.0, stddev=(2/y)**0.5), name=\"weights%i\" % (y)) for x,y in zip(layers[1:],layers[:-1])]\n",
    "        self.input_x = tf.placeholder(dtype='float32', shape=None, name=\"input_x\")\n",
    "        self.input_y = tf.placeholder(dtype='int64', shape=None, name=\"input_y\")\n",
    "        self.onehot = tf.placeholder(dtype='float32', shape=None, name=\"onehot_y\")       #Placeholder for input_y in onehot form\n",
    "        self.activation = activation\n",
    "        self.output = output\n",
    "        \n",
    "    \n",
    "    def make_prediction(self):\n",
    "        \"\"\"\n",
    "        construct a function which output is the matrix where each column coresponds \n",
    "        to the example and contain probabilities (softmax is used)\n",
    "        \"\"\"\n",
    "        y_pred = tf.transpose(self.input_x)          #make columns from rows of features\n",
    "        for w, b in zip(self.weights[:-1], self.biases[:-1]):\n",
    "            y_pred = self.activation(tf.matmul(w, y_pred) + b)         #forward activation\n",
    "        y_pred = self.output(tf.matmul(self.weights[-1], y_pred) + self.biases[-1])          #last layer output\n",
    "        y_pred = tf.nn.softmax(y_pred, 0)\n",
    "        return y_pred\n",
    "        \n",
    "    def make_step(self, training_data, batch_size, optimizer):\n",
    "        ind = np.random.choice(training_data[1].shape[0], batch_size)        #random indices from training data\n",
    "        mini_batch = (training_data[0][ind], training_data[1][ind])         #making mini_batch\n",
    "        s1.run(optimizer, {self.input_x: mini_batch[0], self.onehot: self.onehot_matrix(mini_batch[1])}) #perform optimizer\n",
    "    \n",
    "    def onehot_matrix(self, y_true):\n",
    "        y_true_onehot = [[int(i==y) for y in y_true] for i in range(self.layers[-1])] #example: from y_true=[0,2]\n",
    "        return y_true_onehot                                                          #make [[1,0],[0,0][0,1]]\n",
    "    \n",
    "    def cross_entropy_loss(self):\n",
    "        pred_for_correct1 = self.make_prediction() * self.onehot         #leaving predictions only for correct classes\n",
    "        pred_for_correct2 = tf.reduce_sum(pred_for_correct1, 0)            #making from it 1-D array by summing along columns\n",
    "        loss = tf.reduce_mean(-tf.log(pred_for_correct2))                #applying log and summing through examples\n",
    "        return loss\n",
    "    \n",
    "    def evaluate(self):\n",
    "        correct_answer = tf.argmax(self.make_prediction(), 0)         #choosing correct answer by maximum probability along columns\n",
    "        difference = correct_answer - self.input_y                   #difference vector\n",
    "        incorrect_number = tf.count_nonzero(difference)           #correct predictions only where 0 in difference vector\n",
    "        correct_ratio = 1 - incorrect_number / tf.shape(difference, out_type='int64')[0]\n",
    "        return correct_ratio\n",
    "    \n",
    "    def training_momentum(self, restore=False, save=True, training_data=train, steps=100, batch_size=10, eta=0.05, momentum=0.9, nesterov=False):\n",
    "        optimizer = tf.train.MomentumOptimizer(eta, momentum, use_nesterov=nesterov).minimize(self.cross_entropy_loss(), var_list=[self.weights, self.biases])\n",
    "        s1.run(tf.global_variables_initializer())\n",
    "        if restore:\n",
    "            saver.restore(s1, './model.chkpt')\n",
    "        for i in range(steps):\n",
    "            self.make_step(training_data, batch_size, optimizer)\n",
    "        if save:\n",
    "            saver.save(s1, './model.chkpt')\n",
    "    \n",
    "    def training_RMSprop(self, restore=False, save=True, training_data=train, steps=100, batch_size=10, eta=0.1, decay=0.9):\n",
    "        optimizer = tf.train.RMSPropOptimizer(eta, decay, momentum=0.0, epsilon=1e-10).minimize(self.cross_entropy_loss(), var_list=[self.weights, self.biases])\n",
    "        s1.run(tf.global_variables_initializer())\n",
    "        if restore:\n",
    "            saver.restore(s1, './model.chkpt')\n",
    "        for i in range(steps):\n",
    "            self.make_step(training_data, batch_size, optimizer)\n",
    "        if save:\n",
    "            saver.save(s1, './model.chkpt')\n",
    "    \n",
    "    def training_AdaDelta(self, restore=False, save=True, training_data=train, steps=100, batch_size=10, eta=0.01, rho=0.95):\n",
    "        optimizer = tf.train.AdadeltaOptimizer(eta, rho, epsilon=1e-8).minimize(self.cross_entropy_loss(), var_list=[self.weights, self.biases])\n",
    "        s1.run(tf.global_variables_initializer())\n",
    "        if restore:\n",
    "            saver.restore(s1, './model.chkpt')\n",
    "        for i in range(steps):\n",
    "            self.make_step(training_data, batch_size, optimizer)\n",
    "        if save:\n",
    "            saver.save(s1, './model.chkpt')\n",
    "    \n",
    "    def training_Adam(self, restore=False, save=True, training_data=train, steps=100, batch_size=10, eta=0.001, beta1=0.9, beta2=0.999):\n",
    "        optimizer = tf.train.AdamOptimizer(eta, beta1, beta2, epsilon=1e-8).minimize(self.cross_entropy_loss(), var_list=[self.weights, self.biases])\n",
    "        s1.run(tf.global_variables_initializer())\n",
    "        if restore:\n",
    "            saver.restore(s1, './model.chkpt')\n",
    "        for i in range(steps):\n",
    "            self.make_step(training_data, batch_size, optimizer)\n",
    "        if save:\n",
    "            saver.save(s1, './model.chkpt')\n",
    "        \n",
    "    def training(self, restore=False, save=True, training_data=train, steps=100, batch_size=10, eta=0.1):\n",
    "        optimizer = tf.train.GradientDescentOptimizer(eta).minimize(self.cross_entropy_loss(), var_list=[self.weights, self.biases])\n",
    "        s1.run(tf.global_variables_initializer())\n",
    "        if restore:\n",
    "            saver.restore(s1, './model.chkpt')\n",
    "        for i in range(steps):\n",
    "            self.make_step(training_data, batch_size, optimizer)\n",
    "        if save:\n",
    "            saver.save(s1, './model.chkpt')\n",
    "    "
   ]
  },
  {
   "cell_type": "code",
   "execution_count": 16,
   "metadata": {},
   "outputs": [],
   "source": [
    "nn = Network([784,500,200,200,100,10], activation=lambda x: tf.nn.relu(x), output=lambda x: x)"
   ]
  },
  {
   "cell_type": "code",
   "execution_count": 17,
   "metadata": {},
   "outputs": [],
   "source": [
    "s1.run(tf.global_variables_initializer())"
   ]
  },
  {
   "cell_type": "code",
   "execution_count": 18,
   "metadata": {},
   "outputs": [],
   "source": [
    "saver = tf.train.Saver()"
   ]
  },
  {
   "cell_type": "code",
   "execution_count": 20,
   "metadata": {},
   "outputs": [
    {
     "name": "stdout",
     "output_type": "stream",
     "text": [
      "Epoch 29\n",
      "Val_accuracy 0.9792\n"
     ]
    },
    {
     "data": {
      "image/png": "[encoded data removed]",
      "text/plain": [
       "<matplotlib.figure.Figure at 0x39fa8dba90>"
      ]
     },
     "metadata": {},
     "output_type": "display_data"
    },
    {
     "name": "stdout",
     "output_type": "stream",
     "text": [
      "Test_accuracy 0.9807\n"
     ]
    }
   ],
   "source": [
    "nn.training_AdaDelta(restore=False, training_data=train, steps=400, batch_size=50, eta=1, rho=0.9)\n",
    "train_log = []\n",
    "val_log = []\n",
    "for epoch in range(30):\n",
    "    nn.training_AdaDelta(restore=True, training_data=train, steps=400, batch_size=50, eta=1, rho=0.9)\n",
    "    clear_output()\n",
    "    train_log.append(s1.run(nn.cross_entropy_loss(), {nn.input_x: train[0], nn.onehot: nn.onehot_matrix(train[1])}))\n",
    "    val_log.append(s1.run(nn.cross_entropy_loss(), {nn.input_x: val[0], nn.onehot: nn.onehot_matrix(val[1])}))\n",
    "    print(\"Epoch\", epoch)\n",
    "    print(\"Val_accuracy\",s1.run(nn.evaluate(), {nn.input_x: val[0], nn.input_y: val[1]}))\n",
    "    plt.plot(train_log, label='train loss')\n",
    "    plt.plot(val_log, label='val loss')\n",
    "    plt.legend(loc='best')\n",
    "    plt.grid()\n",
    "    plt.show()\n",
    "print(\"Test_accuracy\",s1.run(nn.evaluate(), {nn.input_x: test[0], nn.input_y: test[1]}))"
   ]
  },
  {
   "cell_type": "markdown",
   "metadata": {},
   "source": [
    "Feel free to try different network configurations and activation functions. \n",
    "Also my suggested protocol of optimization is not state of art and can be improved)\n",
    "Try different optimizers, batch sizes, learning rates, steps and epoch numbers. Increasing steps to 1000 will give you accuracy near 98.5%.\n",
    "Make experiments and report what should I improve.\n",
    "Thank you and good luck in following tasks)"
   ]
  },
  {
   "cell_type": "code",
   "execution_count": null,
   "metadata": {},
   "outputs": [],
   "source": []
  }
 ],
 "metadata": {
  "kernelspec": {
   "display_name": "Python 3",
   "language": "python",
   "name": "python3"
  },
  "language_info": {
   "codemirror_mode": {
    "name": "ipython",
    "version": 3
   },
   "file_extension": ".py",
   "mimetype": "text/x-python",
   "name": "python",
   "nbconvert_exporter": "python",
   "pygments_lexer": "ipython3",
   "version": "3.6.4"
  }
 },
 "nbformat": 4,
 "nbformat_minor": 2
}
