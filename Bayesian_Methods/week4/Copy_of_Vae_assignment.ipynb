{
  "nbformat": 4,
  "nbformat_minor": 0,
  "metadata": {
    "colab": {
      "name": "Copy of Vae_assignment.ipynb",
      "provenance": [],
      "collapsed_sections": [],
      "include_colab_link": true
    },
    "kernelspec": {
      "name": "python3",
      "display_name": "Python 3"
    },
    "accelerator": "GPU"
  },
  "cells": [
    {
      "cell_type": "markdown",
      "metadata": {
        "id": "view-in-github",
        "colab_type": "text"
      },
      "source": [
        "<a href=\"https://colab.research.google.com/github/ArtemPavlovich/HSE_AML_course/blob/master/Bayesian_Methods/week4/Copy_of_Vae_assignment.ipynb\" target=\"_parent\"><img src=\"https://colab.research.google.com/assets/colab-badge.svg\" alt=\"Open In Colab\"/></a>"
      ]
    },
    {
      "cell_type": "markdown",
      "metadata": {
        "id": "G233yNiDOnLp",
        "colab_type": "text"
      },
      "source": [
        "# First things first\n",
        "* Click **File -> Save a copy in Drive** and click **Open in new tab** in the pop-up window to save your progress in Google Drive.\n",
        "* Click **Runtime -> Change runtime type** and select **GPU** in Hardware accelerator box to enable faster GPU training."
      ]
    },
    {
      "cell_type": "markdown",
      "metadata": {
        "id": "74KEu1L8OnLq",
        "colab_type": "text"
      },
      "source": [
        "# Variational Autoencoder"
      ]
    },
    {
      "cell_type": "markdown",
      "metadata": {
        "id": "r94_BRA-OnLr",
        "colab_type": "text"
      },
      "source": [
        "In this assignment, you will build Variational Autoencoder, train it on the MNIST dataset, and play with its architecture and hyperparameters."
      ]
    },
    {
      "cell_type": "markdown",
      "metadata": {
        "id": "LyLQLqBcOnLt",
        "colab_type": "text"
      },
      "source": [
        "### Setup\n",
        "Loading auxiliary files and importing the necessary libraries."
      ]
    },
    {
      "cell_type": "code",
      "metadata": {
        "id": "naC94KtXOnLt",
        "colab_type": "code",
        "outputId": "16dac993-c062-4598-916c-8436de454a0d",
        "colab": {
          "base_uri": "https://localhost:8080/",
          "height": 269
        }
      },
      "source": [
        "try:\n",
        "    import google.colab\n",
        "    IN_COLAB = True\n",
        "except:\n",
        "    IN_COLAB = False\n",
        "if IN_COLAB:\n",
        "    print(\"Downloading Colab files\")\n",
        "    ! shred -u setup_google_colab.py\n",
        "    ! wget https://raw.githubusercontent.com/hse-aml/bayesian-methods-for-ml/master/setup_google_colab.py -O setup_google_colab.py\n",
        "    import setup_google_colab\n",
        "    setup_google_colab.load_data_week5()"
      ],
      "execution_count": 0,
      "outputs": [
        {
          "output_type": "stream",
          "text": [
            "Downloading Colab files\n",
            "shred: setup_google_colab.py: failed to open for writing: No such file or directory\n",
            "--2020-03-05 15:40:49--  https://raw.githubusercontent.com/hse-aml/bayesian-methods-for-ml/master/setup_google_colab.py\n",
            "Resolving raw.githubusercontent.com (raw.githubusercontent.com)... 151.101.0.133, 151.101.64.133, 151.101.128.133, ...\n",
            "Connecting to raw.githubusercontent.com (raw.githubusercontent.com)|151.101.0.133|:443... connected.\n",
            "HTTP request sent, awaiting response... 200 OK\n",
            "Length: 1254 (1.2K) [text/plain]\n",
            "Saving to: ‘setup_google_colab.py’\n",
            "\n",
            "setup_google_colab. 100%[===================>]   1.22K  --.-KB/s    in 0s      \n",
            "\n",
            "2020-03-05 15:40:49 (313 MB/s) - ‘setup_google_colab.py’ saved [1254/1254]\n",
            "\n",
            "https://raw.githubusercontent.com/hse-aml/bayesian-methods-for-ml/master/week5/w5_grader.py w5_grader.py\n",
            "https://raw.githubusercontent.com/hse-aml/bayesian-methods-for-ml/master/week5/test_data.npz test_data.npz\n"
          ],
          "name": "stdout"
        }
      ]
    },
    {
      "cell_type": "code",
      "metadata": {
        "id": "H-hJ6_wBOnLz",
        "colab_type": "code",
        "outputId": "ad943f1a-44a4-4f6f-d43a-693344232586",
        "colab": {
          "base_uri": "https://localhost:8080/",
          "height": 79
        }
      },
      "source": [
        "import tensorflow as tf\n",
        "import keras\n",
        "import numpy as np\n",
        "import matplotlib.pyplot as plt\n",
        "\n",
        "import tensorflow_probability as tfp\n",
        "tfd = tfp.distributions\n",
        "from keras.layers import Input, Dense, Lambda, InputLayer, concatenate, Conv2D, Conv2DTranspose, Reshape, Flatten, BatchNormalization, Activation\n",
        "from keras.models import Model, Sequential\n",
        "from keras import backend as K\n",
        "from keras import metrics\n",
        "from keras.datasets import mnist\n",
        "from keras.utils import np_utils\n",
        "from w5_grader import VAEGrader"
      ],
      "execution_count": 0,
      "outputs": [
        {
          "output_type": "display_data",
          "data": {
            "text/html": [
              "<p style=\"color: red;\">\n",
              "The default version of TensorFlow in Colab will soon switch to TensorFlow 2.x.<br>\n",
              "We recommend you <a href=\"https://www.tensorflow.org/guide/migrate\" target=\"_blank\">upgrade</a> now \n",
              "or ensure your notebook will continue to use TensorFlow 1.x via the <code>%tensorflow_version 1.x</code> magic:\n",
              "<a href=\"https://colab.research.google.com/notebooks/tensorflow_version.ipynb\" target=\"_blank\">more info</a>.</p>\n"
            ],
            "text/plain": [
              "<IPython.core.display.HTML object>"
            ]
          },
          "metadata": {
            "tags": []
          }
        },
        {
          "output_type": "stream",
          "text": [
            "Using TensorFlow backend.\n"
          ],
          "name": "stderr"
        }
      ]
    },
    {
      "cell_type": "code",
      "metadata": {
        "id": "dpZjbDz0OnMA",
        "colab_type": "code",
        "colab": {}
      },
      "source": [
        "# Start tf session so we can run code.\n",
        "sess = tf.InteractiveSession()\n",
        "# Connect keras to the created session.\n",
        "K.set_session(sess)"
      ],
      "execution_count": 0,
      "outputs": []
    },
    {
      "cell_type": "markdown",
      "metadata": {
        "id": "KyZf9DsOOnL2",
        "colab_type": "text"
      },
      "source": [
        "### Grading\n",
        "We will create a grader instance below and use it to collect your answers. Note that these outputs will be stored locally inside grader and will be uploaded to the platform only after running submit function in the last part of this assignment. If you want to make a partial submission, you can run that cell anytime you want."
      ]
    },
    {
      "cell_type": "code",
      "metadata": {
        "id": "V5D7sEDBOnL3",
        "colab_type": "code",
        "colab": {}
      },
      "source": [
        "grader = VAEGrader()"
      ],
      "execution_count": 0,
      "outputs": []
    },
    {
      "cell_type": "markdown",
      "metadata": {
        "id": "RnkOQUeSOnL5",
        "colab_type": "text"
      },
      "source": [
        "### Variational Autoencoder"
      ]
    },
    {
      "cell_type": "markdown",
      "metadata": {
        "id": "GmV9OxiIOnL7",
        "colab_type": "text"
      },
      "source": [
        "Recall that Variational Autoencoder is a probabilistic model of data based on a continious mixture of distributions. In the lecture we covered the mixture of gaussians case, but here we will apply VAE to binary MNIST images (each pixel is either black or white). To better model binary data we will use a continuous mixture of binomial distributions: $p(x \\mid w) = \\int p(x \\mid t, w) p(t) dt$, where the prior distribution on the latent code $t$ is standard normal $p(t) = \\mathcal{N}(0, I)$, but probability that $(i, j)$-th pixel is black equals to $(i, j)$-th output of the decoder neural detwork: $p(x_{i, j} \\mid t, w) = \\text{decoder}(t, w)_{i, j}$.\n",
        "\n",
        "To train this model we would like to maximize marginal log-likelihood of our dataset $\\max_w \\log p(X \\mid w)$, but it's very hard to do computationally, so instead we maximize the Variational Lower Bound w.r.t. both the original parameters $w$ and variational distribution $q$ which we define as encoder neural network with parameters $\\phi$ which takes input image $x$ and outputs parameters of the gaussian distribution $q(t \\mid x, \\phi)$: $\\log p(X \\mid w) \\geq \\mathcal{L}(w, \\phi) \\rightarrow \\max_{w, \\phi}$.\n",
        "\n",
        "So overall our model looks as follows: encoder takes an image $x$, produces a distribution over latent codes $q(t \\mid x)$ which should approximate the posterior distribution $p(t \\mid x)$ (at least after training), samples a point from this distribution $\\widehat{t} \\sim q(t \\mid x, \\phi)$, and finally feeds it into a decoder that outputs a distribution over images.\n",
        "\n",
        "![](https://github.com/hse-aml/bayesian-methods-for-ml/blob/master/week5/VAE.png?raw=1)\n",
        "\n",
        "In the lecture, we also discussed that variational lower bound has an expected value inside which we are going to approximate with sampling. But it is not trivial since we need to differentiate through this approximation. However, we learned about _reparametrization trick_ which suggests instead of sampling from distribution $\\widehat{t} \\sim q(t \\mid x, \\phi)$ sample from a distribution which doesn't depend on any parameters, e.g. standard normal, and then deterministically transform this sample to the desired one: $\\varepsilon \\sim \\mathcal{N}(0, I); ~~\\widehat{t} = m(x, \\phi) + \\varepsilon \\sigma(x, \\phi)$. This way we don't have to worry about our stochastic gradient being biased and can straightforwardly differentiate our loss w.r.t. all the parameters while treating the current sample $\\varepsilon$ as constant.\n",
        "\n",
        "\n"
      ]
    },
    {
      "cell_type": "markdown",
      "metadata": {
        "id": "fVszOw7ROnL8",
        "colab_type": "text"
      },
      "source": [
        "### Negative Variational Lower Bound"
      ]
    },
    {
      "cell_type": "markdown",
      "metadata": {
        "id": "aRMMKLiGOnL9",
        "colab_type": "text"
      },
      "source": [
        "**Task 1** Derive and implement Variational Lower Bound for the continuous mixture of Binomial distributions.\n",
        "\n",
        "**Note** that in lectures we discussed maximizing the VLB (which is typically a negative number), but in this assignment, for convenience, we will **minimize** the **negated** version of VLB (which will be a positive number) instead of maximizing the usual VLB. In what follows we always talk about _negated_ VLB, even when we use the term VLB for short.\n",
        "\n",
        "**Also note** that to pass the test, your code should work with any mini-batch size.\n",
        "\n",
        "To do that, we need a stochastic estimate of VLB: \n",
        "$$\\text{VLB} = \\sum_{i=1}^N \\text{VLB}_i \\approx \\frac{N}{M}\\sum_{i_s}^M \\text{VLB}_{i_s}$$\n",
        "where $N$ is the dataset size, $\\text{VLB}_i$ is the term of VLB corresponding to the $i$-th object, and $M$ is the mini-batch size. But instead of this stochastic estimate of the full VLB we will use an estimate of the negated VLB normalized by the dataset size, i.e. in the function below you need to return average across the mini-batch $-\\frac{1}{M}\\sum_{i_s}^M \\text{VLB}_{i_s}$. People usually optimize this normalized version of VLB since it doesn't depend on the dataset set - you can write VLB function once and use it for different datasets - the dataset size won't affect the learning rate too much. The correct value for this normalized negated VLB should be around $100 - 170$ in the example below."
      ]
    },
    {
      "cell_type": "code",
      "metadata": {
        "id": "OwynsmjaOnL-",
        "colab_type": "code",
        "colab": {}
      },
      "source": [
        "def vlb_binomial(x, x_decoded_mean, t_mean, t_log_var):\n",
        "    \"\"\"Returns the value of negative Variational Lower Bound\n",
        "    \n",
        "    The inputs are tf.Tensor\n",
        "        x: (batch_size x number_of_pixels) matrix with one image per row with zeros and ones\n",
        "        x_decoded_mean: (batch_size x number_of_pixels) mean of the distribution p(x | t), real numbers from 0 to 1\n",
        "        t_mean: (batch_size x latent_dim) mean vector of the (normal) distribution q(t | x)\n",
        "        t_log_var: (batch_size x latent_dim) logarithm of the variance vector of the (normal) distribution q(t | x)\n",
        "    \n",
        "    Returns:\n",
        "        A tf.Tensor with one element (averaged across the batch), VLB\n",
        "    \"\"\"\n",
        "    ### YOUR CODE HERE\n",
        "    \n",
        "    log_prob_out = tf.reduce_sum(tf.math.log(x_decoded_mean+1e-19) * x  + (1 - x) * tf.math.log(1 - x_decoded_mean), axis = 1)\n",
        "    \n",
        "    KL = 0.5 * tf.reduce_sum(-t_log_var + tf.math.square(t_mean) + tf.math.exp(t_log_var) - 1, axis = 1)\n",
        "\n",
        "    VLB = tf.reduce_mean(log_prob_out - KL)\n",
        "\n",
        "    return -VLB\n"
      ],
      "execution_count": 0,
      "outputs": []
    },
    {
      "cell_type": "code",
      "metadata": {
        "id": "kL8xJ7yqy5ew",
        "colab_type": "code",
        "outputId": "1af0b97e-d91f-4555-ae7b-eae658a4ecba",
        "colab": {
          "base_uri": "https://localhost:8080/",
          "height": 104
        }
      },
      "source": [
        "# x_dec = tf.constant(np.array([[.2,.3,.4,.3],[.5,.6,.7,.3]], dtype='float32'))\n",
        "# t_mean = tf.constant(np.array([[.2,.3,.3],[.5,.6,.3]], dtype='float32'))\n",
        "\n",
        "# output = tfd.Bernoulli(probs=x_dec, name='output')\n",
        "# epsilon = tfd.MultivariateNormalDiag(loc=tf.zeros(t_mean.shape))\n",
        "# prior_t = tfd.MultivariateNormalDiag(loc=tf.zeros(t_mean.shape))\n",
        "\n",
        "# log_prob_out = tf.reduce_sum(output.log_prob(x_dec))\n",
        "# latent = tfp.bijectors.Affine(shift=t_mean, scale_diag=t_mean)\n",
        "# latent = latent(epsilon)\n",
        "# # expect = tf.reduce_sum(latent.sample(), axis=0)\n",
        "# # expect\n",
        "# latent.sample()\n",
        "\n"
      ],
      "execution_count": 0,
      "outputs": [
        {
          "output_type": "stream",
          "text": [
            "WARNING:tensorflow:From /usr/local/lib/python3.6/dist-packages/tensorflow_core/python/ops/nn_impl.py:183: where (from tensorflow.python.ops.array_ops) is deprecated and will be removed in a future version.\n",
            "Instructions for updating:\n",
            "Use tf.where in 2.0, which has the same broadcast rule as np.where\n"
          ],
          "name": "stdout"
        },
        {
          "output_type": "execute_result",
          "data": {
            "text/plain": [
              "<tf.Tensor 'affineMultivariateNormalDiag/sample/affine/forward/add:0' shape=(2, 3) dtype=float32>"
            ]
          },
          "metadata": {
            "tags": []
          },
          "execution_count": 9
        }
      ]
    },
    {
      "cell_type": "code",
      "metadata": {
        "id": "sJoWFRnDOnMF",
        "colab_type": "code",
        "outputId": "a78c81ba-ee21-4c63-ed3c-c3cbdb69ffa5",
        "colab": {
          "base_uri": "https://localhost:8080/",
          "height": 34
        }
      },
      "source": [
        "grader.submit_vlb(sess, vlb_binomial)"
      ],
      "execution_count": 0,
      "outputs": [
        {
          "output_type": "stream",
          "text": [
            "Current answer for task 1 (vlb) is: 157.59705\n"
          ],
          "name": "stdout"
        }
      ]
    },
    {
      "cell_type": "markdown",
      "metadata": {
        "id": "JIajOY9bOnMK",
        "colab_type": "text"
      },
      "source": [
        "## Encoder / decoder definition"
      ]
    },
    {
      "cell_type": "markdown",
      "metadata": {
        "id": "agpMFTzKOnML",
        "colab_type": "text"
      },
      "source": [
        "**Task 2** Read the code below that defines encoder and decoder networks and implement sampling with reparametrization trick in the provided space."
      ]
    },
    {
      "cell_type": "code",
      "metadata": {
        "id": "uY_dcGHmOnML",
        "colab_type": "code",
        "colab": {}
      },
      "source": [
        "batch_size = 100\n",
        "original_dim = 784 # Number of pixels in MNIST images.\n",
        "conv_dim = (28,28,1)\n",
        "latent_dim = 10 # d, dimensionality of the latent code t.\n",
        "intermediate_dim = 512 # Size of the hidden layer.\n",
        "epochs = 20\n",
        "\n",
        "x = Input(batch_shape=(batch_size, original_dim))\n",
        "x_conv = Input(batch_shape=(batch_size, *conv_dim))\n",
        "\n",
        "def create_encoder(input_dim):\n",
        "    # Encoder network.\n",
        "    # We instantiate these layers separately so as to reuse them later\n",
        "    encoder = Sequential(name='encoder')\n",
        "    encoder.add(InputLayer([input_dim]))\n",
        "    encoder.add(Dense(intermediate_dim, activation='relu'))\n",
        "    encoder.add(Dense(intermediate_dim, activation='relu'))\n",
        "    encoder.add(Dense(2 * latent_dim))\n",
        "    return encoder\n",
        "\n",
        "def create_encoder_conv(input_dim):\n",
        "  encoder = Sequential(name='encoder_conv')\n",
        "  encoder.add(InputLayer(input_dim))\n",
        "  encoder.add(Conv2D(filters = 64, kernel_size=4, strides=2, padding='same', use_bias=False))\n",
        "  encoder.add(BatchNormalization(axis=3))\n",
        "  encoder.add(Activation('relu'))\n",
        "  encoder.add(Conv2D(filters = 128, kernel_size=4, strides=2, padding='same', use_bias=False))\n",
        "  encoder.add(BatchNormalization(axis=3))\n",
        "  encoder.add(Activation('relu'))\n",
        "  # encoder.add(Conv2D(filters = 16, kernel_size=4, strides=7))\n",
        "  encoder.add(Flatten())\n",
        "  # encoder.add(Dense(intermediate_dim, activation='relu'))\n",
        "  encoder.add(Dense(2 * latent_dim, name='output'))\n",
        "  return encoder\n",
        "\n",
        "get_t_mean = Lambda(lambda h: h[:, :latent_dim])\n",
        "get_t_log_var = Lambda(lambda h: h[:, latent_dim:])\n",
        "\n",
        "encoder = create_encoder(original_dim)\n",
        "encoder_conv = create_encoder_conv(conv_dim)\n",
        "\n",
        "h = encoder(x)\n",
        "h_conv = encoder_conv(x_conv)\n",
        "\n",
        "t_mean = get_t_mean(h)\n",
        "t_log_var = get_t_log_var(h)\n",
        "\n",
        "t_mean_conv = get_t_mean(h_conv)\n",
        "t_log_var_conv = get_t_log_var(h_conv)\n",
        "\n",
        "# Sampling from the distribution \n",
        "#     q(t | x) = N(t_mean, exp(t_log_var))\n",
        "# with reparametrization trick.\n",
        "def sampling(args):\n",
        "    \"\"\"Returns sample from a distribution N(args[0], diag(args[1]))\n",
        "    \n",
        "    The sample should be computed with reparametrization trick.\n",
        "    \n",
        "    The inputs are tf.Tensor\n",
        "        args[0]: (batch_size x latent_dim) mean of the desired distribution\n",
        "        args[1]: (batch_size x latent_dim) logarithm of the variance vector of the desired distribution\n",
        "    \n",
        "    Returns:\n",
        "        A tf.Tensor of size (batch_size x latent_dim), the samples.\n",
        "    \"\"\"\n",
        "    t_mean, t_log_var = args\n",
        "    # YOUR CODE HERE\n",
        "    epsilon = tfd.MultivariateNormalDiag(loc=tf.zeros(t_mean.shape))\n",
        "    latent = tfp.bijectors.Affine(shift=t_mean,  scale_diag=tf.math.exp(.5 * t_log_var))\n",
        "    latent = latent(epsilon)\n",
        "    return latent.sample()\n",
        "\n",
        "t = Lambda(sampling)([t_mean, t_log_var])\n",
        "t_conv = Lambda(sampling)([t_mean_conv, t_log_var_conv])\n",
        "\n",
        "def create_decoder(input_dim):\n",
        "    # Decoder network\n",
        "    # We instantiate these layers separately so as to reuse them later\n",
        "    decoder = Sequential(name='decoder')\n",
        "    decoder.add(InputLayer([input_dim]))\n",
        "    decoder.add(Dense(intermediate_dim, activation='relu'))\n",
        "    decoder.add(Dense(intermediate_dim, activation='relu'))\n",
        "    decoder.add(Dense(original_dim, activation='sigmoid'))\n",
        "    return decoder\n",
        "\n",
        "def create_decoder_conv(input_dim):\n",
        "  decoder = Sequential(name='decoder_conv')\n",
        "  decoder.add(InputLayer([input_dim]))\n",
        "  # decoder.add(Dense(intermediate_dim, activation='relu'))\n",
        "  decoder.add(Dense(128 * 7 * 7))\n",
        "  decoder.add(Reshape((7, 7, 128)))\n",
        "  decoder.add(Conv2DTranspose(kernel_size=4, filters=128, strides=2, padding='same', use_bias=False, name='deconv1'))\n",
        "  decoder.add(BatchNormalization(axis=3))\n",
        "  decoder.add(Activation('relu'))\n",
        "  decoder.add(Conv2DTranspose(kernel_size=4, filters=64, strides=2, padding='same', use_bias=False, name='deconv2'))\n",
        "  # decoder.add(BatchNormalization(axis=3))\n",
        "  decoder.add(Activation('sigmoid'))\n",
        "  decoder.add(Flatten())                                               \n",
        "  return decoder\n",
        "\n",
        "decoder = create_decoder(latent_dim)\n",
        "decoder_conv = create_decoder_conv(latent_dim)\n",
        "\n",
        "x_decoded_mean = decoder(t)\n",
        "x_decoded_mean_conv = decoder(t_conv)"
      ],
      "execution_count": 0,
      "outputs": []
    },
    {
      "cell_type": "code",
      "metadata": {
        "id": "E5BXYEMolKr_",
        "colab_type": "code",
        "outputId": "a48f8ec0-acea-4f2c-d67d-ebb2b3c3008c",
        "colab": {
          "base_uri": "https://localhost:8080/",
          "height": 34
        }
      },
      "source": [
        "# encoder = Sequential(name='encoder_conv')\n",
        "# encoder.add(InputLayer([original_dim]))\n",
        "# encoder.add(Reshape((28,28,1),name='reshape'))\n",
        "# encoder.add(Conv2D(filters = 16, kernel_size=4, strides=4,name='conv2d'))\n",
        "print(decoder_conv.get_layer(name='deconv2').output_shape)"
      ],
      "execution_count": 0,
      "outputs": [
        {
          "output_type": "stream",
          "text": [
            "(None, 28, 28, 128)\n"
          ],
          "name": "stdout"
        }
      ]
    },
    {
      "cell_type": "code",
      "metadata": {
        "id": "YXhY1G7POnMN",
        "colab_type": "code",
        "outputId": "a762f009-a78c-4107-d422-d20c58eb7868",
        "colab": {
          "base_uri": "https://localhost:8080/",
          "height": 50
        }
      },
      "source": [
        "grader.submit_samples(sess, sampling)"
      ],
      "execution_count": 0,
      "outputs": [
        {
          "output_type": "stream",
          "text": [
            "Current answer for task 2.1 (samples mean) is: -0.11856712\n",
            "Current answer for task 2.2 (samples var) is: 0.036918394\n"
          ],
          "name": "stdout"
        }
      ]
    },
    {
      "cell_type": "markdown",
      "metadata": {
        "id": "nktDqnapOnMS",
        "colab_type": "text"
      },
      "source": [
        "## Training the model"
      ]
    },
    {
      "cell_type": "markdown",
      "metadata": {
        "id": "Bcs69AvMOnMT",
        "colab_type": "text"
      },
      "source": [
        "**Task 3** Run the cells below to train the model with the default settings. Modify the parameters to get better results. Especially pay attention to the encoder/decoder architectures (e.g. using more layers, maybe making them convolutional), learning rate, and the number of epochs."
      ]
    },
    {
      "cell_type": "code",
      "metadata": {
        "id": "ZC2LPovUOnMU",
        "colab_type": "code",
        "colab": {}
      },
      "source": [
        "loss = vlb_binomial(x, x_decoded_mean, t_mean, t_log_var)\n",
        "loss_conv = vlb_binomial(tf.reshape(x_conv,[batch_size, original_dim]), x_decoded_mean_conv, t_mean_conv, t_log_var_conv)\n",
        "\n",
        "vae = Model(x, x_decoded_mean)\n",
        "vae_conv = Model(x_conv, x_decoded_mean_conv)\n",
        "# Keras will provide input (x) and output (x_decoded_mean) to the function that\n",
        "# should construct loss, but since our function also depends on other\n",
        "# things (e.g. t_means), it is easier to build the loss in advance and pass\n",
        "# a function that always returns it.\n",
        "vae.compile(optimizer=keras.optimizers.RMSprop(lr=0.001), loss=lambda x, y: loss)\n",
        "vae_conv.compile(optimizer=keras.optimizers.RMSprop(lr=0.0005), loss=lambda x, y: loss_conv)"
      ],
      "execution_count": 0,
      "outputs": []
    },
    {
      "cell_type": "markdown",
      "metadata": {
        "id": "SVJQG9l4OnMY",
        "colab_type": "text"
      },
      "source": [
        "#### Load and prepare the data"
      ]
    },
    {
      "cell_type": "code",
      "metadata": {
        "id": "AS79kH0VOnMZ",
        "colab_type": "code",
        "outputId": "3d84113b-89ea-491d-b7a9-4723853b83e7",
        "colab": {
          "base_uri": "https://localhost:8080/",
          "height": 50
        }
      },
      "source": [
        "# train the VAE on MNIST digits\n",
        "(x_train, y_train), (x_test, y_test) = mnist.load_data()\n",
        "# One hot encoding.\n",
        "y_train_dense = np_utils.to_categorical(y_train)\n",
        "y_test_dense = np_utils.to_categorical(y_test)\n",
        "\n",
        "x_train = x_train.astype('float32') / 255.\n",
        "x_test = x_test.astype('float32') / 255.\n",
        "x_train_dense = x_train.reshape((len(x_train), np.prod(x_train.shape[1:])))\n",
        "x_test_dense = x_test.reshape((len(x_test), np.prod(x_test.shape[1:])))\n",
        "x_train_conv = np.expand_dims(x_train, -1)\n",
        "x_test_conv = np.expand_dims(x_test, -1)"
      ],
      "execution_count": 0,
      "outputs": [
        {
          "output_type": "stream",
          "text": [
            "Downloading data from https://s3.amazonaws.com/img-datasets/mnist.npz\n",
            "11493376/11490434 [==============================] - 1s 0us/step\n"
          ],
          "name": "stdout"
        }
      ]
    },
    {
      "cell_type": "code",
      "metadata": {
        "id": "y_RLQ7dd7P2b",
        "colab_type": "code",
        "colab": {}
      },
      "source": [
        "x_train[0]"
      ],
      "execution_count": 0,
      "outputs": []
    },
    {
      "cell_type": "markdown",
      "metadata": {
        "id": "EnWfL2xrOnMb",
        "colab_type": "text"
      },
      "source": [
        "#### Train the model"
      ]
    },
    {
      "cell_type": "code",
      "metadata": {
        "id": "J_-zXvnpOnMc",
        "colab_type": "code",
        "outputId": "66cfae4b-b370-46ee-94ab-ebb56a3542da",
        "colab": {
          "base_uri": "https://localhost:8080/",
          "height": 826
        }
      },
      "source": [
        "hist = vae.fit(x=x_train_dense, y=x_train_dense,\n",
        "               shuffle=True,\n",
        "               epochs=epochs,\n",
        "               batch_size=batch_size,\n",
        "               validation_data=(x_test_dense, x_test_dense),\n",
        "               verbose=2)"
      ],
      "execution_count": 0,
      "outputs": [
        {
          "output_type": "stream",
          "text": [
            "WARNING:tensorflow:From /usr/local/lib/python3.6/dist-packages/keras/backend/tensorflow_backend.py:1033: The name tf.assign_add is deprecated. Please use tf.compat.v1.assign_add instead.\n",
            "\n",
            "WARNING:tensorflow:From /usr/local/lib/python3.6/dist-packages/keras/backend/tensorflow_backend.py:1020: The name tf.assign is deprecated. Please use tf.compat.v1.assign instead.\n",
            "\n",
            "WARNING:tensorflow:From /usr/local/lib/python3.6/dist-packages/keras/backend/tensorflow_backend.py:3005: The name tf.Session is deprecated. Please use tf.compat.v1.Session instead.\n",
            "\n",
            "Train on 60000 samples, validate on 10000 samples\n",
            "Epoch 1/20\n",
            " - 4s - loss: 154.3643 - val_loss: 128.5341\n",
            "Epoch 2/20\n",
            " - 2s - loss: 123.9353 - val_loss: 118.3319\n",
            "Epoch 3/20\n",
            " - 2s - loss: 116.8701 - val_loss: 113.3403\n",
            "Epoch 4/20\n",
            " - 2s - loss: 112.7932 - val_loss: 110.2821\n",
            "Epoch 5/20\n",
            " - 2s - loss: 110.5094 - val_loss: 109.8257\n",
            "Epoch 6/20\n",
            " - 2s - loss: 108.9407 - val_loss: 108.6266\n",
            "Epoch 7/20\n",
            " - 2s - loss: 107.8275 - val_loss: 107.1457\n",
            "Epoch 8/20\n",
            " - 2s - loss: 106.8896 - val_loss: 106.4917\n",
            "Epoch 9/20\n",
            " - 2s - loss: 106.1683 - val_loss: 106.5859\n",
            "Epoch 10/20\n",
            " - 2s - loss: 105.6177 - val_loss: 105.1449\n",
            "Epoch 11/20\n",
            " - 2s - loss: 105.1338 - val_loss: 104.9884\n",
            "Epoch 12/20\n",
            " - 2s - loss: 104.7009 - val_loss: 105.1318\n",
            "Epoch 13/20\n",
            " - 2s - loss: 104.3419 - val_loss: 104.1090\n",
            "Epoch 14/20\n",
            " - 2s - loss: 104.0270 - val_loss: 105.0581\n",
            "Epoch 15/20\n",
            " - 2s - loss: 103.7694 - val_loss: 104.3602\n",
            "Epoch 16/20\n",
            " - 2s - loss: 103.4884 - val_loss: 104.2549\n",
            "Epoch 17/20\n",
            " - 2s - loss: 103.2587 - val_loss: 104.1015\n",
            "Epoch 18/20\n",
            " - 2s - loss: 103.1016 - val_loss: 104.0472\n",
            "Epoch 19/20\n",
            " - 2s - loss: 102.8871 - val_loss: 103.6280\n",
            "Epoch 20/20\n",
            " - 2s - loss: 102.7312 - val_loss: 104.7743\n"
          ],
          "name": "stdout"
        }
      ]
    },
    {
      "cell_type": "code",
      "metadata": {
        "id": "Cfw0Z56IqDvO",
        "colab_type": "code",
        "outputId": "c0c62b0e-6bd2-485f-8711-dcb1d212cdc0",
        "colab": {
          "base_uri": "https://localhost:8080/",
          "height": 706
        }
      },
      "source": [
        "hist_conv = vae_conv.fit(x=x_train_conv, y=x_train_conv,\n",
        "               shuffle=True,\n",
        "               epochs=epochs,\n",
        "               batch_size=batch_size,\n",
        "               validation_data=(x_test_conv, x_test_conv),\n",
        "               verbose=2)"
      ],
      "execution_count": 0,
      "outputs": [
        {
          "output_type": "stream",
          "text": [
            "Train on 60000 samples, validate on 10000 samples\n",
            "Epoch 1/20\n",
            " - 5s - loss: 170.9484 - val_loss: 144.0125\n",
            "Epoch 2/20\n",
            " - 4s - loss: 137.1612 - val_loss: 131.7223\n",
            "Epoch 3/20\n",
            " - 4s - loss: 126.5266 - val_loss: 121.8394\n",
            "Epoch 4/20\n",
            " - 4s - loss: 120.3990 - val_loss: 116.2351\n",
            "Epoch 5/20\n",
            " - 4s - loss: 116.6513 - val_loss: 115.5647\n",
            "Epoch 6/20\n",
            " - 4s - loss: 114.1845 - val_loss: 112.6354\n",
            "Epoch 7/20\n",
            " - 4s - loss: 112.4741 - val_loss: 110.2018\n",
            "Epoch 8/20\n",
            " - 4s - loss: 111.0140 - val_loss: 110.7527\n",
            "Epoch 9/20\n",
            " - 4s - loss: 109.9416 - val_loss: 108.9519\n",
            "Epoch 10/20\n",
            " - 4s - loss: 109.0383 - val_loss: 107.9690\n",
            "Epoch 11/20\n",
            " - 4s - loss: 108.2429 - val_loss: 107.2603\n",
            "Epoch 12/20\n",
            " - 3s - loss: 107.5876 - val_loss: 107.5954\n",
            "Epoch 13/20\n",
            " - 4s - loss: 107.0325 - val_loss: 106.4121\n",
            "Epoch 14/20\n",
            " - 4s - loss: 106.4678 - val_loss: 106.7121\n",
            "Epoch 15/20\n",
            " - 4s - loss: 106.0432 - val_loss: 105.5011\n",
            "Epoch 16/20\n",
            " - 3s - loss: 105.6660 - val_loss: 105.5600\n",
            "Epoch 17/20\n",
            " - 4s - loss: 105.3062 - val_loss: 105.5158\n",
            "Epoch 18/20\n",
            " - 4s - loss: 104.9660 - val_loss: 104.8120\n",
            "Epoch 19/20\n",
            " - 4s - loss: 104.6322 - val_loss: 104.4913\n",
            "Epoch 20/20\n",
            " - 4s - loss: 104.3814 - val_loss: 104.3961\n"
          ],
          "name": "stdout"
        }
      ]
    },
    {
      "cell_type": "markdown",
      "metadata": {
        "id": "FdjnEbpkOnMf",
        "colab_type": "text"
      },
      "source": [
        "### Visualize reconstructions for train and validation data\n",
        "In the picture below you can see the reconstruction ability of your network on training and validation data. In each of the two images, the left column is MNIST images and the right column is the corresponding image after passing through autoencoder (or more precisely the mean of the binomial distribution over the output images).\n",
        "\n",
        "Note that getting the best possible reconstruction is not the point of VAE, the KL term of the objective specifically hurts the reconstruction performance. But the reconstruction should be anyway reasonable and they provide a visual debugging tool."
      ]
    },
    {
      "cell_type": "code",
      "metadata": {
        "id": "sDAjZV_kOnMf",
        "colab_type": "code",
        "outputId": "0aad80ff-3d5d-4e9d-dcf3-8f1b2214ddeb",
        "colab": {
          "base_uri": "https://localhost:8080/",
          "height": 591
        }
      },
      "source": [
        "fig = plt.figure(figsize=(10, 10))\n",
        "for fid_idx, (data, title) in enumerate(\n",
        "            zip([x_train_dense, x_test_dense], ['Train', 'Validation'])):\n",
        "    n = 10  # figure with 10 x 2 digits\n",
        "    digit_size = 28\n",
        "    figure = np.zeros((digit_size * n, digit_size * 2))\n",
        "    decoded = sess.run(x_decoded_mean, feed_dict={x: data[:batch_size, :]})\n",
        "    for i in range(10):\n",
        "        figure[i * digit_size: (i + 1) * digit_size,\n",
        "               :digit_size] = data[i, :].reshape(digit_size, digit_size)\n",
        "        figure[i * digit_size: (i + 1) * digit_size,\n",
        "               digit_size:] = decoded[i, :].reshape(digit_size, digit_size)\n",
        "    ax = fig.add_subplot(1, 2, fid_idx + 1)\n",
        "    ax.imshow(figure, cmap='Greys_r')\n",
        "    ax.set_title(title)\n",
        "    ax.axis('off')\n",
        "plt.show()"
      ],
      "execution_count": 0,
      "outputs": [
        {
          "output_type": "display_data",
          "data": {
            "image/png": "[encoded data removed]",
            "text/plain": [
              "<Figure size 720x720 with 2 Axes>"
            ]
          },
          "metadata": {
            "tags": []
          }
        }
      ]
    },
    {
      "cell_type": "code",
      "metadata": {
        "id": "gQUKlDwlJLy3",
        "colab_type": "code",
        "outputId": "0c65bc69-3cd3-4c2c-d69d-39c4260b92ce",
        "colab": {
          "base_uri": "https://localhost:8080/",
          "height": 387
        }
      },
      "source": [
        "fig_conv = plt.figure(figsize=(10, 10))\n",
        "for fid_idx, (data, title) in enumerate(\n",
        "            zip([x_train_conv, x_test_conv], ['Train', 'Validation'])):\n",
        "    n = 10  # figure with 10 x 2 digits\n",
        "    digit_size = 28\n",
        "    figure = np.zeros((digit_size * n, digit_size * 2))\n",
        "    decoded = sess.run(x_decoded_mean_conv, feed_dict={x: data[:batch_size]})\n",
        "    for i in range(10):\n",
        "        figure[i * digit_size: (i + 1) * digit_size,\n",
        "               :digit_size] = data[i]\n",
        "        figure[i * digit_size: (i + 1) * digit_size,\n",
        "               digit_size:] = decoded[i].reshape(digit_size, digit_size)\n",
        "    ax = fig.add_subplot(1, 2, fid_idx + 1)\n",
        "    ax.imshow(figure, cmap='Greys_r')\n",
        "    ax.set_title(title)\n",
        "    ax.axis('off')\n",
        "plt.show()"
      ],
      "execution_count": 0,
      "outputs": [
        {
          "output_type": "error",
          "ename": "ValueError",
          "evalue": "ignored",
          "traceback": [
            "\u001b[0;31m---------------------------------------------------------------------------\u001b[0m",
            "\u001b[0;31mValueError\u001b[0m                                Traceback (most recent call last)",
            "\u001b[0;32m<ipython-input-80-17edc02f6945>\u001b[0m in \u001b[0;36m<module>\u001b[0;34m()\u001b[0m\n\u001b[1;32m      5\u001b[0m     \u001b[0mdigit_size\u001b[0m \u001b[0;34m=\u001b[0m \u001b[0;36m28\u001b[0m\u001b[0;34m\u001b[0m\u001b[0;34m\u001b[0m\u001b[0m\n\u001b[1;32m      6\u001b[0m     \u001b[0mfigure\u001b[0m \u001b[0;34m=\u001b[0m \u001b[0mnp\u001b[0m\u001b[0;34m.\u001b[0m\u001b[0mzeros\u001b[0m\u001b[0;34m(\u001b[0m\u001b[0;34m(\u001b[0m\u001b[0mdigit_size\u001b[0m \u001b[0;34m*\u001b[0m \u001b[0mn\u001b[0m\u001b[0;34m,\u001b[0m \u001b[0mdigit_size\u001b[0m \u001b[0;34m*\u001b[0m \u001b[0;36m2\u001b[0m\u001b[0;34m)\u001b[0m\u001b[0;34m)\u001b[0m\u001b[0;34m\u001b[0m\u001b[0;34m\u001b[0m\u001b[0m\n\u001b[0;32m----> 7\u001b[0;31m     \u001b[0mdecoded\u001b[0m \u001b[0;34m=\u001b[0m \u001b[0msess\u001b[0m\u001b[0;34m.\u001b[0m\u001b[0mrun\u001b[0m\u001b[0;34m(\u001b[0m\u001b[0mx_decoded_mean_conv\u001b[0m\u001b[0;34m,\u001b[0m \u001b[0mfeed_dict\u001b[0m\u001b[0;34m=\u001b[0m\u001b[0;34m{\u001b[0m\u001b[0mx\u001b[0m\u001b[0;34m:\u001b[0m \u001b[0mdata\u001b[0m\u001b[0;34m[\u001b[0m\u001b[0;34m:\u001b[0m\u001b[0mbatch_size\u001b[0m\u001b[0;34m]\u001b[0m\u001b[0;34m}\u001b[0m\u001b[0;34m)\u001b[0m\u001b[0;34m\u001b[0m\u001b[0;34m\u001b[0m\u001b[0m\n\u001b[0m\u001b[1;32m      8\u001b[0m     \u001b[0;32mfor\u001b[0m \u001b[0mi\u001b[0m \u001b[0;32min\u001b[0m \u001b[0mrange\u001b[0m\u001b[0;34m(\u001b[0m\u001b[0;36m10\u001b[0m\u001b[0;34m)\u001b[0m\u001b[0;34m:\u001b[0m\u001b[0;34m\u001b[0m\u001b[0;34m\u001b[0m\u001b[0m\n\u001b[1;32m      9\u001b[0m         figure[i * digit_size: (i + 1) * digit_size,\n",
            "\u001b[0;32m/usr/local/lib/python3.6/dist-packages/tensorflow_core/python/client/session.py\u001b[0m in \u001b[0;36mrun\u001b[0;34m(self, fetches, feed_dict, options, run_metadata)\u001b[0m\n\u001b[1;32m    954\u001b[0m     \u001b[0;32mtry\u001b[0m\u001b[0;34m:\u001b[0m\u001b[0;34m\u001b[0m\u001b[0;34m\u001b[0m\u001b[0m\n\u001b[1;32m    955\u001b[0m       result = self._run(None, fetches, feed_dict, options_ptr,\n\u001b[0;32m--> 956\u001b[0;31m                          run_metadata_ptr)\n\u001b[0m\u001b[1;32m    957\u001b[0m       \u001b[0;32mif\u001b[0m \u001b[0mrun_metadata\u001b[0m\u001b[0;34m:\u001b[0m\u001b[0;34m\u001b[0m\u001b[0;34m\u001b[0m\u001b[0m\n\u001b[1;32m    958\u001b[0m         \u001b[0mproto_data\u001b[0m \u001b[0;34m=\u001b[0m \u001b[0mtf_session\u001b[0m\u001b[0;34m.\u001b[0m\u001b[0mTF_GetBuffer\u001b[0m\u001b[0;34m(\u001b[0m\u001b[0mrun_metadata_ptr\u001b[0m\u001b[0;34m)\u001b[0m\u001b[0;34m\u001b[0m\u001b[0;34m\u001b[0m\u001b[0m\n",
            "\u001b[0;32m/usr/local/lib/python3.6/dist-packages/tensorflow_core/python/client/session.py\u001b[0m in \u001b[0;36m_run\u001b[0;34m(self, handle, fetches, feed_dict, options, run_metadata)\u001b[0m\n\u001b[1;32m   1154\u001b[0m                 \u001b[0;34m'Cannot feed value of shape %r for Tensor %r, '\u001b[0m\u001b[0;34m\u001b[0m\u001b[0;34m\u001b[0m\u001b[0m\n\u001b[1;32m   1155\u001b[0m                 \u001b[0;34m'which has shape %r'\u001b[0m \u001b[0;34m%\u001b[0m\u001b[0;34m\u001b[0m\u001b[0;34m\u001b[0m\u001b[0m\n\u001b[0;32m-> 1156\u001b[0;31m                 (np_val.shape, subfeed_t.name, str(subfeed_t.get_shape())))\n\u001b[0m\u001b[1;32m   1157\u001b[0m           \u001b[0;32mif\u001b[0m \u001b[0;32mnot\u001b[0m \u001b[0mself\u001b[0m\u001b[0;34m.\u001b[0m\u001b[0mgraph\u001b[0m\u001b[0;34m.\u001b[0m\u001b[0mis_feedable\u001b[0m\u001b[0;34m(\u001b[0m\u001b[0msubfeed_t\u001b[0m\u001b[0;34m)\u001b[0m\u001b[0;34m:\u001b[0m\u001b[0;34m\u001b[0m\u001b[0;34m\u001b[0m\u001b[0m\n\u001b[1;32m   1158\u001b[0m             \u001b[0;32mraise\u001b[0m \u001b[0mValueError\u001b[0m\u001b[0;34m(\u001b[0m\u001b[0;34m'Tensor %s may not be fed.'\u001b[0m \u001b[0;34m%\u001b[0m \u001b[0msubfeed_t\u001b[0m\u001b[0;34m)\u001b[0m\u001b[0;34m\u001b[0m\u001b[0;34m\u001b[0m\u001b[0m\n",
            "\u001b[0;31mValueError\u001b[0m: Cannot feed value of shape (100, 28, 28, 1) for Tensor 'input_99:0', which has shape '(100, 784)'"
          ]
        },
        {
          "output_type": "display_data",
          "data": {
            "text/plain": [
              "<Figure size 720x720 with 0 Axes>"
            ]
          },
          "metadata": {
            "tags": []
          }
        }
      ]
    },
    {
      "cell_type": "markdown",
      "metadata": {
        "collapsed": true,
        "id": "95lpEe2cOnMi",
        "colab_type": "text"
      },
      "source": [
        "### Sending the results of your best model as Task 3 submission"
      ]
    },
    {
      "cell_type": "code",
      "metadata": {
        "id": "KudUfupuOnMi",
        "colab_type": "code",
        "outputId": "9e8afd6f-c432-4cc4-ae0b-bfe523d9c313",
        "colab": {
          "base_uri": "https://localhost:8080/",
          "height": 34
        }
      },
      "source": [
        "grader.submit_best_val_loss(hist_conv)"
      ],
      "execution_count": 0,
      "outputs": [
        {
          "output_type": "stream",
          "text": [
            "Current answer for task 3 (best val loss) is: 113.8767520904541\n"
          ],
          "name": "stdout"
        }
      ]
    },
    {
      "cell_type": "markdown",
      "metadata": {
        "id": "WEclzA3WOnMk",
        "colab_type": "text"
      },
      "source": [
        "## Hallucinating new data\n",
        "**Task 4** Write code to generate new samples of images from your trained VAE. To do that you have to sample from the prior distribution $p(t)$ and then from the likelihood $p(x \\mid t)$.\n",
        "\n",
        "**Note** that the sampling you've written in Task 2 was for the variational distribution $q(t \\mid x)$, while here you need to sample from the prior."
      ]
    },
    {
      "cell_type": "code",
      "metadata": {
        "id": "jGLqzZD4OnMm",
        "colab_type": "code",
        "colab": {}
      },
      "source": [
        "n_samples = 10  # To pass automatic grading please use at least 2 samples here.\n",
        "# YOUR CODE HERE.\n",
        "\n",
        "# sampled_im_mean is a tf.Tensor of size 10 x 784 with 10 random\n",
        "# images sampled from the vae model.\n",
        "prior_t = tfd.MultivariateNormalDiag(loc=tf.zeros([n_samples,latent_dim]))\n",
        "sample_t = prior_t.sample()\n",
        "# print(sess.run(sample_t))\n",
        "sampled_im_mean = decoder(sample_t)"
      ],
      "execution_count": 0,
      "outputs": []
    },
    {
      "cell_type": "code",
      "metadata": {
        "id": "1Lzh_yW0OnMo",
        "colab_type": "code",
        "outputId": "5286abbe-36ad-42ba-a699-b7ac9a609a35",
        "colab": {
          "base_uri": "https://localhost:8080/",
          "height": 165
        }
      },
      "source": [
        "sampled_im_mean_np = sess.run(sampled_im_mean)\n",
        "# Show the sampled images.\n",
        "plt.figure()\n",
        "for i in range(n_samples):\n",
        "    ax = plt.subplot(n_samples // 5 + 1 , 5, i + 1)\n",
        "    plt.imshow(sampled_im_mean_np[i, :].reshape(28, 28), cmap='gray')\n",
        "    ax.axis('off')\n",
        "plt.show()"
      ],
      "execution_count": 0,
      "outputs": [
        {
          "output_type": "display_data",
          "data": {
            "image/png": "[encoded data removed]",
            "text/plain": [
              "<Figure size 432x288 with 10 Axes>"
            ]
          },
          "metadata": {
            "tags": []
          }
        }
      ]
    },
    {
      "cell_type": "code",
      "metadata": {
        "id": "6bqdpVNUOnMq",
        "colab_type": "code",
        "outputId": "66dbed54-3306-4bfb-acc6-9bd36fbb1cde",
        "colab": {
          "base_uri": "https://localhost:8080/",
          "height": 50
        }
      },
      "source": [
        "grader.submit_hallucinating(sess, sampled_im_mean)"
      ],
      "execution_count": 0,
      "outputs": [
        {
          "output_type": "stream",
          "text": [
            "Current answer for task 4.1 (hallucinating mean) is: 0.13873906\n",
            "Current answer for task 4.2 (hallucinating var) is: 0.107835814\n"
          ],
          "name": "stdout"
        }
      ]
    },
    {
      "cell_type": "markdown",
      "metadata": {
        "id": "VMuhWEYBOnMt",
        "colab_type": "text"
      },
      "source": [
        "# Conditional VAE"
      ]
    },
    {
      "cell_type": "markdown",
      "metadata": {
        "id": "ly1YYFktOnMu",
        "colab_type": "text"
      },
      "source": [
        "In the final task, you will modify your code to obtain Conditional Variational Autoencoder [1]. The idea is very simple: to be able to control the samples you generate, we condition all the distributions on some additional information. In our case, this additional information will be the class label (the digit on the image, from 0 to 9).\n",
        "\n",
        "![](https://github.com/hse-aml/bayesian-methods-for-ml/blob/master/week5/CVAE.png?raw=1)\n",
        "\n",
        "So now both the likelihood and the variational distributions are conditioned on the class label: $p(x \\mid t, \\text{label}, w)$, $q(t \\mid x, \\text{label}, \\phi)$.\n",
        "\n",
        "The only thing you have to change in your code is to concatenate input image $x$ with (one-hot) label of this image to pass into the encoder $q$ and to concatenate latent code $t$ with the same label to pass into the decoder $p$. Note that it's slightly harder to do with convolutional encoder/decoder model.\n",
        "\n",
        "[1] Sohn, Kihyuk, Honglak Lee, and Xinchen Yan. “Learning Structured Output Representation using Deep Conditional Generative Models.” Advances in Neural Information Processing Systems. 2015."
      ]
    },
    {
      "cell_type": "markdown",
      "metadata": {
        "id": "o6nvfNt0OnMv",
        "colab_type": "text"
      },
      "source": [
        "## Final task"
      ]
    },
    {
      "cell_type": "markdown",
      "metadata": {
        "id": "Tbk2ICH-OnMw",
        "colab_type": "text"
      },
      "source": [
        "**Task 5.1** Implement CVAE model. You may reuse ```create_encoder``` and ```create_decoder``` modules defined previously (now you can see why they accept the input size as an argument ;) ). You may also need `concatenate` Keras layer to concatenate labels with input data and latent code.\n",
        "\n",
        "To finish this task, you should go to `Conditionally hallucinate data` section and find there Task 5.2"
      ]
    },
    {
      "cell_type": "code",
      "metadata": {
        "id": "BxgJjuAhOnMw",
        "colab_type": "code",
        "colab": {}
      },
      "source": [
        "# One-hot labels placeholder.\n",
        "x = Input(batch_shape=(batch_size, original_dim))\n",
        "label = Input(batch_shape=(batch_size, 10))\n",
        "\n",
        "# YOUR CODE HERE.\n",
        "x_label = concatenate([x, label])\n",
        "\n",
        "cond_encoder = create_encoder(original_dim + 10)\n",
        "\n",
        "h = cond_encoder(x_label)\n",
        "\n",
        "cond_t_mean = get_t_mean(h) # Mean of the latent code (without label) for cvae model.\n",
        "cond_t_log_var = get_t_log_var(h) # Logarithm of the variance of the latent code (without label) for cvae model.\n",
        "\n",
        "t = Lambda(sampling)([cond_t_mean, cond_t_log_var])\n",
        "t_label = concatenate([t, label])\n",
        "\n",
        "cond_decoder = create_decoder(latent_dim + 10)\n",
        "\n",
        "cond_x_decoded_mean = cond_decoder(t_label) # Final output of the cvae model."
      ],
      "execution_count": 0,
      "outputs": []
    },
    {
      "cell_type": "markdown",
      "metadata": {
        "id": "I49rDcnrOnMy",
        "colab_type": "text"
      },
      "source": [
        "## Define the loss and the model"
      ]
    },
    {
      "cell_type": "code",
      "metadata": {
        "id": "Y1NvnF9yOnMz",
        "colab_type": "code",
        "colab": {}
      },
      "source": [
        "conditional_loss = vlb_binomial(x, cond_x_decoded_mean, cond_t_mean, cond_t_log_var)\n",
        "cvae = Model([x, label], cond_x_decoded_mean)\n",
        "cvae.compile(optimizer=keras.optimizers.RMSprop(lr=0.001), loss=lambda x, y: conditional_loss)"
      ],
      "execution_count": 0,
      "outputs": []
    },
    {
      "cell_type": "markdown",
      "metadata": {
        "id": "S9Jy93oNOnM0",
        "colab_type": "text"
      },
      "source": [
        "### Train the model"
      ]
    },
    {
      "cell_type": "code",
      "metadata": {
        "id": "Hz9X7fVNOnM0",
        "colab_type": "code",
        "outputId": "93ae7452-384d-470a-ab1e-05292dcd2569",
        "colab": {
          "base_uri": "https://localhost:8080/",
          "height": 706
        }
      },
      "source": [
        "hist = cvae.fit(x=[x_train_dense, y_train_dense],\n",
        "                y=x_train_dense,\n",
        "                shuffle=True,\n",
        "                epochs=epochs,\n",
        "                batch_size=batch_size,\n",
        "                validation_data=([x_test_dense, y_test_dense], x_test_dense),\n",
        "                verbose=2)"
      ],
      "execution_count": 0,
      "outputs": [
        {
          "output_type": "stream",
          "text": [
            "Train on 60000 samples, validate on 10000 samples\n",
            "Epoch 1/20\n",
            " - 3s - loss: 150.1256 - val_loss: 124.3986\n",
            "Epoch 2/20\n",
            " - 2s - loss: 120.3481 - val_loss: 115.7508\n",
            "Epoch 3/20\n",
            " - 2s - loss: 113.2147 - val_loss: 110.2292\n",
            "Epoch 4/20\n",
            " - 3s - loss: 109.5379 - val_loss: 107.2028\n",
            "Epoch 5/20\n",
            " - 2s - loss: 107.2356 - val_loss: 105.8587\n",
            "Epoch 6/20\n",
            " - 2s - loss: 105.5938 - val_loss: 105.5513\n",
            "Epoch 7/20\n",
            " - 2s - loss: 104.3451 - val_loss: 104.2723\n",
            "Epoch 8/20\n",
            " - 2s - loss: 103.3413 - val_loss: 103.4911\n",
            "Epoch 9/20\n",
            " - 2s - loss: 102.4838 - val_loss: 102.3189\n",
            "Epoch 10/20\n",
            " - 2s - loss: 101.7746 - val_loss: 101.5859\n",
            "Epoch 11/20\n",
            " - 2s - loss: 101.2197 - val_loss: 101.8017\n",
            "Epoch 12/20\n",
            " - 3s - loss: 100.6640 - val_loss: 101.5456\n",
            "Epoch 13/20\n",
            " - 2s - loss: 100.2328 - val_loss: 101.4233\n",
            "Epoch 14/20\n",
            " - 2s - loss: 99.8326 - val_loss: 100.4043\n",
            "Epoch 15/20\n",
            " - 3s - loss: 99.4778 - val_loss: 99.8749\n",
            "Epoch 16/20\n",
            " - 2s - loss: 99.1425 - val_loss: 100.8770\n",
            "Epoch 17/20\n",
            " - 2s - loss: 98.8883 - val_loss: 100.7386\n",
            "Epoch 18/20\n",
            " - 2s - loss: 98.6381 - val_loss: 100.7168\n",
            "Epoch 19/20\n",
            " - 2s - loss: 98.3722 - val_loss: 99.4037\n",
            "Epoch 20/20\n",
            " - 2s - loss: 98.1689 - val_loss: 99.7788\n"
          ],
          "name": "stdout"
        }
      ]
    },
    {
      "cell_type": "markdown",
      "metadata": {
        "id": "vweB4rkDOnM5",
        "colab_type": "text"
      },
      "source": [
        "### Visualize reconstructions for train and validation data"
      ]
    },
    {
      "cell_type": "code",
      "metadata": {
        "id": "c2KreOnWOnM6",
        "colab_type": "code",
        "outputId": "d7f5c51f-ecbc-4eb8-f336-dde1e85c9b34",
        "colab": {
          "base_uri": "https://localhost:8080/",
          "height": 591
        }
      },
      "source": [
        "fig = plt.figure(figsize=(10, 10))\n",
        "for fid_idx, (x_data, y_data, title) in enumerate(\n",
        "            zip([x_train_dense, x_test_dense], [y_train_dense, y_test_dense], ['Train', 'Validation'])):\n",
        "    n = 10  # figure with 10 x 2 digits\n",
        "    digit_size = 28\n",
        "    figure = np.zeros((digit_size * n, digit_size * 2))\n",
        "    decoded = sess.run(cond_x_decoded_mean,\n",
        "                       feed_dict={x: x_data[:batch_size, :],\n",
        "                                  label: y_data[:batch_size, :]})\n",
        "    for i in range(10):\n",
        "        figure[i * digit_size: (i + 1) * digit_size,\n",
        "               :digit_size] = x_data[i, :].reshape(digit_size, digit_size)\n",
        "        figure[i * digit_size: (i + 1) * digit_size,\n",
        "               digit_size:] = decoded[i, :].reshape(digit_size, digit_size)\n",
        "    ax = fig.add_subplot(1, 2, fid_idx + 1)\n",
        "    ax.imshow(figure, cmap='Greys_r')\n",
        "    ax.set_title(title)\n",
        "    ax.axis('off')\n",
        "plt.show()"
      ],
      "execution_count": 0,
      "outputs": [
        {
          "output_type": "display_data",
          "data": {
            "image/png": "[encoded data removed]",
            "text/plain": [
              "<Figure size 720x720 with 2 Axes>"
            ]
          },
          "metadata": {
            "tags": []
          }
        }
      ]
    },
    {
      "cell_type": "markdown",
      "metadata": {
        "id": "qYZ0_FiQOnM8",
        "colab_type": "text"
      },
      "source": [
        "## Conditionally hallucinate data\n",
        "**Task 5.2** Implement the conditional sampling from the distribution $p(x \\mid t, \\text{label})$ by firstly sampling from the prior $p(t)$ and then sampling from the likelihood $p(x \\mid t, \\text{label})$."
      ]
    },
    {
      "cell_type": "code",
      "metadata": {
        "id": "5f6pIbveOnM-",
        "colab_type": "code",
        "outputId": "317f0c42-58dc-4807-91bb-0fe64c077570",
        "colab": {
          "base_uri": "https://localhost:8080/",
          "height": 1000
        }
      },
      "source": [
        "n_samples = 20\n",
        "# Prepare one hot labels of form\n",
        "#   0 0 0 0 0 1 1 1 1 1 2 2 2 2 2 ...\n",
        "# to sample five zeros, five ones, etc\n",
        "curr_labels = np.eye(10)\n",
        "curr_labels = np.repeat(curr_labels, n_samples // 10, axis=0)  # Its shape is 50 x 10.\n",
        "# print(curr_labels)\n",
        "# YOUR CODE HERE.\n",
        "# ...\n",
        "# cond_sampled_im_mean is a tf.Tensor of size 50 x 784 with 5 random zeros,\n",
        "# then 5 random ones, etc sampled from the cvae model.\n",
        "# cond_sampled_im_mean = \n",
        "prior_t = tfd.MultivariateNormalDiag(loc=tf.zeros([n_samples,latent_dim]))\n",
        "sample_t = prior_t.sample()\n",
        "sample_t_label = tf.concat([sample_t, curr_labels],axis=-1)\n",
        "print(sess.run(sample_t_label))\n",
        "cond_sampled_im_mean = cond_decoder(sample_t_label)"
      ],
      "execution_count": 0,
      "outputs": [
        {
          "output_type": "stream",
          "text": [
            "[[ 1.5056736   0.12010657 -1.4199903  -0.10526315  0.44131663  2.043138\n",
            "   0.5251358  -1.1824924   0.25637257  0.90660703  1.          0.\n",
            "   0.          0.          0.          0.          0.          0.\n",
            "   0.          0.        ]\n",
            " [-1.4638103  -0.07130107  0.55611897  0.93502116  0.445189   -0.3435251\n",
            "   0.9156307  -0.8569715   0.7934685   1.3802345   1.          0.\n",
            "   0.          0.          0.          0.          0.          0.\n",
            "   0.          0.        ]\n",
            " [ 0.3210632  -1.3427982  -1.1808075   0.3140964   0.65188956  0.50265557\n",
            "   0.17253415  0.19379136 -0.43421912 -0.5429005   0.          1.\n",
            "   0.          0.          0.          0.          0.          0.\n",
            "   0.          0.        ]\n",
            " [-1.5384252  -1.4509459   0.5902274  -1.4521512  -0.9811215   0.4166967\n",
            "   0.7022445   0.2685757  -1.1132416  -1.1588589   0.          1.\n",
            "   0.          0.          0.          0.          0.          0.\n",
            "   0.          0.        ]\n",
            " [-0.9719516   0.8333836   0.1542716  -1.3302513  -0.21010391  0.6247284\n",
            "  -1.2852672   1.4029766  -0.07117558 -0.8882317   0.          0.\n",
            "   1.          0.          0.          0.          0.          0.\n",
            "   0.          0.        ]\n",
            " [ 0.2268027  -0.54496914 -1.0435191   0.12509683  0.50333744 -0.44890693\n",
            "  -1.3930745   0.03014662  0.8691014  -0.8102011   0.          0.\n",
            "   1.          0.          0.          0.          0.          0.\n",
            "   0.          0.        ]\n",
            " [ 0.00889599 -1.4524724   0.67451024 -0.95168585  0.9545876  -0.69078636\n",
            "  -1.6110845   0.13018373  0.5203461  -0.9342896   0.          0.\n",
            "   0.          1.          0.          0.          0.          0.\n",
            "   0.          0.        ]\n",
            " [-1.0302306   2.1104126  -0.06960284  1.4500369  -0.63917774 -0.5625597\n",
            "   0.35815784 -1.1478723   1.2565753   1.3178544   0.          0.\n",
            "   0.          1.          0.          0.          0.          0.\n",
            "   0.          0.        ]\n",
            " [ 0.15991825 -0.54308635  0.4579398  -1.2751722  -0.3333973   0.05858124\n",
            "  -0.4564514  -2.2313673  -0.6287938  -1.0097575   0.          0.\n",
            "   0.          0.          1.          0.          0.          0.\n",
            "   0.          0.        ]\n",
            " [ 0.38506424  0.4577241  -0.955351   -0.09439862 -0.6894176   2.1489062\n",
            "  -0.9173916  -0.28071037  0.5561756   0.19423665  0.          0.\n",
            "   0.          0.          1.          0.          0.          0.\n",
            "   0.          0.        ]\n",
            " [ 0.677403    2.7041383  -0.11145802  0.46895456 -0.22327195 -1.5013738\n",
            "   0.918904   -0.5852732  -0.26903662  0.7460422   0.          0.\n",
            "   0.          0.          0.          1.          0.          0.\n",
            "   0.          0.        ]\n",
            " [ 1.7273029   0.07562147 -0.6082758  -0.44924292  0.479662   -1.5248073\n",
            "  -0.5778905  -1.9059137   2.2143989  -1.9251132   0.          0.\n",
            "   0.          0.          0.          1.          0.          0.\n",
            "   0.          0.        ]\n",
            " [-2.2562563   0.61175275 -0.56264424  1.5226743   0.25267953  0.55226123\n",
            "  -1.3067945  -1.7590214   1.6721864   1.8341523   0.          0.\n",
            "   0.          0.          0.          0.          1.          0.\n",
            "   0.          0.        ]\n",
            " [-0.96141857 -1.3528514   0.15335327 -1.1473426  -1.6805767  -1.5987806\n",
            "  -0.31811753  0.28162932  2.6658762   1.0179595   0.          0.\n",
            "   0.          0.          0.          0.          1.          0.\n",
            "   0.          0.        ]\n",
            " [ 0.671974   -0.3882505  -0.53814656 -1.2697335   0.33988246  1.2608413\n",
            "  -0.1439984   0.4834709   0.38667193  0.2653626   0.          0.\n",
            "   0.          0.          0.          0.          0.          1.\n",
            "   0.          0.        ]\n",
            " [-0.5104118  -1.0584275  -1.714065   -1.9882852   1.1862632  -1.7814075\n",
            "  -0.24317095 -0.23797117 -0.19988121  1.183899    0.          0.\n",
            "   0.          0.          0.          0.          0.          1.\n",
            "   0.          0.        ]\n",
            " [ 0.365231   -0.06647166  1.4851265   0.32045475 -0.06576556  0.8463322\n",
            "  -0.02859156 -1.0465845  -1.0940578   0.6028516   0.          0.\n",
            "   0.          0.          0.          0.          0.          0.\n",
            "   1.          0.        ]\n",
            " [-0.15441194  0.7178755   0.41445413  1.446772   -0.11888605  0.28864536\n",
            "   0.52325165  1.3076339  -1.8152695   0.09121183  0.          0.\n",
            "   0.          0.          0.          0.          0.          0.\n",
            "   1.          0.        ]\n",
            " [ 1.0834429   1.1751964   0.10895246 -0.8164344   0.8441421   0.30796975\n",
            "  -0.78789306 -0.547062    0.03951863  0.25675508  0.          0.\n",
            "   0.          0.          0.          0.          0.          0.\n",
            "   0.          1.        ]\n",
            " [ 0.8713942   1.4911156  -0.13874431 -0.2648431  -0.98234695  0.67633176\n",
            "  -0.489385    0.95226306 -0.79742926 -1.016807    0.          0.\n",
            "   0.          0.          0.          0.          0.          0.\n",
            "   0.          1.        ]]\n"
          ],
          "name": "stdout"
        }
      ]
    },
    {
      "cell_type": "code",
      "metadata": {
        "id": "S9DKAL2xOnNA",
        "colab_type": "code",
        "outputId": "9e03229b-6d7f-477c-ccd8-f6713b43ebe2",
        "colab": {
          "base_uri": "https://localhost:8080/",
          "height": 527
        }
      },
      "source": [
        "cond_sampled_im_mean_np = sess.run(cond_sampled_im_mean)\n",
        "# Show the sampled images.\n",
        "plt.figure(figsize=(10, 10))\n",
        "global_idx = 0\n",
        "for digit in range(10):\n",
        "    for _ in range(5):\n",
        "        ax = plt.subplot(10, 5, global_idx + 1)\n",
        "        plt.imshow(cond_sampled_im_mean_np[global_idx, :].reshape(28, 28), cmap='gray')\n",
        "        ax.axis('off')\n",
        "        global_idx += 1\n",
        "plt.show()"
      ],
      "execution_count": 0,
      "outputs": [
        {
          "output_type": "error",
          "ename": "IndexError",
          "evalue": "ignored",
          "traceback": [
            "\u001b[0;31m---------------------------------------------------------------------------\u001b[0m",
            "\u001b[0;31mIndexError\u001b[0m                                Traceback (most recent call last)",
            "\u001b[0;32m<ipython-input-51-4792b2157545>\u001b[0m in \u001b[0;36m<module>\u001b[0;34m()\u001b[0m\n\u001b[1;32m      6\u001b[0m     \u001b[0;32mfor\u001b[0m \u001b[0m_\u001b[0m \u001b[0;32min\u001b[0m \u001b[0mrange\u001b[0m\u001b[0;34m(\u001b[0m\u001b[0;36m5\u001b[0m\u001b[0;34m)\u001b[0m\u001b[0;34m:\u001b[0m\u001b[0;34m\u001b[0m\u001b[0;34m\u001b[0m\u001b[0m\n\u001b[1;32m      7\u001b[0m         \u001b[0max\u001b[0m \u001b[0;34m=\u001b[0m \u001b[0mplt\u001b[0m\u001b[0;34m.\u001b[0m\u001b[0msubplot\u001b[0m\u001b[0;34m(\u001b[0m\u001b[0;36m10\u001b[0m\u001b[0;34m,\u001b[0m \u001b[0;36m5\u001b[0m\u001b[0;34m,\u001b[0m \u001b[0mglobal_idx\u001b[0m \u001b[0;34m+\u001b[0m \u001b[0;36m1\u001b[0m\u001b[0;34m)\u001b[0m\u001b[0;34m\u001b[0m\u001b[0;34m\u001b[0m\u001b[0m\n\u001b[0;32m----> 8\u001b[0;31m         \u001b[0mplt\u001b[0m\u001b[0;34m.\u001b[0m\u001b[0mimshow\u001b[0m\u001b[0;34m(\u001b[0m\u001b[0mcond_sampled_im_mean_np\u001b[0m\u001b[0;34m[\u001b[0m\u001b[0mglobal_idx\u001b[0m\u001b[0;34m,\u001b[0m \u001b[0;34m:\u001b[0m\u001b[0;34m]\u001b[0m\u001b[0;34m.\u001b[0m\u001b[0mreshape\u001b[0m\u001b[0;34m(\u001b[0m\u001b[0;36m28\u001b[0m\u001b[0;34m,\u001b[0m \u001b[0;36m28\u001b[0m\u001b[0;34m)\u001b[0m\u001b[0;34m,\u001b[0m \u001b[0mcmap\u001b[0m\u001b[0;34m=\u001b[0m\u001b[0;34m'gray'\u001b[0m\u001b[0;34m)\u001b[0m\u001b[0;34m\u001b[0m\u001b[0;34m\u001b[0m\u001b[0m\n\u001b[0m\u001b[1;32m      9\u001b[0m         \u001b[0max\u001b[0m\u001b[0;34m.\u001b[0m\u001b[0maxis\u001b[0m\u001b[0;34m(\u001b[0m\u001b[0;34m'off'\u001b[0m\u001b[0;34m)\u001b[0m\u001b[0;34m\u001b[0m\u001b[0;34m\u001b[0m\u001b[0m\n\u001b[1;32m     10\u001b[0m         \u001b[0mglobal_idx\u001b[0m \u001b[0;34m+=\u001b[0m \u001b[0;36m1\u001b[0m\u001b[0;34m\u001b[0m\u001b[0;34m\u001b[0m\u001b[0m\n",
            "\u001b[0;31mIndexError\u001b[0m: index 20 is out of bounds for axis 0 with size 20"
          ]
        },
        {
          "output_type": "display_data",
          "data": {
            "image/png": "[encoded data removed]",
            "text/plain": [
              "<Figure size 720x720 with 21 Axes>"
            ]
          },
          "metadata": {
            "tags": []
          }
        }
      ]
    },
    {
      "cell_type": "code",
      "metadata": {
        "id": "qyz9NleMOnNC",
        "colab_type": "code",
        "outputId": "3dab7ce5-5fe0-41c2-bcd1-dc4d8f289925",
        "colab": {
          "base_uri": "https://localhost:8080/",
          "height": 50
        }
      },
      "source": [
        "# Submit Task 5 (both 5.1 and 5.2).\n",
        "grader.submit_conditional_hallucinating(sess, cond_sampled_im_mean)"
      ],
      "execution_count": 0,
      "outputs": [
        {
          "output_type": "stream",
          "text": [
            "Current answer for task 5.1 (conditional hallucinating mean) is: 0.07860522322393809\n",
            "Current answer for task 5.2 (conditional hallucinating var) is: 0.035651211880399\n"
          ],
          "name": "stdout"
        }
      ]
    },
    {
      "cell_type": "markdown",
      "metadata": {
        "id": "zMoVsQogOnNF",
        "colab_type": "text"
      },
      "source": [
        "# Authorization & Submission\n",
        "To submit assignment parts to Cousera platform, please, enter your e-mail and token into variables below. You can generate a token on this programming assignment's page. <b>Note:</b> The token expires 30 minutes after generation."
      ]
    },
    {
      "cell_type": "code",
      "metadata": {
        "id": "Pz5iFHZoOnNG",
        "colab_type": "code",
        "outputId": "2deec4a0-6caf-44e8-cda0-dfec600e2529",
        "colab": {
          "base_uri": "https://localhost:8080/",
          "height": 168
        }
      },
      "source": [
        "STUDENT_EMAIL =  'kleinekrokodil@yandex.ru' # EMAIL HERE\n",
        "STUDENT_TOKEN =  'qJdfqBRVQCE85JFf' # TOKEN HERE\n",
        "grader.status()"
      ],
      "execution_count": 0,
      "outputs": [
        {
          "output_type": "stream",
          "text": [
            "You want to submit these numbers:\n",
            "Task 1 (vlb): 157.59705\n",
            "Task 2.1 (samples mean): -0.11856712\n",
            "Task 2.2 (samples var): 0.036918394\n",
            "Task 3 (best val loss): 113.8767520904541\n",
            "Task 4.1 (hallucinating mean): 0.13873906\n",
            "Task 4.2 (hallucinating var): 0.107835814\n",
            "Task 5.1 (conditional hallucinating mean): 0.07860522322393809\n",
            "Task 5.2 (conditional hallucinating var): 0.035651211880399\n"
          ],
          "name": "stdout"
        }
      ]
    },
    {
      "cell_type": "code",
      "metadata": {
        "id": "dPjLc1JpOnNL",
        "colab_type": "code",
        "outputId": "f053f58a-80cb-4b6a-9b18-1a065eabb347",
        "colab": {
          "base_uri": "https://localhost:8080/",
          "height": 34
        }
      },
      "source": [
        "grader.submit(STUDENT_EMAIL, STUDENT_TOKEN)"
      ],
      "execution_count": 0,
      "outputs": [
        {
          "output_type": "stream",
          "text": [
            "Submitted to Coursera platform. See results on assignment page!\n"
          ],
          "name": "stdout"
        }
      ]
    },
    {
      "cell_type": "markdown",
      "metadata": {
        "id": "0GPFxR6cOnNV",
        "colab_type": "text"
      },
      "source": [
        "# Playtime (UNGRADED)\n",
        "Once you passed all the tests, modify the code above to work with the mixture of Gaussian distributions (in contrast to the mixture of Binomial distributions), and redo the experiments with CIFAR-10 dataset, which are full-color natural images with much more diverse structure."
      ]
    },
    {
      "cell_type": "code",
      "metadata": {
        "id": "W-Gv4MoqOnNW",
        "colab_type": "code",
        "outputId": "cbfdaa16-9b8a-4ea6-ac8a-25814b879c29",
        "colab": {
          "base_uri": "https://localhost:8080/",
          "height": 50
        }
      },
      "source": [
        "from keras.datasets import cifar10\n",
        "(x_train, y_train), (x_test, y_test) = cifar10.load_data()"
      ],
      "execution_count": 0,
      "outputs": [
        {
          "output_type": "stream",
          "text": [
            "Downloading data from https://www.cs.toronto.edu/~kriz/cifar-10-python.tar.gz\n",
            "170500096/170498071 [==============================] - 4s 0us/step\n"
          ],
          "name": "stdout"
        }
      ]
    },
    {
      "cell_type": "code",
      "metadata": {
        "id": "YlMJkjGcOnNa",
        "colab_type": "code",
        "outputId": "1b6384b3-d5df-4044-dc73-985da8b50efa",
        "colab": {
          "base_uri": "https://localhost:8080/",
          "height": 283
        }
      },
      "source": [
        "k = 13\n",
        "plt.imshow(x_test[k])\n",
        "print(y_test[k])\n",
        "plt.show()"
      ],
      "execution_count": 0,
      "outputs": [
        {
          "output_type": "stream",
          "text": [
            "[7]\n"
          ],
          "name": "stdout"
        },
        {
          "output_type": "display_data",
          "data": {
            "image/png": "[encoded data removed]",
            "text/plain": [
              "<Figure size 432x288 with 1 Axes>"
            ]
          },
          "metadata": {
            "tags": []
          }
        }
      ]
    },
    {
      "cell_type": "code",
      "metadata": {
        "id": "owJMLFKkZSYl",
        "colab_type": "code",
        "colab": {}
      },
      "source": [
        "# horse_indices \n",
        "x_train_horses = x_train[None,7]\n",
        "x_test_horses = x_test[None,13]\n",
        "\n",
        "for i in range(8,len(y_train)):\n",
        "    if y_train[i] == 7:\n",
        "      x_train_horses = np.append(x_train_horses,x_train[None,i],axis=0)\n",
        "\n",
        "for i in range(14,len(y_test)):\n",
        "    if y_test[i] == 7:\n",
        "      x_test_horses = np.append(x_test_horses,x_test[None,i],axis=0)"
      ],
      "execution_count": 0,
      "outputs": []
    },
    {
      "cell_type": "code",
      "metadata": {
        "id": "yMMpvKvRelte",
        "colab_type": "code",
        "outputId": "30c08149-6b54-4c90-a39e-eedc37958860",
        "colab": {
          "base_uri": "https://localhost:8080/",
          "height": 283
        }
      },
      "source": [
        "k = 15\n",
        "plt.imshow(x_test_horses[k])\n",
        "plt.show()\n",
        "x_test_horses.shape"
      ],
      "execution_count": 0,
      "outputs": [
        {
          "output_type": "display_data",
          "data": {
            "image/png": "[encoded data removed]",
            "text/plain": [
              "<Figure size 432x288 with 1 Axes>"
            ]
          },
          "metadata": {
            "tags": []
          }
        },
        {
          "output_type": "execute_result",
          "data": {
            "text/plain": [
              "(1000, 32, 32, 3)"
            ]
          },
          "metadata": {
            "tags": []
          },
          "execution_count": 77
        }
      ]
    },
    {
      "cell_type": "code",
      "metadata": {
        "id": "q98v82S7OnNd",
        "colab_type": "code",
        "colab": {}
      },
      "source": [
        "def vlb_gaussian(x, x_decoded_mean, x_decoded_log_var, t_mean, t_log_var):\n",
        "    \"\"\"Returns the value of negative Variational Lower Bound\n",
        "    \n",
        "    The inputs are tf.Tensor\n",
        "        x: (batch_size x number_of_pixels_height x number_of_pixels_width x number_of_channels) matrix with one image per row with flatten channels (x_ijk)\n",
        "        x_decoded_mean: (batch_size x number_of_pixels_height x number_of_pixels_width x number_of_channels) mean of the distribution p(x | t), real numbers from 0 to 1 (x_decoded_mean_ijk)\n",
        "        x_decoded_log_var: (batch_size x number_of_pixels_height x number_of_pixels_width x number_of_channels) log var of x_decoded_ijk pixel-channel (x_decoded_log_var_ijk)\n",
        "        t_mean: (batch_size x latent_dim) mean vector of the (normal) distribution q(t | x) (t_mean_i)\n",
        "        t_log_var: (batch_size x latent_dim) logarithm of the variance vector of the (normal) distribution q(t | x) (t_log_var_i)\n",
        "    \n",
        "    Returns:\n",
        "        A tf.Tensor with one element (averaged across the batch), VLB\n",
        "    \"\"\"\n",
        "    ### YOUR CODE HERE\n",
        "    M = int(x.shape[0])\n",
        "    \n",
        "    #!!!x_decoded_log_var is actually x_decoded_VAR!!!\n",
        "    log_likelihood = -0.5 * tf.reduce_sum(( tf.log(2*np.pi) + tf.math.log(x_decoded_log_var) + ((x - x_decoded_mean)**2) /  x_decoded_log_var)) \n",
        "    \n",
        "    KL = 0.5 * tf.reduce_sum(-t_log_var + tf.math.square(t_mean) + tf.math.exp(t_log_var) - 1)\n",
        "    \n",
        "    VLB = (log_likelihood - KL) / M\n",
        "\n",
        "    return -VLB"
      ],
      "execution_count": 0,
      "outputs": []
    },
    {
      "cell_type": "code",
      "metadata": {
        "id": "blcPoTfkhWo2",
        "colab_type": "code",
        "colab": {}
      },
      "source": [
        "def vlb_mse_kl(x, x_decoded_mean, t_mean, t_log_var, reconstruction_weight=1000):\n",
        "    \"\"\"Returns the value of negative Variational Lower Bound\n",
        "    \n",
        "    The inputs are tf.Tensor\n",
        "        x: (batch_size x number_of_pixels_height x number_of_pixels_width x number_of_channels) matrix with one image per row with flatten channels (x_ijk)\n",
        "        x_decoded_mean: (batch_size x number_of_pixels_height x number_of_pixels_width x number_of_channels) mean of the distribution p(x | t), real numbers from 0 to 1 (x_decoded_mean_ijk)\n",
        "        x_decoded_log_var: (batch_size x number_of_pixels_height x number_of_pixels_width x number_of_channels) log var of x_decoded_ijk pixel-channel (x_decoded_log_var_ijk)\n",
        "        t_mean: (batch_size x latent_dim) mean vector of the (normal) distribution q(t | x) (t_mean_i)\n",
        "        t_log_var: (batch_size x latent_dim) logarithm of the variance vector of the (normal) distribution q(t | x) (t_log_var_i)\n",
        "    \n",
        "    Returns:\n",
        "        A tf.Tensor with one element (averaged across the batch), VLB\n",
        "    \"\"\"\n",
        "    ### YOUR CODE HERE\n",
        "    M = int(x.shape[0])\n",
        "\n",
        "    log_likelihood = -0.5 * reconstruction_weight * tf.reduce_sum((x - x_decoded_mean)**2)\n",
        "    \n",
        "    KL = 0.5 * tf.reduce_sum(-t_log_var + tf.math.square(t_mean) + tf.math.exp(t_log_var) - 1)\n",
        "    \n",
        "    VLB = (log_likelihood - KL) / M\n",
        "\n",
        "    return -VLB"
      ],
      "execution_count": 0,
      "outputs": []
    },
    {
      "cell_type": "code",
      "metadata": {
        "id": "5B79BLsOVpgW",
        "colab_type": "code",
        "outputId": "2ef11d79-c658-47da-a320-76e27df7ffc2",
        "colab": {
          "base_uri": "https://localhost:8080/",
          "height": 34
        }
      },
      "source": [
        "# x = tf.constant(x_train_dense[:1])\n",
        "# x_decoded_mean = tf.math.abs(x)+0.1\n",
        "# x_decoded_log_var = tf.math.log(x_decoded_mean/10)\n",
        "# t_mean = tfd.MultivariateNormalDiag(loc=tf.zeros((100,3)))\n",
        "# t_mean = t_mean.sample()\n",
        "# t_log_var = tf.math.log(tf.math.abs(t_mean) / 10)\n",
        "# # sess.run( x )\n",
        "\n",
        "# sess.run(vlb_gaussian(x, x_decoded_mean, x_decoded_log_var, t_mean, t_log_var))"
      ],
      "execution_count": 0,
      "outputs": [
        {
          "output_type": "execute_result",
          "data": {
            "text/plain": [
              "-132.29288"
            ]
          },
          "metadata": {
            "tags": []
          },
          "execution_count": 176
        }
      ]
    },
    {
      "cell_type": "code",
      "metadata": {
        "id": "InWTMp1kIgts",
        "colab_type": "code",
        "colab": {}
      },
      "source": [
        "batch_size = 20\n",
        "cifar_dim = (32,32,3)\n",
        "latent_dim = 128 # d, dimensionality of the latent code t.\n",
        "epochs = 100\n",
        "learning_rate = 0.0001\n",
        "\n",
        "x_cifar = Input(batch_shape=(batch_size, *cifar_dim))\n",
        "\n",
        "def create_encoder_cifar(input_dim):\n",
        "  encoder = Sequential(name='encoder_cifar')\n",
        "  encoder.add(InputLayer(input_dim))\n",
        "  encoder.add(Conv2D(filters = 64, kernel_size=5, strides=2, padding='same',use_bias=False))\n",
        "  encoder.add(BatchNormalization(axis=-1))\n",
        "  encoder.add(Activation('relu'))\n",
        "  encoder.add(Conv2D(filters = 128, kernel_size=5, strides=2, padding='same',use_bias=False))\n",
        "  encoder.add(BatchNormalization(axis=-1))\n",
        "  encoder.add(Activation('relu'))\n",
        "  encoder.add(Flatten())\n",
        "  encoder.add(Dense(2 * latent_dim, name='output'))\n",
        "  return encoder\n",
        "\n",
        "get_t_mean = Lambda(lambda h: h[:, :latent_dim])\n",
        "get_t_log_var = Lambda(lambda h: h[:, latent_dim:])\n",
        "\n",
        "encoder_cifar = create_encoder_cifar(cifar_dim)\n",
        "\n",
        "h_cifar = encoder_cifar(x_cifar)\n",
        "\n",
        "t_mean_cifar = get_t_mean(h_cifar)\n",
        "t_log_var_cifar = get_t_log_var(h_cifar)\n",
        "\n",
        "# Sampling from the distribution \n",
        "#     q(t | x) = N(t_mean, exp(t_log_var))\n",
        "# with reparametrization trick.\n",
        "def sampling(args):\n",
        "    \"\"\"Returns sample from a distribution N(args[0], diag(args[1]))\n",
        "    \n",
        "    The sample should be computed with reparametrization trick.\n",
        "    \n",
        "    The inputs are tf.Tensor\n",
        "        args[0]: (batch_size x latent_dim) mean of the desired distribution\n",
        "        args[1]: (batch_size x latent_dim) logarithm of the variance vector of the desired distribution\n",
        "    \n",
        "    Returns:\n",
        "        A tf.Tensor of size (batch_size x latent_dim), the samples.\n",
        "    \"\"\"\n",
        "    t_mean, t_log_var = args\n",
        "    # YOUR CODE HERE\n",
        "    epsilon = tfd.MultivariateNormalDiag(loc=tf.zeros(t_mean.shape))\n",
        "    latent = tfp.bijectors.Affine(shift=t_mean,  scale_diag=tf.math.exp(.5 * t_log_var))\n",
        "    latent = latent(epsilon)\n",
        "    return latent.sample()\n",
        "\n",
        "t_cifar = Lambda(sampling)([t_mean_cifar, t_log_var_cifar])\n",
        "\n",
        "def create_decoder_cifar(input_dim):\n",
        "  decoder = Sequential(name='decoder_cifar')\n",
        "  decoder.add(InputLayer([input_dim]))\n",
        "  decoder.add(Dense(128 * 8 * 8))\n",
        "  decoder.add(Reshape((8, 8, 128)))\n",
        "  decoder.add(Conv2DTranspose(kernel_size=5, filters=128, strides=2, padding='same', use_bias=False, name='deconv'))\n",
        "  decoder.add(BatchNormalization(axis=-1))\n",
        "  decoder.add(Activation('relu'))\n",
        "  decoder.add(Conv2DTranspose(kernel_size=5, filters=64, strides=2,  use_bias=False, padding='same'))                                         \n",
        "  decoder.add(BatchNormalization(axis=-1))\n",
        "  decoder.add(Activation('relu'))\n",
        "  decoder.add(Conv2DTranspose(kernel_size=5, filters=3, padding='same'))\n",
        "  return decoder\n",
        "\n",
        "get_x_decoded_mean_cifar = Lambda(lambda x: tf.math.sigmoid(x[:,:,:,:3]))\n",
        "# # get_x_decoded_log_var_cifar1 = Lambda(lambda x: (x[:,:,:,3:]))\n",
        "# # get_x_decoded_log_var_cifar2 = Activation('sigmoid')\n",
        "\n",
        "decoder_cifar = create_decoder_cifar(latent_dim)\n",
        "\n",
        "out = decoder_cifar(t_cifar)\n",
        "\n",
        "x_decoded_mean_cifar = get_x_decoded_mean_cifar(out)\n",
        "# x_decoded_log_var_cifar = get_x_decoded_log_var_cifar1(out)\n",
        "# x_decoded_log_var_cifar = get_x_decoded_log_var_cifar2(x_decoded_log_var_cifar1)"
      ],
      "execution_count": 0,
      "outputs": []
    },
    {
      "cell_type": "code",
      "metadata": {
        "id": "GBIIR2I4g-2l",
        "colab_type": "code",
        "colab": {}
      },
      "source": [
        "loss_cifar = vlb_mse_kl(x_cifar, x_decoded_mean_cifar,  t_mean_cifar, t_log_var_cifar, reconstruction_weight=1)\n",
        "\n",
        "vae_cifar = Model(x_cifar, x_decoded_mean_cifar)\n",
        "# Keras will provide input (x) and output (x_decoded_mean) to the function that\n",
        "# should construct loss, but since our function also depends on other\n",
        "# things (e.g. t_means), it is easier to build the loss in advance and pass\n",
        "# a function that always returns it.\n",
        "vae_cifar.compile(optimizer=keras.optimizers.RMSprop(lr=learning_rate), loss=lambda x, y: loss_cifar)"
      ],
      "execution_count": 0,
      "outputs": []
    },
    {
      "cell_type": "code",
      "metadata": {
        "id": "staxYot2mabM",
        "colab_type": "code",
        "colab": {}
      },
      "source": [
        "# train the VAE on MNIST digits\n",
        "\n",
        "x_train_cifar = x_train_horses.astype('float32') / 255.\n",
        "x_test_cifar = x_test_horses.astype('float32') / 255.\n"
      ],
      "execution_count": 0,
      "outputs": []
    },
    {
      "cell_type": "code",
      "metadata": {
        "id": "SmWZUlGjh2td",
        "colab_type": "code",
        "outputId": "4630a841-dc58-4dbc-93dd-168910f6bad4",
        "colab": {
          "base_uri": "https://localhost:8080/",
          "height": 1000
        }
      },
      "source": [
        "hist_cifar = vae_cifar.fit(x=x_train_cifar, y=x_train_cifar,\n",
        "               shuffle=True,\n",
        "               epochs=epochs,\n",
        "               batch_size=batch_size,\n",
        "               validation_data=(x_test_cifar, x_test_cifar),\n",
        "               verbose=2)"
      ],
      "execution_count": 0,
      "outputs": [
        {
          "output_type": "stream",
          "text": [
            "Train on 5000 samples, validate on 1000 samples\n",
            "Epoch 1/100\n",
            " - 4s - loss: 88.3499 - val_loss: 78.9318\n",
            "Epoch 2/100\n",
            " - 3s - loss: 68.4527 - val_loss: 71.2404\n",
            "Epoch 3/100\n",
            " - 3s - loss: 63.6617 - val_loss: 61.9479\n",
            "Epoch 4/100\n",
            " - 3s - loss: 60.4891 - val_loss: 59.6238\n",
            "Epoch 5/100\n",
            " - 3s - loss: 59.0623 - val_loss: 58.7684\n",
            "Epoch 6/100\n",
            " - 3s - loss: 58.1363 - val_loss: 57.0298\n",
            "Epoch 7/100\n",
            " - 3s - loss: 57.2407 - val_loss: 60.2964\n",
            "Epoch 8/100\n",
            " - 3s - loss: 56.5232 - val_loss: 56.1655\n",
            "Epoch 9/100\n",
            " - 3s - loss: 56.0453 - val_loss: 55.5266\n",
            "Epoch 10/100\n",
            " - 3s - loss: 55.6741 - val_loss: 57.0207\n",
            "Epoch 11/100\n",
            " - 3s - loss: 55.2470 - val_loss: 54.5692\n",
            "Epoch 12/100\n",
            " - 3s - loss: 55.1538 - val_loss: 54.7425\n",
            "Epoch 13/100\n",
            " - 3s - loss: 54.5699 - val_loss: 54.8554\n",
            "Epoch 14/100\n",
            " - 3s - loss: 54.4497 - val_loss: 53.8746\n",
            "Epoch 15/100\n",
            " - 3s - loss: 53.9812 - val_loss: 53.4587\n",
            "Epoch 16/100\n",
            " - 3s - loss: 53.9965 - val_loss: 53.3990\n",
            "Epoch 17/100\n",
            " - 3s - loss: 53.8532 - val_loss: 54.5828\n",
            "Epoch 18/100\n",
            " - 3s - loss: 53.4627 - val_loss: 53.7432\n",
            "Epoch 19/100\n",
            " - 3s - loss: 53.2526 - val_loss: 55.0439\n",
            "Epoch 20/100\n",
            " - 3s - loss: 53.2284 - val_loss: 52.9229\n",
            "Epoch 21/100\n",
            " - 3s - loss: 52.9391 - val_loss: 53.4293\n",
            "Epoch 22/100\n",
            " - 3s - loss: 52.8638 - val_loss: 53.5736\n",
            "Epoch 23/100\n",
            " - 3s - loss: 52.6662 - val_loss: 53.0650\n",
            "Epoch 24/100\n",
            " - 3s - loss: 52.5171 - val_loss: 53.0422\n",
            "Epoch 25/100\n",
            " - 3s - loss: 52.2780 - val_loss: 52.1291\n",
            "Epoch 26/100\n",
            " - 3s - loss: 52.2959 - val_loss: 52.5626\n",
            "Epoch 27/100\n",
            " - 3s - loss: 52.1089 - val_loss: 52.2959\n",
            "Epoch 28/100\n",
            " - 3s - loss: 52.0609 - val_loss: 52.2685\n",
            "Epoch 29/100\n",
            " - 3s - loss: 51.8761 - val_loss: 51.8916\n",
            "Epoch 30/100\n",
            " - 3s - loss: 51.9415 - val_loss: 52.2202\n",
            "Epoch 31/100\n",
            " - 3s - loss: 51.6772 - val_loss: 52.1084\n",
            "Epoch 32/100\n",
            " - 3s - loss: 51.6632 - val_loss: 52.4309\n",
            "Epoch 33/100\n",
            " - 3s - loss: 51.6790 - val_loss: 51.7572\n",
            "Epoch 34/100\n",
            " - 3s - loss: 51.2507 - val_loss: 51.2086\n",
            "Epoch 35/100\n",
            " - 3s - loss: 51.2690 - val_loss: 52.1038\n",
            "Epoch 36/100\n",
            " - 3s - loss: 51.0226 - val_loss: 51.5371\n",
            "Epoch 37/100\n",
            " - 3s - loss: 51.1397 - val_loss: 51.0649\n",
            "Epoch 38/100\n",
            " - 3s - loss: 50.8743 - val_loss: 51.2306\n",
            "Epoch 39/100\n",
            " - 3s - loss: 51.0138 - val_loss: 51.8732\n",
            "Epoch 40/100\n",
            " - 3s - loss: 50.8629 - val_loss: 51.0888\n",
            "Epoch 41/100\n",
            " - 3s - loss: 50.8369 - val_loss: 50.7882\n",
            "Epoch 42/100\n",
            " - 3s - loss: 50.6216 - val_loss: 50.5353\n",
            "Epoch 43/100\n",
            " - 3s - loss: 50.5789 - val_loss: 50.7866\n",
            "Epoch 44/100\n",
            " - 3s - loss: 50.8152 - val_loss: 51.7442\n",
            "Epoch 45/100\n",
            " - 3s - loss: 50.5714 - val_loss: 51.3343\n",
            "Epoch 46/100\n",
            " - 3s - loss: 50.4752 - val_loss: 50.7069\n",
            "Epoch 47/100\n",
            " - 3s - loss: 50.3686 - val_loss: 50.7171\n",
            "Epoch 48/100\n",
            " - 3s - loss: 50.3753 - val_loss: 50.6323\n",
            "Epoch 49/100\n",
            " - 3s - loss: 50.3441 - val_loss: 50.6242\n",
            "Epoch 50/100\n",
            " - 3s - loss: 50.3310 - val_loss: 50.5825\n",
            "Epoch 51/100\n",
            " - 3s - loss: 50.0710 - val_loss: 50.4073\n",
            "Epoch 52/100\n",
            " - 3s - loss: 50.2326 - val_loss: 50.2853\n",
            "Epoch 53/100\n",
            " - 3s - loss: 50.2556 - val_loss: 50.9378\n",
            "Epoch 54/100\n",
            " - 3s - loss: 50.1666 - val_loss: 50.3187\n",
            "Epoch 55/100\n",
            " - 3s - loss: 50.0419 - val_loss: 50.1351\n",
            "Epoch 56/100\n",
            " - 3s - loss: 50.0207 - val_loss: 50.1969\n",
            "Epoch 57/100\n",
            " - 3s - loss: 49.9076 - val_loss: 50.2870\n",
            "Epoch 58/100\n",
            " - 3s - loss: 49.8488 - val_loss: 50.1822\n",
            "Epoch 59/100\n",
            " - 3s - loss: 49.9222 - val_loss: 50.4627\n",
            "Epoch 60/100\n",
            " - 3s - loss: 49.9243 - val_loss: 50.1348\n",
            "Epoch 61/100\n",
            " - 3s - loss: 49.9365 - val_loss: 50.2016\n",
            "Epoch 62/100\n",
            " - 3s - loss: 49.8351 - val_loss: 49.9612\n",
            "Epoch 63/100\n",
            " - 3s - loss: 49.7122 - val_loss: 49.8769\n",
            "Epoch 64/100\n",
            " - 3s - loss: 49.7442 - val_loss: 50.4563\n",
            "Epoch 65/100\n",
            " - 3s - loss: 49.5976 - val_loss: 50.1094\n",
            "Epoch 66/100\n",
            " - 3s - loss: 49.7138 - val_loss: 50.1283\n",
            "Epoch 67/100\n",
            " - 3s - loss: 49.4903 - val_loss: 50.1780\n",
            "Epoch 68/100\n",
            " - 3s - loss: 49.5529 - val_loss: 50.3800\n",
            "Epoch 69/100\n",
            " - 3s - loss: 49.4082 - val_loss: 49.9571\n",
            "Epoch 70/100\n",
            " - 3s - loss: 49.3535 - val_loss: 50.0004\n",
            "Epoch 71/100\n",
            " - 3s - loss: 49.5260 - val_loss: 50.2810\n",
            "Epoch 72/100\n",
            " - 3s - loss: 49.4744 - val_loss: 50.2392\n",
            "Epoch 73/100\n",
            " - 3s - loss: 49.5166 - val_loss: 49.7986\n",
            "Epoch 74/100\n",
            " - 3s - loss: 49.5140 - val_loss: 49.7709\n",
            "Epoch 75/100\n",
            " - 3s - loss: 49.3418 - val_loss: 49.7719\n",
            "Epoch 76/100\n",
            " - 3s - loss: 49.4423 - val_loss: 50.0989\n",
            "Epoch 77/100\n",
            " - 3s - loss: 49.3617 - val_loss: 50.0079\n",
            "Epoch 78/100\n",
            " - 3s - loss: 49.2992 - val_loss: 49.6479\n",
            "Epoch 79/100\n",
            " - 3s - loss: 49.2640 - val_loss: 49.5638\n",
            "Epoch 80/100\n",
            " - 3s - loss: 49.2802 - val_loss: 49.8984\n",
            "Epoch 81/100\n",
            " - 3s - loss: 49.1613 - val_loss: 50.4911\n",
            "Epoch 82/100\n",
            " - 3s - loss: 49.1298 - val_loss: 49.9570\n",
            "Epoch 83/100\n",
            " - 3s - loss: 49.1935 - val_loss: 50.4343\n",
            "Epoch 84/100\n",
            " - 3s - loss: 49.1953 - val_loss: 49.7978\n",
            "Epoch 85/100\n",
            " - 3s - loss: 49.0926 - val_loss: 49.7435\n",
            "Epoch 86/100\n",
            " - 3s - loss: 49.1065 - val_loss: 49.7559\n",
            "Epoch 87/100\n",
            " - 3s - loss: 49.0909 - val_loss: 49.6542\n",
            "Epoch 88/100\n",
            " - 3s - loss: 49.1701 - val_loss: 49.9525\n",
            "Epoch 89/100\n",
            " - 3s - loss: 49.1155 - val_loss: 49.6612\n",
            "Epoch 90/100\n",
            " - 3s - loss: 49.1466 - val_loss: 49.7960\n",
            "Epoch 91/100\n",
            " - 3s - loss: 49.1180 - val_loss: 49.5221\n",
            "Epoch 92/100\n",
            " - 3s - loss: 48.9362 - val_loss: 49.6423\n",
            "Epoch 93/100\n",
            " - 3s - loss: 48.8915 - val_loss: 49.6932\n",
            "Epoch 94/100\n",
            " - 3s - loss: 48.9644 - val_loss: 49.7985\n",
            "Epoch 95/100\n",
            " - 3s - loss: 48.9326 - val_loss: 49.5213\n",
            "Epoch 96/100\n",
            " - 3s - loss: 48.9905 - val_loss: 50.2461\n",
            "Epoch 97/100\n",
            " - 3s - loss: 48.8242 - val_loss: 49.9146\n",
            "Epoch 98/100\n",
            " - 3s - loss: 48.9029 - val_loss: 49.5545\n",
            "Epoch 99/100\n",
            " - 3s - loss: 48.7812 - val_loss: 49.7368\n",
            "Epoch 100/100\n",
            " - 3s - loss: 48.8710 - val_loss: 49.7402\n"
          ],
          "name": "stdout"
        }
      ]
    },
    {
      "cell_type": "code",
      "metadata": {
        "id": "WPIkd5J9x6Tv",
        "colab_type": "code",
        "outputId": "d75fa024-9e6e-4cf4-dfaf-48b0fd2b72b0",
        "colab": {
          "base_uri": "https://localhost:8080/",
          "height": 266
        }
      },
      "source": [
        "plt.imshow(sess.run(x_decoded_mean_cifar, feed_dict={x_cifar: x_train_cifar[:10]})[4])\n",
        "plt.show()"
      ],
      "execution_count": 0,
      "outputs": [
        {
          "output_type": "display_data",
          "data": {
            "image/png": "[encoded data removed]",
            "text/plain": [
              "<Figure size 432x288 with 1 Axes>"
            ]
          },
          "metadata": {
            "tags": []
          }
        }
      ]
    },
    {
      "cell_type": "code",
      "metadata": {
        "id": "vTq8BI-5CZDv",
        "colab_type": "code",
        "outputId": "34407fe6-32ba-4923-d900-e87262a1344f",
        "colab": {
          "base_uri": "https://localhost:8080/",
          "height": 266
        }
      },
      "source": [
        "plt.imshow(x_train_cifar[4])\n",
        "plt.show()"
      ],
      "execution_count": 0,
      "outputs": [
        {
          "output_type": "display_data",
          "data": {
            "image/png": "[encoded data removed]",
            "text/plain": [
              "<Figure size 432x288 with 1 Axes>"
            ]
          },
          "metadata": {
            "tags": []
          }
        }
      ]
    },
    {
      "cell_type": "code",
      "metadata": {
        "id": "ZwpHTxrtWOpN",
        "colab_type": "code",
        "outputId": "2756d528-0c33-42fe-9db0-7c09b6a3f355",
        "colab": {
          "base_uri": "https://localhost:8080/",
          "height": 248
        }
      },
      "source": [
        "n_samples = 1  # To pass automatic grading please use at least 2 samples here.\n",
        "# YOUR CODE HERE.\n",
        "\n",
        "prior_t = tfd.MultivariateNormalDiag(loc=tf.zeros([n_samples,latent_dim]))\n",
        "sample_t = prior_t.sample()\n",
        "# print(sess.run(sample_t))\n",
        "sampled_im_mean = decoder_cifar(sample_t)\n",
        "sampled_im_mean = get_x_decoded_mean_cifar(sampled_im_mean)\n",
        "sampled_im_mean_np = sess.run(sampled_im_mean)\n",
        "# Show the sampled images.\n",
        "plt.figure()\n",
        "for i in range(n_samples):\n",
        "    ax = plt.subplot(n_samples, 1, i + 1)\n",
        "    plt.imshow(sampled_im_mean_np[i, :])\n",
        "    ax.axis('off')\n",
        "plt.show()"
      ],
      "execution_count": 0,
      "outputs": [
        {
          "output_type": "display_data",
          "data": {
            "image/png": "[encoded data removed]",
            "text/plain": [
              "<Figure size 432x288 with 1 Axes>"
            ]
          },
          "metadata": {
            "tags": []
          }
        }
      ]
    },
    {
      "cell_type": "code",
      "metadata": {
        "id": "lTahZD-quYIl",
        "colab_type": "code",
        "colab": {}
      },
      "source": [
        "batch_size = 100\n",
        "original_dim = 784 # Number of pixels in MNIST images.\n",
        "latent_dim = 100 # d, dimensionality of the latent code t.\n",
        "intermediate_dim = 512 # Size of the hidden layer.\n",
        "\n",
        "learning_rate = 0.001\n",
        "epochs = 20\n",
        "\n",
        "def create_encoder(input_dim):\n",
        "    encoder = Sequential(name='encoder')\n",
        "    encoder.add(InputLayer([input_dim]))\n",
        "    encoder.add(Dense(intermediate_dim, activation='relu'))\n",
        "    encoder.add(Dense(intermediate_dim, activation='relu'))\n",
        "    encoder.add(Dense(2 * latent_dim))\n",
        "    return encoder\n",
        "\n",
        "def sampling(args):\n",
        "    var = args\n",
        "    epsilon = tfd.MultivariateNormalDiag(loc=tf.zeros(t_mean.shape))\n",
        "    latent = tfp.bijectors.Affine(shift=t_mean,  scale_diag=tf.math.exp(.5 * t_log_var))\n",
        "    latent = latent(epsilon)\n",
        "    return latent.sample()\n",
        "\n",
        "def create_decoder(input_dim):\n",
        "    decoder = Sequential(name='decoder')\n",
        "    decoder.add(InputLayer([input_dim]))\n",
        "    decoder.add(Dense(intermediate_dim, activation='relu'))\n",
        "    decoder.add(Dense(intermediate_dim, activation='relu'))\n",
        "    decoder.add(Dense(2 * original_dim))\n",
        "    return decoder\n",
        "\n",
        "get_t_mean = Lambda(lambda h: h[:,:latent_dim])\n",
        "get_t_log_var = Lambda(lambda h: h[:, latent_dim:])\n",
        "\n",
        "get_x_decoded_mean = Lambda(lambda h: tf.math.sigmoid(h[:, :original_dim]))\n",
        "get_x_decoded_log_var = Lambda(lambda h: 0.1 * tf.math.sigmoid(h[:, original_dim:]))\n",
        "\n",
        "x = Input(batch_shape=(batch_size, original_dim))\n",
        "encoder = create_encoder(original_dim)\n",
        "sampling = Lambda(sampling)\n",
        "decoder = create_decoder(latent_dim)\n",
        "\n",
        "h = encoder(x)\n",
        "t_mean = get_t_mean(h)\n",
        "t_log_var = get_t_log_var(h)\n",
        "t = sampling([t_mean, t_log_var])\n",
        "out = decoder(t)\n",
        "x_decoded_mean = get_x_decoded_mean(out)\n",
        "x_decoded_log_var = get_x_decoded_log_var(out)\n"
      ],
      "execution_count": 0,
      "outputs": []
    },
    {
      "cell_type": "code",
      "metadata": {
        "id": "dpcWzUXh9Akv",
        "colab_type": "code",
        "colab": {}
      },
      "source": [
        "loss = vlb_gaussian(x, x_decoded_mean, x_decoded_log_var, t_mean, t_log_var)\n",
        "vae = Model(x, x_decoded_mean)\n",
        "vae.compile(optimizer=keras.optimizers.RMSprop(lr=learning_rate), loss=lambda x, y: loss)"
      ],
      "execution_count": 0,
      "outputs": []
    },
    {
      "cell_type": "markdown",
      "metadata": {
        "id": "L9V-W5gixPoS",
        "colab_type": "text"
      },
      "source": [
        ""
      ]
    },
    {
      "cell_type": "code",
      "metadata": {
        "id": "lCqm_kG6SVox",
        "colab_type": "code",
        "colab": {}
      },
      "source": [
        "(x_train, y_train), (x_test, y_test) = mnist.load_data()\n",
        "\n",
        "y_train_dense = np_utils.to_categorical(y_train)\n",
        "y_test_dense = np_utils.to_categorical(y_test)\n",
        "\n",
        "x_train = x_train.astype('float32') / 255.\n",
        "x_test = x_test.astype('float32') / 255.\n",
        "x_train_dense = x_train.reshape((len(x_train), np.prod(x_train.shape[1:])))\n",
        "x_test_dense = x_test.reshape((len(x_test), np.prod(x_test.shape[1:])))"
      ],
      "execution_count": 0,
      "outputs": []
    },
    {
      "cell_type": "code",
      "metadata": {
        "id": "Z0eGkMUpSk8H",
        "colab_type": "code",
        "outputId": "91b7b497-07fb-4ae8-9123-efe3f18dd360",
        "colab": {
          "base_uri": "https://localhost:8080/",
          "height": 706
        }
      },
      "source": [
        "hist = vae.fit(x=x_train_dense, y=x_train_dense,\n",
        "               shuffle=True,\n",
        "               epochs=epochs,\n",
        "               batch_size=batch_size,\n",
        "               validation_data=(x_test_dense, x_test_dense),\n",
        "               verbose=2)"
      ],
      "execution_count": 0,
      "outputs": [
        {
          "output_type": "stream",
          "text": [
            "Train on 60000 samples, validate on 10000 samples\n",
            "Epoch 1/20\n",
            " - 5s - loss: 746.1654 - val_loss: 744.9329\n",
            "Epoch 2/20\n",
            " - 3s - loss: 744.0440 - val_loss: 743.0832\n",
            "Epoch 3/20\n",
            " - 3s - loss: 742.1737 - val_loss: 741.3251\n",
            "Epoch 4/20\n",
            " - 3s - loss: 741.0476 - val_loss: 740.5535\n",
            "Epoch 5/20\n",
            " - 3s - loss: 740.5250 - val_loss: 740.3891\n",
            "Epoch 6/20\n",
            " - 3s - loss: 740.2328 - val_loss: 740.0032\n",
            "Epoch 7/20\n",
            " - 4s - loss: 740.0072 - val_loss: 739.8477\n",
            "Epoch 8/20\n",
            " - 3s - loss: 739.8328 - val_loss: 739.7352\n",
            "Epoch 9/20\n",
            " - 4s - loss: 739.7321 - val_loss: 739.6448\n",
            "Epoch 10/20\n",
            " - 3s - loss: 739.6340 - val_loss: 739.5579\n",
            "Epoch 11/20\n",
            " - 3s - loss: 739.5678 - val_loss: 739.4198\n",
            "Epoch 12/20\n",
            " - 3s - loss: 739.4897 - val_loss: 739.3713\n",
            "Epoch 13/20\n",
            " - 3s - loss: 739.4355 - val_loss: 739.2815\n",
            "Epoch 14/20\n",
            " - 3s - loss: 739.3721 - val_loss: 739.4581\n",
            "Epoch 15/20\n",
            " - 3s - loss: 739.3343 - val_loss: 739.2501\n",
            "Epoch 16/20\n",
            " - 3s - loss: 739.2954 - val_loss: 739.3147\n",
            "Epoch 17/20\n",
            " - 3s - loss: 739.2696 - val_loss: 739.1382\n",
            "Epoch 18/20\n",
            " - 3s - loss: 739.2416 - val_loss: 739.2213\n",
            "Epoch 19/20\n",
            " - 3s - loss: 739.2131 - val_loss: 739.2418\n",
            "Epoch 20/20\n",
            " - 3s - loss: 739.1885 - val_loss: 739.1445\n"
          ],
          "name": "stdout"
        }
      ]
    },
    {
      "cell_type": "code",
      "metadata": {
        "id": "aXsSljjxStdh",
        "colab_type": "code",
        "outputId": "87046b78-db9f-4969-ac09-8e77b42dd3b0",
        "colab": {
          "base_uri": "https://localhost:8080/",
          "height": 591
        }
      },
      "source": [
        "fig = plt.figure(figsize=(10, 10))\n",
        "for fid_idx, (data, title) in enumerate(\n",
        "            zip([x_train_dense, x_test_dense], ['Train', 'Validation'])):\n",
        "    n = 10  # figure with 10 x 2 digits\n",
        "    digit_size = 28\n",
        "    figure = np.zeros((digit_size * n, digit_size * 2))\n",
        "    decoded = sess.run(x_decoded_mean, feed_dict={x: data[:batch_size, :]})\n",
        "    for i in range(10):\n",
        "        figure[i * digit_size: (i + 1) * digit_size,\n",
        "               :digit_size] = data[i, :].reshape(digit_size, digit_size)\n",
        "        figure[i * digit_size: (i + 1) * digit_size,\n",
        "               digit_size:] = decoded[i, :].reshape(digit_size, digit_size)\n",
        "    ax = fig.add_subplot(1, 2, fid_idx + 1)\n",
        "    ax.imshow(figure, cmap='Greys_r')\n",
        "    ax.set_title(title)\n",
        "    ax.axis('off')\n",
        "plt.show()"
      ],
      "execution_count": 0,
      "outputs": [
        {
          "output_type": "display_data",
          "data": {
            "image/png": "[encoded data removed]",
            "text/plain": [
              "<Figure size 720x720 with 2 Axes>"
            ]
          },
          "metadata": {
            "tags": []
          }
        }
      ]
    },
    {
      "cell_type": "code",
      "metadata": {
        "id": "ikg4PgsxS8Hk",
        "colab_type": "code",
        "colab": {}
      },
      "source": [
        ""
      ],
      "execution_count": 0,
      "outputs": []
    }
  ]
}